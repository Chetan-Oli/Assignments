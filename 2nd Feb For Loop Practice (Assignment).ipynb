{
 "cells": [
  {
   "cell_type": "markdown",
   "id": "915ca74d-0bbf-464b-8d0d-5e7cbb5952cd",
   "metadata": {
    "tags": []
   },
   "source": [
    "# 2nd Feb | For Loop Practice | (Assignment)"
   ]
  },
  {
   "cell_type": "markdown",
   "id": "14f8b557-8767-4150-b238-99cebb20cdc6",
   "metadata": {},
   "source": [
    "### Q1. Explain with an example each when to use a for loop and a while loop."
   ]
  },
  {
   "cell_type": "markdown",
   "id": "3c68a988-ea92-4f1d-9042-5ba0f333f821",
   "metadata": {},
   "source": [
    "Answer 1. FOR LOOP:-\n",
    "\n",
    "For loop is used when the number of iterations is already known.\n",
    "\n",
    "Ex- Let's say, we are searching for Samsung smartphones on a shopping app and a list consist of the total no. of Samsung smartphones on sale appears, each phone with it's unique specifications, image and other informations. Here we will see that for every smartphone, one thing will be exactly the same which is the format of presentation. Every phone will be presented in the exact same way, like there will be a specific space and dimension for image, specific for name, specific for specifications etc. So for implementing the repetition of the format where total no. of Samsung smartphones is specified, For loop will be used.\n",
    "\n",
    "\n",
    "WHILE LOOP:-\n",
    "\n",
    "While loop is used when the number of iterations is unknown.\n",
    "\n",
    "Ex- Let's say, we search for out of stock items on a shopping app and a list consist of every out of stock items will appear. But the total no. of out of stock items will never be specific. To deal with the situations where total no. of items is unspecified, While loop will be used."
   ]
  },
  {
   "cell_type": "markdown",
   "id": "b3e9eb54-7c11-417f-a17f-9dbce0bdaf33",
   "metadata": {
    "tags": []
   },
   "source": [
    "### Q2.  Write a python program to print the sum and product of the first 10 natural numbers using for and while loop."
   ]
  },
  {
   "cell_type": "code",
   "execution_count": 11,
   "id": "60250a1a-2dfc-4ccd-bd5f-5cbc12bd922b",
   "metadata": {},
   "outputs": [
    {
     "name": "stdout",
     "output_type": "stream",
     "text": [
      "The sum of first 10 natural numbers is 55\n",
      "The multiplication of first 10 natural numbers is 3628800\n"
     ]
    }
   ],
   "source": [
    "# Answer 2. For loop\n",
    "addition = 0\n",
    "product = 1\n",
    "\n",
    "for i in range(1,11):\n",
    "    addition = addition + i\n",
    "    product = product * i\n",
    "\n",
    "print(\"The sum of first 10 natural numbers is\",addition)\n",
    "print(\"The multiplication of first 10 natural numbers is\",product)"
   ]
  },
  {
   "cell_type": "code",
   "execution_count": 12,
   "id": "0acedcef-8bbe-4386-a98e-a20bbdff7233",
   "metadata": {},
   "outputs": [
    {
     "name": "stdout",
     "output_type": "stream",
     "text": [
      "The sum of first 10 natural numbers is 55\n",
      "The multiplication of first 10 natural numbers is 3628800\n"
     ]
    }
   ],
   "source": [
    "# Answer 2. While loop\n",
    "addition = 0\n",
    "product = 1\n",
    "i = 1\n",
    "\n",
    "while i < 11:\n",
    "    addition = addition + i\n",
    "    product = product * i\n",
    "    i = i + 1\n",
    "    \n",
    "print(\"The sum of first 10 natural numbers is\",addition)\n",
    "print(\"The multiplication of first 10 natural numbers is\",product)"
   ]
  },
  {
   "cell_type": "markdown",
   "id": "47fc216d-0bdd-48a9-a15c-0cbf820cb85b",
   "metadata": {},
   "source": [
    "### Q3. Create a python program to compute the electricity bill for a household.\n",
    "\n",
    "### The per-unit charges in rupees are as follows: For the first 100 units, the user will be charged Rs. 4.5 per unit, for the next 100 units, the user will be charged Rs. 6 per unit, and for the next 100 units, the user will be charged Rs. 10 per unit, After 300 units and above the user will be charged Rs. 20 per unit.\n",
    "\n",
    "### You are required to take the units of electricity consumed in a month from the user as input.\n",
    "\n",
    "### Your program must pass this test case: when the unit of electricity consumed by the user in a month is 310, the total electricity bill should be 2250."
   ]
  },
  {
   "cell_type": "code",
   "execution_count": 9,
   "id": "3fcb42e3-ac94-496c-a092-378d36c95525",
   "metadata": {},
   "outputs": [
    {
     "name": "stdin",
     "output_type": "stream",
     "text": [
      "Enter the units of electricity consumed in a month: 310\n"
     ]
    },
    {
     "name": "stdout",
     "output_type": "stream",
     "text": [
      "As the unit of electricity consumed by the user in a month is 310.0 , the total electricity bill should be: Rs 2250.0\n"
     ]
    }
   ],
   "source": [
    "# Answer 3.\n",
    "unit = float(input(\"Enter the units of electricity consumed in a month:\"))\n",
    "\n",
    "total = 0\n",
    "\n",
    "if unit <= 100:\n",
    "    total = unit * 4.5\n",
    "    \n",
    "elif unit > 100 and unit <= 200:\n",
    "    total = 450 + (unit - 100) * 6\n",
    "    \n",
    "elif unit > 200 and unit <= 300:\n",
    "    total = 450 + 600 + (unit - 200) * 10\n",
    "    \n",
    "elif unit > 300:\n",
    "    total = 450 + 600 + 1000 + (unit - 300) * 20\n",
    "    \n",
    "print(\"As the unit of electricity consumed by the user in a month is\",unit,\", the total electricity bill should be: Rs\",total)"
   ]
  },
  {
   "cell_type": "markdown",
   "id": "43218288-ae06-4483-8df4-99d480d17e05",
   "metadata": {},
   "source": [
    "### Q4. Create a list of numbers from 1 to 100. Use for loop and while loop to calculate the cube of each number and if the cube of that number is divisible by 4 or 5 then append that number in a list and print that list."
   ]
  },
  {
   "cell_type": "code",
   "execution_count": 9,
   "id": "336d4679-6624-4d0e-a6cc-daf20e9254dc",
   "metadata": {},
   "outputs": [
    {
     "name": "stdout",
     "output_type": "stream",
     "text": [
      "Numbers whose cubes are divisible by 4 or 5 are: [2, 4, 5, 6, 8, 10, 12, 14, 15, 16, 18, 20, 22, 24, 25, 26, 28, 30, 32, 34, 35, 36, 38, 40, 42, 44, 45, 46, 48, 50, 52, 54, 55, 56, 58, 60, 62, 64, 65, 66, 68, 70, 72, 74, 75, 76, 78, 80, 82, 84, 85, 86, 88, 90, 92, 94, 95, 96, 98, 100]\n"
     ]
    }
   ],
   "source": [
    "# Answer 4. For loop\n",
    "\n",
    "l = []\n",
    "cube = 0\n",
    "\n",
    "for i in range(1,101):\n",
    "    cube = i ** 3\n",
    "    if cube % 4 == 0 or cube % 5 == 0:\n",
    "        l.append(i)\n",
    "print(\"Numbers whose cubes are divisible by 4 or 5 are:\",l)   "
   ]
  },
  {
   "cell_type": "code",
   "execution_count": 10,
   "id": "4bb76189-031f-4c79-9b9a-d259a0b7145a",
   "metadata": {},
   "outputs": [
    {
     "name": "stdout",
     "output_type": "stream",
     "text": [
      "Numbers whose cubes are divisible by 4 or 5 are: [2, 4, 5, 6, 8, 10, 12, 14, 15, 16, 18, 20, 22, 24, 25, 26, 28, 30, 32, 34, 35, 36, 38, 40, 42, 44, 45, 46, 48, 50, 52, 54, 55, 56, 58, 60, 62, 64, 65, 66, 68, 70, 72, 74, 75, 76, 78, 80, 82, 84, 85, 86, 88, 90, 92, 94, 95, 96, 98, 100]\n"
     ]
    }
   ],
   "source": [
    "# Answer 4. While loop\n",
    "\n",
    "l = []\n",
    "cube = 0\n",
    "i = 1\n",
    "\n",
    "while i < 101:\n",
    "    cube = i ** 3\n",
    "    if cube % 4 == 0 or cube % 5 == 0:\n",
    "        l.append(i)\n",
    "\n",
    "    i = i + 1\n",
    "print(\"Numbers whose cubes are divisible by 4 or 5 are:\",l)   "
   ]
  },
  {
   "cell_type": "markdown",
   "id": "e74fc76c-a8ae-4386-9b84-e52025d07213",
   "metadata": {},
   "source": [
    "### Q5.  Write a program to filter count vowels in the below-given string.\n",
    "\n",
    "### string = \"I want to become a data scientist\""
   ]
  },
  {
   "cell_type": "code",
   "execution_count": 21,
   "id": "17c0cf1a-6165-485f-b1c1-6b89c027ee26",
   "metadata": {},
   "outputs": [
    {
     "name": "stdout",
     "output_type": "stream",
     "text": [
      "Vowels in the below string are: 12\n"
     ]
    }
   ],
   "source": [
    "# Answer 5.\n",
    "string = \"I want to become a data scientist\"\n",
    "\n",
    "count = 0\n",
    "vowels = [\"a\", \"e\", \"i\", \"o\", \"u\",\"A\",\"E\",\"I\",\"O\",\"U\"]\n",
    "\n",
    "for i in range(len(string)):\n",
    "    if string[i] in vowels:\n",
    "        count += 1\n",
    "        \n",
    "print(\"Vowels in the below string are:\",count)"
   ]
  },
  {
   "cell_type": "code",
   "execution_count": null,
   "id": "781cf7f7-5ab4-4fd8-ba89-0f99b29efc78",
   "metadata": {},
   "outputs": [],
   "source": []
  }
 ],
 "metadata": {
  "kernelspec": {
   "display_name": "Python 3 (ipykernel)",
   "language": "python",
   "name": "python3"
  },
  "language_info": {
   "codemirror_mode": {
    "name": "ipython",
    "version": 3
   },
   "file_extension": ".py",
   "mimetype": "text/x-python",
   "name": "python",
   "nbconvert_exporter": "python",
   "pygments_lexer": "ipython3",
   "version": "3.10.8"
  }
 },
 "nbformat": 4,
 "nbformat_minor": 5
}
