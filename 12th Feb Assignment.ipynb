{
 "cells": [
  {
   "cell_type": "markdown",
   "id": "2c389ac4-404e-43ce-80b4-5231bf1956d1",
   "metadata": {},
   "source": [
    "# 12th Feb | Assignment"
   ]
  },
  {
   "cell_type": "markdown",
   "id": "a52108fd-97bd-4006-898d-207fb533ae3a",
   "metadata": {},
   "source": [
    "### Q1. What is an Exception in python? Write the difference between Exceptions and Syntax errors."
   ]
  },
  {
   "cell_type": "markdown",
   "id": "338eadb5-4d44-4ab7-88a9-39d84dddc58c",
   "metadata": {},
   "source": [
    "Answer 1:-\n",
    "\n",
    "An exception is an event, which occurs during the execution of a program that disrupts the normal flow of the program's instructions.<br>\n",
    "In general, when a Python script encounters a situation that it cannot cope with, it raises an exception. An exception is a Python object that represents an error.   \n",
    "\n",
    "An error is an issue in a program that prevents the program from completing its task. In comparison, an exception is a condition that interrupts the normal flow of the program. Both errors and exceptions are a type of runtime error, which means they occur during the execution of a program. <br>\n",
    "In simple words, the error is a critical issue that a normal application should not catch, while an exception is a condition that a program should catch. "
   ]
  },
  {
   "cell_type": "markdown",
   "id": "4c6aeff9-f77d-4862-9111-0144dae4aa09",
   "metadata": {},
   "source": [
    "### Q2. What happens when an exception is not handled? Explain with an example."
   ]
  },
  {
   "cell_type": "markdown",
   "id": "f67f6210-6a50-4048-a7ad-21eebd7f7c2d",
   "metadata": {},
   "source": [
    "Answer 2:-\n",
    "\n",
    "If an exception is not handled, the runtime system will abort the program (i.e. crash) and an exception message will print to the console. The message typically includes:\n",
    "- name of exception type\n",
    "- short description\n",
    "- stack trace\n",
    "\n",
    "For an unchecked exception (runtime exception), there's no compiler enforcement.\n",
    "- Runtime exceptions could occur anywhere, arising automatically.\n",
    "- It can usually be fixed by better coding\n",
    "- Examples: Division by zero, array index out of bounds, null pointer exception"
   ]
  },
  {
   "cell_type": "code",
   "execution_count": 1,
   "id": "bd22b711-527d-4edd-ad43-530480a4e275",
   "metadata": {},
   "outputs": [],
   "source": [
    "import logging\n",
    "logging.basicConfig(filename = \"test1.log\",level = logging.INFO, format = \"%(asctime)s %(message)s\")"
   ]
  },
  {
   "cell_type": "code",
   "execution_count": 2,
   "id": "52b90f1a-3711-44c4-83c4-823801c00626",
   "metadata": {},
   "outputs": [
    {
     "ename": "ZeroDivisionError",
     "evalue": "division by zero",
     "output_type": "error",
     "traceback": [
      "\u001b[0;31m---------------------------------------------------------------------------\u001b[0m",
      "\u001b[0;31mZeroDivisionError\u001b[0m                         Traceback (most recent call last)",
      "Cell \u001b[0;32mIn[2], line 5\u001b[0m\n\u001b[1;32m      2\u001b[0m denominator \u001b[38;5;241m=\u001b[39m \u001b[38;5;241m0\u001b[39m\n\u001b[1;32m      3\u001b[0m logging\u001b[38;5;241m.\u001b[39minfo(\u001b[38;5;124m\"\u001b[39m\u001b[38;5;124mHere are the details\u001b[39m\u001b[38;5;124m\"\u001b[39m)\n\u001b[0;32m----> 5\u001b[0m result \u001b[38;5;241m=\u001b[39m \u001b[43mnumerator\u001b[49m\u001b[38;5;241;43m/\u001b[39;49m\u001b[43mdenominator\u001b[49m\n\u001b[1;32m      6\u001b[0m logging\u001b[38;5;241m.\u001b[39minfo(\u001b[38;5;124m\"\u001b[39m\u001b[38;5;124mMy final result is \u001b[39m\u001b[38;5;132;01m{}\u001b[39;00m\u001b[38;5;124m\"\u001b[39m\u001b[38;5;241m.\u001b[39mformat(result))\n\u001b[1;32m      7\u001b[0m \u001b[38;5;28mprint\u001b[39m(result)\n",
      "\u001b[0;31mZeroDivisionError\u001b[0m: division by zero"
     ]
    }
   ],
   "source": [
    "numerator = 10\n",
    "denominator = 0\n",
    "logging.info(\"Here are the details\")\n",
    "\n",
    "result = numerator/denominator\n",
    "logging.info(\"My final result is {}\".format(result))\n",
    "print(result)\n",
    "             \n",
    "logging.shutdown()"
   ]
  },
  {
   "cell_type": "markdown",
   "id": "afd3105a-5a9f-4f3b-b6f4-90fa0c5403f1",
   "metadata": {},
   "source": [
    "### Q3. Which Python statements are used to catch and handle exceptions? Explain with an example."
   ]
  },
  {
   "cell_type": "markdown",
   "id": "6f9ba95c-70a6-43c9-80f2-ed585e9ea966",
   "metadata": {},
   "source": [
    "Answer 3:-\n",
    "\n",
    "The try...except block is used to handle exceptions in Python. Every try block is followed by an except block. <br>\n",
    "To handle the exception, we have put the code inside the try block. Now when an exception occurs, the rest of the code inside the try block is skipped. The except block catches the exception and statements inside the except block are executed. The except block cannot be used without the try block. If none of the statements in the try block generates an exception, the except block is skipped."
   ]
  },
  {
   "cell_type": "code",
   "execution_count": 1,
   "id": "48f02207-4c60-46c9-ada4-fb4d117b0f26",
   "metadata": {},
   "outputs": [],
   "source": [
    "import logging\n",
    "logging.basicConfig(filename = \"test2.log\",level = logging.INFO, format = \"%(asctime)s %(message)s\")"
   ]
  },
  {
   "cell_type": "code",
   "execution_count": 2,
   "id": "e57d1d48-22dc-4c22-9a85-2a327407da58",
   "metadata": {},
   "outputs": [
    {
     "name": "stdout",
     "output_type": "stream",
     "text": [
      "Error: Denominator cannot be 0.\n"
     ]
    }
   ],
   "source": [
    "try:\n",
    "    numerator = 10\n",
    "    denominator = 0\n",
    "    logging.info(\"Here are the details\")\n",
    "    \n",
    "    result = numerator/denominator\n",
    "    logging.info(\"My final result is {} if denominator is not 0\".format(result))\n",
    "    print(result)\n",
    "    \n",
    "except:\n",
    "    logging.error(\"Denominator cannot be 0\")\n",
    "    print(\"Error: Denominator cannot be 0.\")\n",
    "    \n",
    "logging.shutdown()"
   ]
  },
  {
   "cell_type": "markdown",
   "id": "aa05f093-3f21-4420-9209-10a2272d278a",
   "metadata": {},
   "source": [
    "### Q4. Explain with an example:\n",
    "- ### a. try and else\n",
    "- ### b. finally \n",
    "- ### c. raise"
   ]
  },
  {
   "cell_type": "markdown",
   "id": "7e44800d-da4d-4701-930e-79c43fcf6ed4",
   "metadata": {},
   "source": [
    "Answer 4:-\n",
    "\n",
    "a) Try and Else\n",
    "\n",
    "The try and Else are methods used in exception handling.\n",
    "- The try block lets you test a block of code for errors.\n",
    "- The else block lets you execute code when there is no error."
   ]
  },
  {
   "cell_type": "code",
   "execution_count": 1,
   "id": "93795f4a-38b1-4abf-8084-fca63773296a",
   "metadata": {},
   "outputs": [],
   "source": [
    "import logging\n",
    "logging.basicConfig(filename = \"test3.log\",level = logging.INFO, format = \"%(asctime)s %(message)s\")"
   ]
  },
  {
   "cell_type": "code",
   "execution_count": 2,
   "id": "29eb6854-6009-42e9-a5cd-566682cf8379",
   "metadata": {},
   "outputs": [],
   "source": [
    "def divide(x,y):\n",
    "    \n",
    "    try:\n",
    "        result = x / y\n",
    "        logging.info(\"This is the action to be taken\")\n",
    "        \n",
    "    except:\n",
    "        logging.error(\"The denominator cannot be zero\")\n",
    "        print(\"The denominator cannot be zero\")\n",
    "        \n",
    "    else:\n",
    "        logging.info(\"Your result is: {}\".format(result))\n",
    "        print(\"Your result is:\",result)\n",
    "        \n",
    "logging.shutdown()"
   ]
  },
  {
   "cell_type": "code",
   "execution_count": 3,
   "id": "be7c4035-a76b-41aa-9047-1ef625ce8c40",
   "metadata": {},
   "outputs": [
    {
     "name": "stdout",
     "output_type": "stream",
     "text": [
      "Your result is: 1.0\n"
     ]
    }
   ],
   "source": [
    "divide(3,3)"
   ]
  },
  {
   "cell_type": "code",
   "execution_count": 4,
   "id": "12f48d22-2cb9-4598-97b5-1e10444bd576",
   "metadata": {},
   "outputs": [
    {
     "name": "stdout",
     "output_type": "stream",
     "text": [
      "The denominator cannot be zero\n"
     ]
    }
   ],
   "source": [
    "divide(3,0)"
   ]
  },
  {
   "cell_type": "markdown",
   "id": "6f1f7d3e-b12a-4e15-85e8-2bfde0dbe4f9",
   "metadata": {},
   "source": [
    "b) Finally\n",
    "\n",
    "The finally is a special method used in exception handling. <br>\n",
    "The finally block lets you execute code, regardless of the result of the try- and except blocks."
   ]
  },
  {
   "cell_type": "code",
   "execution_count": 1,
   "id": "0631375c-403e-4a34-ab73-7ac844628fdb",
   "metadata": {},
   "outputs": [],
   "source": [
    "import logging\n",
    "logging.basicConfig(filename = \"test4.log\",level = logging.INFO, format = \"%(asctime)s %(message)s\")"
   ]
  },
  {
   "cell_type": "code",
   "execution_count": 2,
   "id": "10a7212c-d396-44a8-a041-8705372b9b3d",
   "metadata": {},
   "outputs": [],
   "source": [
    "def divide(x,y):\n",
    "    \n",
    "    try:\n",
    "        result = x / y\n",
    "        logging.info(\"This is the action to be taken\")\n",
    "        \n",
    "    except:\n",
    "        logging.error(\"The denominator cannot be zero\")\n",
    "        print(\"The denominator cannot be zero\")\n",
    "        \n",
    "    else:\n",
    "        logging.info(\"Your result is: {}\".format(result))\n",
    "        print(\"Your result is:\",result)\n",
    "        \n",
    "    finally:\n",
    "        logging.info(\"Thank you for your input\")\n",
    "        print(\"Thank you for your input\")\n",
    "        \n",
    "logging.shutdown()"
   ]
  },
  {
   "cell_type": "code",
   "execution_count": 3,
   "id": "be7f97f2-1a8f-47b9-8f31-8b76eaad65cc",
   "metadata": {},
   "outputs": [
    {
     "name": "stdout",
     "output_type": "stream",
     "text": [
      "Your result is: 1.0\n",
      "Thank you for your input\n"
     ]
    }
   ],
   "source": [
    "divide(3,3)"
   ]
  },
  {
   "cell_type": "markdown",
   "id": "908e6bd3-d21b-4b88-bf14-0f613c1b52dd",
   "metadata": {},
   "source": [
    "c) Raise\n",
    "\n",
    "As a Python developer you can choose to throw an exception if a condition occurs. <br>\n",
    "To throw (or raise) an exception, use the raise keyword."
   ]
  },
  {
   "cell_type": "code",
   "execution_count": 1,
   "id": "b2a184f0-e2ff-426b-b55c-664b29437f4b",
   "metadata": {},
   "outputs": [],
   "source": [
    "import logging\n",
    "logging.basicConfig(filename = \"test5.log\",level = logging.INFO, format = \"%(asctime)s %(message)s\")"
   ]
  },
  {
   "cell_type": "code",
   "execution_count": 2,
   "id": "042fabd9-ca9c-47af-a29d-df469f9cbada",
   "metadata": {},
   "outputs": [
    {
     "ename": "Exception",
     "evalue": "Entered value type is not integer",
     "output_type": "error",
     "traceback": [
      "\u001b[0;31m---------------------------------------------------------------------------\u001b[0m",
      "\u001b[0;31mException\u001b[0m                                 Traceback (most recent call last)",
      "Cell \u001b[0;32mIn[2], line 7\u001b[0m\n\u001b[1;32m      5\u001b[0m     logging\u001b[38;5;241m.\u001b[39minfo(\u001b[38;5;124m\"\u001b[39m\u001b[38;5;124mWe are inside if statement to see if the data type of \u001b[39m\u001b[38;5;132;01m{}\u001b[39;00m\u001b[38;5;124m is not an integer\u001b[39m\u001b[38;5;124m\"\u001b[39m\u001b[38;5;241m.\u001b[39mformat(x))\n\u001b[1;32m      6\u001b[0m     logging\u001b[38;5;241m.\u001b[39merror(\u001b[38;5;124m\"\u001b[39m\u001b[38;5;124mEntered value type is not integer\u001b[39m\u001b[38;5;124m\"\u001b[39m)\n\u001b[0;32m----> 7\u001b[0m     \u001b[38;5;28;01mraise\u001b[39;00m \u001b[38;5;167;01mException\u001b[39;00m(\u001b[38;5;124m\"\u001b[39m\u001b[38;5;124mEntered value type is not integer\u001b[39m\u001b[38;5;124m\"\u001b[39m)\n\u001b[1;32m     10\u001b[0m \u001b[38;5;28;01melse\u001b[39;00m:\n\u001b[1;32m     11\u001b[0m     logging\u001b[38;5;241m.\u001b[39minfo(\u001b[38;5;124m\"\u001b[39m\u001b[38;5;124mWe are inside else statement if the data type of \u001b[39m\u001b[38;5;132;01m{}\u001b[39;00m\u001b[38;5;124m is an integer\u001b[39m\u001b[38;5;124m\"\u001b[39m\u001b[38;5;241m.\u001b[39mformat(x))\n",
      "\u001b[0;31mException\u001b[0m: Entered value type is not integer"
     ]
    }
   ],
   "source": [
    "x = \"e\"\n",
    "logging.info(\"The value is {}\".format(x))\n",
    "\n",
    "if type(x) != int:\n",
    "    logging.info(\"We are inside if statement to see if the data type of {} is not an integer\".format(x))\n",
    "    logging.error(\"Entered value type is not integer\")\n",
    "    raise Exception(\"Entered value type is not integer\")\n",
    "    \n",
    "    \n",
    "else:\n",
    "    logging.info(\"We are inside else statement if the data type of {} is an integer\".format(x))\n",
    "    logging.info(\"{} is our value\".format(x))\n",
    "    print(x)\n",
    "\n",
    "logging.shutdown()"
   ]
  },
  {
   "cell_type": "markdown",
   "id": "05cceb4b-685a-49d3-8abe-7b66366fdcd3",
   "metadata": {},
   "source": [
    "### Q5. What are Custom Exceptions in python? Why do we need Custom Exceptions? Explain with an example. "
   ]
  },
  {
   "cell_type": "markdown",
   "id": "94c8edef-ba81-4f1e-b7ed-7d801ab68f7e",
   "metadata": {},
   "source": [
    "Answer 5:-\n",
    "\n",
    "In Python, we can define custom exceptions by creating a new class that is derived from the built-in Exception class. <br>\n",
    "Custom exceptions provide you the flexibility to add attributes and methods that are not part of a standard Java exception. These can store additional information, like an application-specific error code, or provide utility methods that can be used to handle or present the exception to a user."
   ]
  },
  {
   "cell_type": "code",
   "execution_count": 1,
   "id": "3b120da1-e5af-4e35-85be-2d0ac66c5bff",
   "metadata": {},
   "outputs": [],
   "source": [
    "import logging \n",
    "logging.basicConfig(filename = \"test6.log\", level = logging.INFO,format = \"%(asctime)s %(message)s\")"
   ]
  },
  {
   "cell_type": "code",
   "execution_count": 2,
   "id": "e4344d28-8599-409f-a8a6-6c77ec91f2d1",
   "metadata": {},
   "outputs": [],
   "source": [
    "class invalid_age_exception(Exception):\n",
    "    pass"
   ]
  },
  {
   "cell_type": "code",
   "execution_count": 4,
   "id": "31b45e3e-9521-422b-bb99-7c79b7dc4591",
   "metadata": {},
   "outputs": [
    {
     "name": "stdin",
     "output_type": "stream",
     "text": [
      "Enter the age 17\n"
     ]
    },
    {
     "name": "stdout",
     "output_type": "stream",
     "text": [
      "Not eligible to vote\n"
     ]
    }
   ],
   "source": [
    "try:\n",
    "    logging.info(\"The value is entered\")\n",
    "    num = int(input(\"Enter the age\"))\n",
    "    \n",
    "    if num <= 18:\n",
    "        logging.info(\"This is the condition to check if {} is less than 18\".format(num))\n",
    "        raise invalid_age_exception\n",
    "        logging.error(\"Invalid error condition is raised\")\n",
    "        \n",
    "    else:\n",
    "        logging.info(\"{} is an eligible age to vote\")\n",
    "        print(\"Eligible to vote\")\n",
    "        \n",
    "except invalid_age_exception:\n",
    "    logging.info(\"{} is not eligible to vote\".format(num))\n",
    "    print(\"Not eligible to vote\")"
   ]
  },
  {
   "cell_type": "markdown",
   "id": "0006b43f-22c7-4c1c-a262-bdf3e46075aa",
   "metadata": {},
   "source": [
    "### Q6. Create a custom exception class. Use this class to handle an exception."
   ]
  },
  {
   "cell_type": "code",
   "execution_count": 1,
   "id": "f22f7127-45fb-488a-8c70-9a7a580a37e8",
   "metadata": {},
   "outputs": [],
   "source": [
    "# Answer 6:-\n",
    "\n",
    "import logging\n",
    "logging.basicConfig(filename = \"test7.log\",level = logging.INFO,format = \"%(asctime)s %(message)s\")"
   ]
  },
  {
   "cell_type": "code",
   "execution_count": 2,
   "id": "351e4a61-84bb-4c24-a45e-e195c5abcaa9",
   "metadata": {},
   "outputs": [],
   "source": [
    "class valid_vote_age(Exception):\n",
    "    \n",
    "    def __init__(self,msg):\n",
    "        self.msg = msg"
   ]
  },
  {
   "cell_type": "code",
   "execution_count": 3,
   "id": "309053da-d13d-4d09-8b45-f29dcae9381f",
   "metadata": {},
   "outputs": [],
   "source": [
    "def valid_age(age):\n",
    "    \n",
    "    if age < 18:\n",
    "        logging.info(\"If statement when age is less than 18\")\n",
    "        raise valid_vote_age(\"Not eligible to vote\")\n",
    "        \n",
    "    else:\n",
    "        logging.info(\"Else statement when age is more than 18\")\n",
    "        logging.info(\"Eligible to vote\")\n",
    "        print(\"Eligible to vote\")"
   ]
  },
  {
   "cell_type": "code",
   "execution_count": 4,
   "id": "52fc746f-184b-4487-aa9e-ac5576830221",
   "metadata": {},
   "outputs": [
    {
     "name": "stdin",
     "output_type": "stream",
     "text": [
      "Enter your age: 17\n"
     ]
    },
    {
     "name": "stdout",
     "output_type": "stream",
     "text": [
      "Not eligible to vote\n"
     ]
    }
   ],
   "source": [
    "try:\n",
    "    age = int(input(\"Enter your age:\"))\n",
    "    logging.info(\"The value of age entered\")\n",
    "    valid_age(age)\n",
    "except  valid_vote_age as e:\n",
    "    logging.info(\"Not eligible to vote\")\n",
    "    print(e)\n",
    "    \n",
    "logging.shutdown()"
   ]
  },
  {
   "cell_type": "code",
   "execution_count": null,
   "id": "7355c0c4-06e1-4557-bebd-183dd2cce53e",
   "metadata": {},
   "outputs": [],
   "source": []
  }
 ],
 "metadata": {
  "kernelspec": {
   "display_name": "Python 3 (ipykernel)",
   "language": "python",
   "name": "python3"
  },
  "language_info": {
   "codemirror_mode": {
    "name": "ipython",
    "version": 3
   },
   "file_extension": ".py",
   "mimetype": "text/x-python",
   "name": "python",
   "nbconvert_exporter": "python",
   "pygments_lexer": "ipython3",
   "version": "3.10.8"
  }
 },
 "nbformat": 4,
 "nbformat_minor": 5
}
