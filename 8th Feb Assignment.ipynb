{
 "cells": [
  {
   "cell_type": "markdown",
   "id": "493656eb-772a-4be2-aacd-07bcc6f7b0b3",
   "metadata": {},
   "source": [
    "# 8th Feb | Assignment"
   ]
  },
  {
   "cell_type": "markdown",
   "id": "44d1a320-f881-4c57-b6b1-73d1fb54417a",
   "metadata": {},
   "source": [
    "### Q1. What is Abstraction in OOps? Explain with an example."
   ]
  },
  {
   "cell_type": "markdown",
   "id": "0d282661-9b0a-487a-a94e-5a185b3caf0a",
   "metadata": {},
   "source": [
    "Answer 1:-\n",
    "\n",
    "Abstraction is used to hide the internal functionality of the function from the users. The users only interact with the basic implementation of the function, but inner working is hidden. User is familiar with that \"what function does\" but they don't know \"how it does.\"\n",
    "\n",
    "In Python, an abstraction is used to hide the irrelevant data/class in order to reduce the complexity. It also enhances the application efficiency.\n",
    "\n",
    "Example- \n",
    "\n",
    "Suppose you want to create a banking application and you are asked to collect all the information about your customer like- Full name, Address, Contact number, Tax Information, Favourite Food,Favourite Movie,Favourite Actor,Favourite Band etc.\n",
    "\n",
    "But, not all of the above information is required to create a banking application. So, you need to select only the useful information for your banking application from that pool. Data like name, address, tax information, etc. make sense for a banking application.\n",
    "\n",
    "Since we have fetched/removed/selected the customer information from a larger pool, the process is referred to as Abstraction.\n",
    "\n",
    "However, the same information once extracted can be used for a wide range of applications. For instance, you can use the same data for hospital application, job portal application, a Government database, etc. with little or no modification. Hence, it becomes your Master Data. This is an advantage of Abstraction."
   ]
  },
  {
   "cell_type": "code",
   "execution_count": 53,
   "id": "55ac527e-ad81-4a70-b8e3-bd284a93f279",
   "metadata": {},
   "outputs": [],
   "source": [
    "import abc\n",
    "class Car():   \n",
    "    \n",
    "    @abc.abstractmethod\n",
    "    def top_speed(self):   \n",
    "        pass\n",
    "    \n",
    "    @abc.abstractmethod\n",
    "    def colour(self):\n",
    "        pass"
   ]
  },
  {
   "cell_type": "code",
   "execution_count": 54,
   "id": "62639037-2e3f-4740-9c8a-e2f512c60659",
   "metadata": {},
   "outputs": [],
   "source": [
    "class car_company(Car):\n",
    "    \n",
    "    def top_speed(self):\n",
    "        print(\"The top speed is 220kmph\")"
   ]
  },
  {
   "cell_type": "code",
   "execution_count": 55,
   "id": "6cd6d4f4-a072-4811-bfb5-5e631b7d9b62",
   "metadata": {},
   "outputs": [],
   "source": [
    "class colour_company(Car):\n",
    "    \n",
    "    def colour(self):\n",
    "        print(\"The colour is red\")"
   ]
  },
  {
   "cell_type": "code",
   "execution_count": 56,
   "id": "5ef68982-00c9-41f8-84d6-334f0cb62d0d",
   "metadata": {},
   "outputs": [
    {
     "name": "stdout",
     "output_type": "stream",
     "text": [
      "The top speed is 220kmph\n"
     ]
    }
   ],
   "source": [
    "tesla = car_company()\n",
    "tesla.top_speed()"
   ]
  },
  {
   "cell_type": "code",
   "execution_count": 58,
   "id": "49e040ea-04d8-44f8-8777-9f4c75e41f91",
   "metadata": {},
   "outputs": [
    {
     "name": "stdout",
     "output_type": "stream",
     "text": [
      "The colour is red\n"
     ]
    }
   ],
   "source": [
    "asian_paints = colour_company()\n",
    "asian_paints.colour()"
   ]
  },
  {
   "cell_type": "markdown",
   "id": "74b6690c-6c4d-4ae5-aa99-56d83f3f6659",
   "metadata": {},
   "source": [
    "### Q2. Differentiate between Abstraction and Encapsulation. Explain with an example."
   ]
  },
  {
   "cell_type": "markdown",
   "id": "2c0f6d3a-b019-413e-9630-284f24cba7a3",
   "metadata": {
    "tags": []
   },
   "source": [
    "Answer 2:-\n",
    "\n",
    "Abstraction:-\n",
    "\n",
    "Abstraction is an OOP concept that focuses only on relevant data of an object. It hides the background details and emphasizes the essential data points for reducing the complexity and increase efficiency. \n",
    "\n",
    "It generally retains only information which is most relevant for that specific process. Abstraction method mainly focusses on the idea instead of actual functioning.\n",
    "\n",
    "1. Use: Abstraction solves the problem and issues that arise at the design stage.\n",
    "2. Focus: Abstraction allows you to focus on what the object does instead of how it does it.\n",
    "3. Implementation: You can use abstraction using Interface and Abstract Class.\n",
    "4. Focuses: Abstraction focus mainly on what should be done.\n",
    "5. Application: Abstraction is used during design level.\n",
    "\n",
    "Example:- \n",
    "\n",
    "Suppose you want to create a banking application and you are asked to collect all the information about your customer like- Full name, Address, Contact number, Tax Information, Favourite Food,Favourite Movie,Favourite Actor,Favourite Band etc.\n",
    "\n",
    "But, not all of the above information is required to create a banking application. So, you need to select only the useful information for your banking application from that pool. Data like name, address, tax information, etc. make sense for a banking application.\n",
    "\n",
    "Since we have fetched/removed/selected the customer information from a larger pool, the process is referred to as Abstraction.\n",
    "\n",
    "However, the same information once extracted can be used for a wide range of applications. For instance, you can use the same data for hospital application, job portal application, a Government database, etc. with little or no modification. Hence, it becomes your Master Data. This is an advantage of Abstraction."
   ]
  },
  {
   "cell_type": "code",
   "execution_count": 60,
   "id": "5e17dd5a-1d12-4c80-b040-041a89daee22",
   "metadata": {},
   "outputs": [],
   "source": [
    "import abc\n",
    "class Car():   \n",
    "    \n",
    "    @abc.abstractmethod\n",
    "    def top_speed(self):   \n",
    "        pass\n",
    "    \n",
    "    @abc.abstractmethod\n",
    "    def colour(self):\n",
    "        pass"
   ]
  },
  {
   "cell_type": "code",
   "execution_count": 61,
   "id": "30e66fe0-6beb-4ee8-a481-0f17d95b0d88",
   "metadata": {},
   "outputs": [],
   "source": [
    "class car_company(Car):\n",
    "    \n",
    "    def top_speed(self):\n",
    "        print(\"The top speed is 220kmph\")"
   ]
  },
  {
   "cell_type": "code",
   "execution_count": 62,
   "id": "c017a3cd-1430-4e5d-b7fc-9ef98a943d8b",
   "metadata": {},
   "outputs": [],
   "source": [
    "class colour_company(Car):\n",
    "    \n",
    "    def colour(self):\n",
    "        print(\"The colour is red\")"
   ]
  },
  {
   "cell_type": "code",
   "execution_count": 63,
   "id": "12afa189-5031-45d3-a6a4-6d0973f64f8a",
   "metadata": {},
   "outputs": [
    {
     "name": "stdout",
     "output_type": "stream",
     "text": [
      "The top speed is 220kmph\n"
     ]
    }
   ],
   "source": [
    "tesla = car_company()\n",
    "tesla.top_speed()"
   ]
  },
  {
   "cell_type": "code",
   "execution_count": 64,
   "id": "f0590064-a93c-4f6d-a395-78fc76a9073c",
   "metadata": {},
   "outputs": [
    {
     "name": "stdout",
     "output_type": "stream",
     "text": [
      "The colour is red\n"
     ]
    }
   ],
   "source": [
    "asian_paints = colour_company()\n",
    "asian_paints.colour()"
   ]
  },
  {
   "cell_type": "markdown",
   "id": "06e8f7dd-ff3e-4262-a7d5-f49da8deb458",
   "metadata": {},
   "source": [
    "Encapsulation:-\n",
    "\n",
    "Encapsulation is a method of making a complex system easier to handle for end users. The user need not worry about internal details and complexities of the system. \n",
    "\n",
    "Encapsulation is a process of wrapping the data and the code, that operate on the data into a single entity. You can assume it as a protective wrapper that stops random access of code defined outside that wrapper.\n",
    "\n",
    "1. Use: Encapsulation solves the problem and issue that arise at the implementation stage.\n",
    "2. Focus: Encapsulation enables you to hide the code and data into a single unit to secure the data from the outside world.\n",
    "3. Implementation: You can implement encapsulation using Access Modifiers (Public, Protected & Private.)\n",
    "4. Focuses: Encapsulation focus primarily on how it should be done.\n",
    "5. Application: Encapsulation is used during the implementation level.\n",
    "\n",
    "Example:-\n",
    "\n",
    "Let’s take an example of mobile device. With the help of mobile devices, you can perform various functions like taking a picture, sending a message, recording video/ audio, access the web and much more.\n",
    "\n",
    "The features mentioned above are functionalities of most of the smartphone. However, you don’t need to understand the internal functioning details of those features before using this program. Example, you don’t need to know how your camera calculates gamma correction or identifies a human face in an image. You just need to learn the software interface. This is encapsulation."
   ]
  },
  {
   "cell_type": "code",
   "execution_count": 31,
   "id": "e580d4d7-4e5c-48b7-bf7a-8bd6a387a957",
   "metadata": {},
   "outputs": [],
   "source": [
    "class car:\n",
    "    def __init__(self,year,make,model,speed):\n",
    "        self.__year = year\n",
    "        self.__make = make\n",
    "        self.__model = model\n",
    "        self.__speed = 0\n",
    "        \n",
    "    def set_speed(self,speed):\n",
    "        self.__speed = 0 if speed < 0 else speed\n",
    "        \n",
    "    def get_speed(self):\n",
    "        return self.__speed "
   ]
  },
  {
   "cell_type": "code",
   "execution_count": 32,
   "id": "2c7effae-0f40-4163-8b73-05ff358645e3",
   "metadata": {},
   "outputs": [],
   "source": [
    "c = car(2021,\"Maruti\",\"Brezza\",12)"
   ]
  },
  {
   "cell_type": "code",
   "execution_count": 33,
   "id": "2b837f70-ae36-4070-b935-996604cfd6c5",
   "metadata": {},
   "outputs": [],
   "source": [
    "c.set_speed(-3245)"
   ]
  },
  {
   "cell_type": "code",
   "execution_count": 34,
   "id": "954e76a2-50cf-49ad-876f-f3024c6619d7",
   "metadata": {},
   "outputs": [
    {
     "data": {
      "text/plain": [
       "0"
      ]
     },
     "execution_count": 34,
     "metadata": {},
     "output_type": "execute_result"
    }
   ],
   "source": [
    "c.get_speed()"
   ]
  },
  {
   "cell_type": "code",
   "execution_count": 37,
   "id": "40f6c180-4b8b-4882-b233-b110bce4e89e",
   "metadata": {},
   "outputs": [],
   "source": [
    "c.set_speed(180)"
   ]
  },
  {
   "cell_type": "code",
   "execution_count": 38,
   "id": "22e1678b-f987-42ab-9e57-8f218cc0b315",
   "metadata": {},
   "outputs": [
    {
     "data": {
      "text/plain": [
       "180"
      ]
     },
     "execution_count": 38,
     "metadata": {},
     "output_type": "execute_result"
    }
   ],
   "source": [
    "c.get_speed()"
   ]
  },
  {
   "cell_type": "markdown",
   "id": "191d038a-3ab4-416b-9e1d-2fa51a494aa0",
   "metadata": {},
   "source": [
    "### Q3. What is abc module in python? Why is it used?"
   ]
  },
  {
   "cell_type": "markdown",
   "id": "807fd4e8-688d-45f0-8807-4ed21938a09e",
   "metadata": {},
   "source": [
    "Answer 3:\n",
    "\n",
    "The 'abc' module in Python library provides the infrastructure for defining custom abstract base classes.\n",
    "\n",
    "'abc' works by marking methods of the base class as abstract. This is done by @absttractmethod decorator. \n",
    "\n",
    "A concrete class which is a sub class of such abstract base class then implements the abstract base by overriding its abstract methods."
   ]
  },
  {
   "cell_type": "code",
   "execution_count": 68,
   "id": "3a6a2d88-4161-4076-8624-f29a1a9f6db8",
   "metadata": {},
   "outputs": [],
   "source": [
    "# Example:-\n",
    "\n",
    "import abc\n",
    "class Car():   \n",
    "    \n",
    "    @abc.abstractmethod\n",
    "    def top_speed(self):   \n",
    "        pass\n",
    "    \n",
    "    @abc.abstractmethod\n",
    "    def colour(self):\n",
    "        pass"
   ]
  },
  {
   "cell_type": "code",
   "execution_count": 69,
   "id": "fdf1bf4e-a55f-4eab-903b-b1323468b425",
   "metadata": {},
   "outputs": [],
   "source": [
    "class car_company(Car):\n",
    "    \n",
    "    def top_speed(self):\n",
    "        print(\"The top speed is 220kmph\")"
   ]
  },
  {
   "cell_type": "code",
   "execution_count": 70,
   "id": "238c0ca5-0913-43ae-998c-252b5eb027f6",
   "metadata": {},
   "outputs": [
    {
     "name": "stdout",
     "output_type": "stream",
     "text": [
      "The top speed is 220kmph\n"
     ]
    }
   ],
   "source": [
    "tesla = car_company()\n",
    "tesla.top_speed()"
   ]
  },
  {
   "cell_type": "markdown",
   "id": "a20ed96f-cd8c-44eb-9551-02928ebc01d6",
   "metadata": {},
   "source": [
    "### Q4. How can we achieve data abstraction?"
   ]
  },
  {
   "cell_type": "markdown",
   "id": "aa13095d-0272-406c-b0dd-e8e79f63c66a",
   "metadata": {},
   "source": [
    "Answer 4:\n",
    "\n",
    "Data Abstraction in Python is the process of hiding the real implementation of an application from the user and emphasizing only on usage of it.Basically, Abstraction focuses on hiding the internal implementations of a process or method from the user. In this way, the user knows what he is doing but not how the work is being done.\n",
    "\n",
    "- A class containing one or more abstract methods is called an abstract class.\n",
    "- As a property, abstract classes can have any number of abstract methods coexisting with any number of other methods. \n",
    "- Abstract methods do not contain any implementation. Instead, all the implementations can be defined in the methods of sub-classes that inherit the abstract class."
   ]
  },
  {
   "cell_type": "code",
   "execution_count": 1,
   "id": "a3246946-5eec-4f8e-a22f-32b93a7a4b35",
   "metadata": {},
   "outputs": [],
   "source": [
    "import abc\n",
    "\n",
    "@abc.abstractmethod\n",
    "class parallelogram():\n",
    "    pass"
   ]
  },
  {
   "cell_type": "code",
   "execution_count": 3,
   "id": "70e4abda-1c80-434f-886e-97c1af9d33c3",
   "metadata": {},
   "outputs": [],
   "source": [
    "class Square(parallelogram):\n",
    "    length = 5\n",
    "    \n",
    "    def Area(self):\n",
    "        return self.length * self.length "
   ]
  },
  {
   "cell_type": "code",
   "execution_count": 5,
   "id": "e8050605-796a-46c1-a8e8-7b7b90303c16",
   "metadata": {},
   "outputs": [],
   "source": [
    "class Circle(parallelogram):\n",
    "    radius =4\n",
    "    \n",
    "    def Area(self):\n",
    "        return 3.14 * self.radius * self.radius"
   ]
  },
  {
   "cell_type": "code",
   "execution_count": 6,
   "id": "2d71487b-ec2c-4afa-8114-012784b998b2",
   "metadata": {},
   "outputs": [
    {
     "name": "stdout",
     "output_type": "stream",
     "text": [
      "Area of a Square: 25\n"
     ]
    }
   ],
   "source": [
    "sq = Square()\n",
    "print(\"Area of a Square:\",sq.Area())"
   ]
  },
  {
   "cell_type": "code",
   "execution_count": 8,
   "id": "28b01f7f-fa5c-402c-91b3-fa444d9c2a7d",
   "metadata": {},
   "outputs": [
    {
     "name": "stdout",
     "output_type": "stream",
     "text": [
      "Area of a Circle: 50.24\n"
     ]
    }
   ],
   "source": [
    "cir = Circle()\n",
    "print(\"Area of a Circle:\",cir.Area())"
   ]
  },
  {
   "cell_type": "markdown",
   "id": "ee69794a-fc31-4b40-a315-a958d5d25cb1",
   "metadata": {},
   "source": [
    "### Q5. Can we create an instance of an abstract class? Explain your answer."
   ]
  },
  {
   "cell_type": "markdown",
   "id": "617ff3a7-e1e1-429b-8955-ab5b283a4f8f",
   "metadata": {},
   "source": [
    "Answer 5:\n",
    "\n",
    "In object-oriented programming, an abstract class is a class that cannot be instantiated. It means that we cannot create an object of an abstract class. However, you can create classes that inherit from an abstract class.\n",
    "\n",
    "Similarly, an abstract method is an method without an implementation. An abstract class may or may not include abstract methods.\n",
    "\n",
    "It happens so only because for creating an instance or an object of a method, the method should be define. But in the case of abstract method or abstract class, they are not define causing an error while creating an object."
   ]
  },
  {
   "cell_type": "code",
   "execution_count": 22,
   "id": "f3d58c50-5480-414b-a2bc-fac454230262",
   "metadata": {},
   "outputs": [],
   "source": [
    "# Example:\n",
    "\n",
    "from abc import ABC\n",
    "\n",
    "class computer(ABC):\n",
    "    \n",
    "    @abstractmethod\n",
    "    def process(self):\n",
    "        pass"
   ]
  },
  {
   "cell_type": "code",
   "execution_count": 24,
   "id": "62c7190e-d2fa-442f-bb0c-c56c1dae21d9",
   "metadata": {},
   "outputs": [
    {
     "ename": "TypeError",
     "evalue": "Can't instantiate abstract class computer with abstract method process",
     "output_type": "error",
     "traceback": [
      "\u001b[0;31m---------------------------------------------------------------------------\u001b[0m",
      "\u001b[0;31mTypeError\u001b[0m                                 Traceback (most recent call last)",
      "Cell \u001b[0;32mIn[24], line 1\u001b[0m\n\u001b[0;32m----> 1\u001b[0m com \u001b[38;5;241m=\u001b[39m \u001b[43mcomputer\u001b[49m\u001b[43m(\u001b[49m\u001b[43m)\u001b[49m\n\u001b[1;32m      2\u001b[0m com\u001b[38;5;241m.\u001b[39mprocess()\n",
      "\u001b[0;31mTypeError\u001b[0m: Can't instantiate abstract class computer with abstract method process"
     ]
    }
   ],
   "source": [
    "com = computer()\n",
    "com.process()"
   ]
  },
  {
   "cell_type": "code",
   "execution_count": null,
   "id": "fef1ca16-0519-43ac-8df7-4bbadd55293e",
   "metadata": {},
   "outputs": [],
   "source": []
  }
 ],
 "metadata": {
  "kernelspec": {
   "display_name": "Python 3 (ipykernel)",
   "language": "python",
   "name": "python3"
  },
  "language_info": {
   "codemirror_mode": {
    "name": "ipython",
    "version": 3
   },
   "file_extension": ".py",
   "mimetype": "text/x-python",
   "name": "python",
   "nbconvert_exporter": "python",
   "pygments_lexer": "ipython3",
   "version": "3.10.8"
  }
 },
 "nbformat": 4,
 "nbformat_minor": 5
}
