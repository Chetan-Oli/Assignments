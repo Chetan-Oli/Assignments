{
 "cells": [
  {
   "cell_type": "markdown",
   "id": "37a8ac19-e476-4c3c-ac0c-864b0a301158",
   "metadata": {},
   "source": [
    "# 19th Feb | Assignment"
   ]
  },
  {
   "cell_type": "markdown",
   "id": "1b1d139c-fef4-4d14-aad2-4a5dea4720f2",
   "metadata": {},
   "source": [
    "### Q1. What is Flask Framework? What are the advantages of Flask Framework?"
   ]
  },
  {
   "cell_type": "markdown",
   "id": "fd0315ba-21f2-4d1d-8f43-532d9eed1310",
   "metadata": {},
   "source": [
    "Answerr 1:-\n",
    "\n",
    "Flask is a micro web framework written in Python. It is designed to be lightweight and easy to use, allowing developers to quickly build web applications with minimal overhead. <br>\n",
    "Flask follows the Model-View-Controller (MVC) pattern, which separates the application into three components: the model, which represents the data and business logic; the view, which displays the data to the user; and the controller, which handles user input and manages communication between the model and view.\n",
    "\n",
    "Some of the advantages of using Flask include:\n",
    "1. Lightweight and flexible: <br>\n",
    "Flask is a lightweight framework that provides only the essential features needed for building web applications. This makes it easy to use and highly customizable.\n",
    "\n",
    "2. Easy to learn: <br>\n",
    "Flask is designed to be easy to learn, with a simple and intuitive API that is easy to understand and use.\n",
    "\n",
    "3. Extensible: <br>\n",
    "Flask can be easily extended with third-party libraries and tools, allowing developers to add additional functionality to their applications as needed.\n",
    "\n",
    "4. Built-in development server: <br>\n",
    "Flask includes a built-in development server that makes it easy to test and debug applications during development.\n",
    "\n",
    "5. Large and active community: <br>\n",
    "Flask has a large and active community of developers who contribute to the framework and provide support and resources for other developers.\n",
    "\n",
    "6. Integration with other tools: <br>\n",
    "Flask integrates easily with other tools and technologies commonly used in web development, such as databases, templating engines, and authentication frameworks."
   ]
  },
  {
   "cell_type": "markdown",
   "id": "2a022790-e7ff-49b9-8b14-41b12f8c8a17",
   "metadata": {},
   "source": [
    "### Q2. Create a simple Flask application to display ‘Hello World!!’. Attach the screenshot of the output in Jupyter Notebook."
   ]
  },
  {
   "cell_type": "markdown",
   "id": "c6dd9e13-d3f1-445e-bcb3-c31c18714526",
   "metadata": {},
   "source": [
    "Answer 2:-"
   ]
  },
  {
   "cell_type": "code",
   "execution_count": 1,
   "id": "590fa68b-7abf-4e42-ae7b-4fb08d3fdf48",
   "metadata": {},
   "outputs": [
    {
     "name": "stdout",
     "output_type": "stream",
     "text": [
      "Collecting flask\n",
      "  Downloading Flask-2.2.3-py3-none-any.whl (101 kB)\n",
      "\u001b[2K     \u001b[90m━━━━━━━━━━━━━━━━━━━━━━━━━━━━━━━━━━━━━━━\u001b[0m \u001b[32m101.8/101.8 kB\u001b[0m \u001b[31m5.1 MB/s\u001b[0m eta \u001b[36m0:00:00\u001b[0m\n",
      "\u001b[?25hRequirement already satisfied: Jinja2>=3.0 in /opt/conda/lib/python3.10/site-packages (from flask) (3.1.2)\n",
      "Collecting itsdangerous>=2.0\n",
      "  Downloading itsdangerous-2.1.2-py3-none-any.whl (15 kB)\n",
      "Requirement already satisfied: click>=8.0 in /opt/conda/lib/python3.10/site-packages (from flask) (8.1.3)\n",
      "Collecting Werkzeug>=2.2.2\n",
      "  Downloading Werkzeug-2.2.3-py3-none-any.whl (233 kB)\n",
      "\u001b[2K     \u001b[90m━━━━━━━━━━━━━━━━━━━━━━━━━━━━━━━━━━━━━━\u001b[0m \u001b[32m233.6/233.6 kB\u001b[0m \u001b[31m28.8 MB/s\u001b[0m eta \u001b[36m0:00:00\u001b[0m\n",
      "\u001b[?25hRequirement already satisfied: MarkupSafe>=2.0 in /opt/conda/lib/python3.10/site-packages (from Jinja2>=3.0->flask) (2.1.1)\n",
      "Installing collected packages: Werkzeug, itsdangerous, flask\n",
      "Successfully installed Werkzeug-2.2.3 flask-2.2.3 itsdangerous-2.1.2\n",
      "Note: you may need to restart the kernel to use updated packages.\n"
     ]
    }
   ],
   "source": [
    "pip install flask"
   ]
  },
  {
   "cell_type": "code",
   "execution_count": null,
   "id": "174439db-da95-4c83-a728-b218d09b42c6",
   "metadata": {},
   "outputs": [
    {
     "name": "stdout",
     "output_type": "stream",
     "text": [
      " * Serving Flask app '__main__'\n",
      " * Debug mode: off\n"
     ]
    },
    {
     "name": "stderr",
     "output_type": "stream",
     "text": [
      "WARNING: This is a development server. Do not use it in a production deployment. Use a production WSGI server instead.\n",
      " * Running on all addresses (0.0.0.0)\n",
      " * Running on http://127.0.0.1:5000\n",
      " * Running on http://172.18.0.4:5000\n",
      "Press CTRL+C to quit\n",
      "172.18.0.2 - - [13/Apr/2023 12:49:05] \"GET / HTTP/1.1\" 200 -\n",
      "172.18.0.2 - - [13/Apr/2023 12:50:05] \"GET / HTTP/1.1\" 200 -\n"
     ]
    }
   ],
   "source": [
    "from flask import Flask\n",
    "\n",
    "app = Flask(__name__)\n",
    "\n",
    "@app.route(\"/\")\n",
    "def hello_world():\n",
    "    return \"Hello World!!\"\n",
    "\n",
    "if __name__==\"__main__\":\n",
    "    app.run(host=\"0.0.0.0\")"
   ]
  },
  {
   "cell_type": "markdown",
   "id": "78f802c3-fb18-4575-a587-d8c3765a7879",
   "metadata": {},
   "source": [
    "\"Hello World!!\" screenshot - https://raw.githubusercontent.com/Chetan-Oli/Screenshots/main/Hello%20World!!%20(19th%20Feb).png"
   ]
  },
  {
   "cell_type": "markdown",
   "id": "001ac1e5-cf57-4f7a-b69c-d96c70a55527",
   "metadata": {},
   "source": [
    "### Q3. What is App routing in Flask? Why do we use app routes?\n"
   ]
  },
  {
   "cell_type": "markdown",
   "id": "19203a78-fe60-4169-b4e0-98e35cbd23b9",
   "metadata": {},
   "source": [
    "Answer 3:-\n",
    "\n",
    "App routing in Flask refers to the process of mapping URLs to Python functions in a Flask application. This allows a Flask application to respond to requests from clients based on the URLs that they provide. <br>\n",
    "In Flask, app routing is defined using the @app.route decorator. This decorator is used to specify the URL path that should be associated with a particular Python function in the application."
   ]
  },
  {
   "cell_type": "code",
   "execution_count": 2,
   "id": "92a9be2e-b588-4703-9920-feca8e9766dc",
   "metadata": {},
   "outputs": [],
   "source": [
    "# Example:\n",
    "\n",
    "from flask import Flask\n",
    "\n",
    "app = Flask(__name__)\n",
    "\n",
    "@app.route('/hello')\n",
    "def hello():\n",
    "    return 'Hello, World!'"
   ]
  },
  {
   "cell_type": "markdown",
   "id": "b671e575-b666-4042-bbf2-1121e690deb4",
   "metadata": {},
   "source": [
    "App routing is an essential feature of Flask, as it allows developers to create dynamic web applications that can respond to user input and provide customized content. By mapping URLs to specific functions, Flask can create a logical structure for the application that makes it easy to manage and maintain. <br>\n",
    "In addition, app routing allows Flask to implement features like error handling, redirection, and authentication, which are critical components of any web application. Overall, app routing is a powerful tool for creating dynamic, responsive, and customizable web applications with Flask."
   ]
  },
  {
   "cell_type": "markdown",
   "id": "589a96b3-a3fd-43cf-bb72-d23f82fb52d6",
   "metadata": {},
   "source": [
    "### Q4. Create a “/welcome” route to display the welcome message “Welcome to ABC Corporation” and a “/” route to show the following details:\n",
    "### Company Name: ABC Corporation\n",
    "### Location: India\n",
    "### Contact Detail: 999-999-9999\n",
    "### Attach the screenshot of the output in Jupyter Notebook."
   ]
  },
  {
   "cell_type": "markdown",
   "id": "6a1e29bb-ce07-4195-9202-8ac9dedb46d6",
   "metadata": {},
   "source": [
    "Answer 4:-"
   ]
  },
  {
   "cell_type": "code",
   "execution_count": 1,
   "id": "c00e81d6-5b0f-414e-bea8-e0ab61888840",
   "metadata": {},
   "outputs": [
    {
     "name": "stdout",
     "output_type": "stream",
     "text": [
      " * Serving Flask app '__main__'\n",
      " * Debug mode: off\n"
     ]
    },
    {
     "name": "stderr",
     "output_type": "stream",
     "text": [
      "WARNING: This is a development server. Do not use it in a production deployment. Use a production WSGI server instead.\n",
      " * Running on all addresses (0.0.0.0)\n",
      " * Running on http://127.0.0.1:5000\n",
      " * Running on http://172.18.0.13:5000\n",
      "Press CTRL+C to quit\n"
     ]
    }
   ],
   "source": [
    "from flask import Flask\n",
    "\n",
    "app = Flask(__name__)\n",
    "\n",
    "@app.route(\"/welcome\")\n",
    "def welcome():\n",
    "    return \"Welcome to ABC Corporation\"\n",
    "\n",
    "@app.route(\"/\")\n",
    "def details():\n",
    "    \n",
    "    info = \"Company Name: ABC Corporation <br> Location: India <br> Contact Detail: 999-999-9999 \"\n",
    "    return info\n",
    "\n",
    "if __name__ == \"__main__\":\n",
    "    app.run(host=\"0.0.0.0\")"
   ]
  },
  {
   "cell_type": "markdown",
   "id": "8335cf2a-45f2-41f7-b07b-d5ca14e85331",
   "metadata": {},
   "source": [
    "\"Welcome to ABC Corporation\" screenshot - https://raw.githubusercontent.com/Chetan-Oli/Screenshots/main/Welcome%20to%20ABC%20Corporation%20(19th%20Feb).png"
   ]
  },
  {
   "cell_type": "markdown",
   "id": "ab277cb2-0af3-432d-a2a9-dc407fb5a9c0",
   "metadata": {},
   "source": [
    "\"Company Details\" screenshot - https://raw.githubusercontent.com/Chetan-Oli/Screenshots/main/Company%20Details%20(19th%20Feb).png"
   ]
  },
  {
   "cell_type": "markdown",
   "id": "2366bf04-bad4-4f4a-8afb-1f7b14629d0f",
   "metadata": {},
   "source": [
    "### Q5. What function is used in Flask for URL Building? Write a Python code to demonstrate the working of the url_for() function."
   ]
  },
  {
   "cell_type": "markdown",
   "id": "ac6ea139-e564-4a10-863f-88fc7136ea02",
   "metadata": {},
   "source": [
    "Answer 5:-\n",
    "\n",
    "The url_for() function in Flask is used for URL building. It generates a URL for a specific function that is defined in the Flask application. This function takes the name of the function as an argument and generates a URL that can be used to access that function."
   ]
  },
  {
   "cell_type": "code",
   "execution_count": 4,
   "id": "adfb4545-ba1a-4e8c-b317-c30325cbee56",
   "metadata": {},
   "outputs": [
    {
     "name": "stdout",
     "output_type": "stream",
     "text": [
      "/\n",
      "/about\n",
      "/profile/Chetan%20Oli\n"
     ]
    }
   ],
   "source": [
    "from flask import Flask, url_for \n",
    "\n",
    "app = Flask(__name__)\n",
    "\n",
    "@app.route(\"/\")\n",
    "def index():\n",
    "    return \"This is the home page\"\n",
    "\n",
    "@app.route(\"/about\")\n",
    "def about():\n",
    "    return \"This is the about page\"\n",
    "\n",
    "@app.route(\"/profile/<username>\")\n",
    "def profile(username):\n",
    "    return f\"This is {username}\\'s profile page\"\n",
    "\n",
    "with app.test_request_context():\n",
    "    print(url_for(\"index\"))\n",
    "    print(url_for(\"about\"))\n",
    "    print(url_for(\"profile\", username = \"Chetan Oli\"))"
   ]
  },
  {
   "cell_type": "code",
   "execution_count": null,
   "id": "433e2b95-c2e4-4e0c-a367-390a9bce75ac",
   "metadata": {},
   "outputs": [],
   "source": []
  }
 ],
 "metadata": {
  "kernelspec": {
   "display_name": "Python 3 (ipykernel)",
   "language": "python",
   "name": "python3"
  },
  "language_info": {
   "codemirror_mode": {
    "name": "ipython",
    "version": 3
   },
   "file_extension": ".py",
   "mimetype": "text/x-python",
   "name": "python",
   "nbconvert_exporter": "python",
   "pygments_lexer": "ipython3",
   "version": "3.10.8"
  }
 },
 "nbformat": 4,
 "nbformat_minor": 5
}
