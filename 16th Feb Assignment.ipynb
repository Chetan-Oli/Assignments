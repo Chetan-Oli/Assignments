{
 "cells": [
  {
   "cell_type": "markdown",
   "id": "b755197e-a197-415f-a4d3-9e14054878d1",
   "metadata": {},
   "source": [
    "# 16th Feb | Assignment"
   ]
  },
  {
   "cell_type": "markdown",
   "id": "b2167869-ca90-413e-82c8-0165c8a70264",
   "metadata": {},
   "source": [
    "### Q1. What is a database? Differentiate between SQL and NoSQL databases."
   ]
  },
  {
   "cell_type": "markdown",
   "id": "2e7e354f-9340-4034-b7c4-c49ece0f90f0",
   "metadata": {},
   "source": [
    "Answer 1:-\n",
    "\n",
    "A database is a collection of structured data that is organized and stored in a way that makes it easy to manage and access. <br>\n",
    "It is a software system that manages and stores information for retrieval and modification by authorized users.\n",
    "\n",
    "SQL databases are relational databases that use tables to store data. <br>\n",
    "SQL is a standard language used to manage and manipulate data in these databases. <br> \n",
    "SQL databases are known for their ability to handle complex queries and relationships between tables. <br>\n",
    "Example:- MySQL, Oracle, and Microsoft SQL Server.\n",
    "\n",
    "NoSQL databases, on the other hand, do not use tables to store data. Instead, they use various data models such as key-value, document-oriented, column-oriented, or graph databases. <br>\n",
    "NoSQL databases are known for their scalability and flexibility, making them ideal for managing large amounts of unstructured data. <br>\n",
    "Example:- MongoDB, Cassandra, and Redis.\n",
    "\n",
    "\n",
    "\n",
    "\n"
   ]
  },
  {
   "cell_type": "markdown",
   "id": "572568a8-4d10-4b07-af39-6961d094ea35",
   "metadata": {},
   "source": [
    "### Q2. What is DDL? Explain why CREATE, DROP, ALTER, and TRUNCATE are used with an example."
   ]
  },
  {
   "cell_type": "markdown",
   "id": "41bec957-9758-4b9f-9629-deb40a5f301b",
   "metadata": {},
   "source": [
    "Answer 2:-\n",
    "\n",
    "DDL stands for Data Definition Language, which is a subset of SQL used to define and manage the structure of a database. <br>\n",
    "DDL statements are used to create, modify, and delete objects such as tables, indexes, and views in a database."
   ]
  },
  {
   "cell_type": "markdown",
   "id": "2658f43d-99b0-44af-8cfc-8c9ee8e672da",
   "metadata": {},
   "source": [
    "CREATE: The CREATE statement is used to create a new object in a database. <br> \n",
    "For example, the CREATE TABLE statement is used to create a new table in the database."
   ]
  },
  {
   "cell_type": "markdown",
   "id": "3c3192ff-4bdc-4cb8-b945-d3eb54a9c4e8",
   "metadata": {},
   "source": [
    "Example: \n",
    "\n",
    "CREATE TABLE employees ( <br>\n",
    "    id INT PRIMARY KEY, <br>\n",
    "    name VARCHAR(50), <br>\n",
    "    age INT, <br>\n",
    "    department VARCHAR(50) <br>\n",
    "); "
   ]
  },
  {
   "cell_type": "markdown",
   "id": "a0f5dd10-2217-438f-ad5e-382e75d72afc",
   "metadata": {},
   "source": [
    "DROP: The DROP statement is used to remove an object from the database. <br>\n",
    "For example, the DROP TABLE statement is used to remove a table from the database."
   ]
  },
  {
   "cell_type": "markdown",
   "id": "60fb1ae0-f6a6-4f28-ba39-e97ddf92eb76",
   "metadata": {},
   "source": [
    "Example: \n",
    "\n",
    "DROP TABLE employees; <br>"
   ]
  },
  {
   "cell_type": "markdown",
   "id": "e5f247a7-3ee3-4a7a-ab03-75324f00297f",
   "metadata": {},
   "source": [
    "ALTER: The ALTER statement is used to modify the structure of an existing object in the database. <br>\n",
    "For example, the ALTER TABLE statement is used to add a new column to an existing table."
   ]
  },
  {
   "cell_type": "markdown",
   "id": "38cd6c66-56b4-4ee2-b2bc-de725fa13f59",
   "metadata": {},
   "source": [
    "Example: \n",
    "\n",
    "ALTER TABLE employees <br>\n",
    "ADD email VARCHAR(100); <br>"
   ]
  },
  {
   "cell_type": "markdown",
   "id": "23ebe4dc-202b-46b8-a27c-94fbb315901f",
   "metadata": {},
   "source": [
    "TRUNCATE: The TRUNCATE statement is used to remove all the data from a table while keeping the structure of the table intact. <br>\n",
    "It is faster than the DROP and CREATE statements and is often used to prepare a table for new data."
   ]
  },
  {
   "cell_type": "markdown",
   "id": "a27d66d9-b7f7-4fa1-8d82-792c83959081",
   "metadata": {},
   "source": [
    "Example:\n",
    "\n",
    "TRUNCATE TABLE employees;"
   ]
  },
  {
   "cell_type": "markdown",
   "id": "9c8a0ec6-2f14-4230-9e7b-1c3b82e8bb11",
   "metadata": {},
   "source": [
    "### Q3. What is DML? Explain INSERT, UPDATE, and DELETE with an example."
   ]
  },
  {
   "cell_type": "markdown",
   "id": "1a7cc6c9-10ee-412e-9253-42f81bf0f0a3",
   "metadata": {},
   "source": [
    "Answer 3:-\n",
    "\n",
    "DML stands for Data Manipulation Language, which is a subset of SQL used to manipulate data stored in a database. <br>\n",
    "DML statements are used to insert, update, and delete data in tables."
   ]
  },
  {
   "cell_type": "markdown",
   "id": "65431c51-8bf0-4c26-94d4-3092629488e3",
   "metadata": {},
   "source": [
    "INSERT: The INSERT statement is used to add new data into a table."
   ]
  },
  {
   "cell_type": "markdown",
   "id": "86bd9565-f2be-4f1e-a3dc-7250b5713538",
   "metadata": {},
   "source": [
    "Example:\n",
    "\n",
    "INSERT INTO employees (id, name, age, department) <br>\n",
    "VALUES (1, 'John Doe', 35, 'Sales');"
   ]
  },
  {
   "cell_type": "markdown",
   "id": "c43343a1-6c06-4d25-90b0-7b5e43d9c715",
   "metadata": {},
   "source": [
    "UPDATE: The UPDATE statement is used to modify existing data in a table."
   ]
  },
  {
   "cell_type": "markdown",
   "id": "23a7ed03-3f52-4ef2-a0e7-c645cb1b7eb6",
   "metadata": {},
   "source": [
    "Example: \n",
    "\n",
    "UPDATE employees <br>\n",
    "SET age = 36 <br>\n",
    "WHERE id = 1; "
   ]
  },
  {
   "cell_type": "markdown",
   "id": "f24e7d8f-601e-4109-93e5-6e4b361fe15c",
   "metadata": {},
   "source": [
    "DELETE: The DELETE statement is used to remove data from a table."
   ]
  },
  {
   "cell_type": "markdown",
   "id": "7b51ea61-b232-4b94-8acf-3ab024e192a8",
   "metadata": {},
   "source": [
    "Example:\n",
    "\n",
    "DELETE FROM employees <br>\n",
    "WHERE id = 1;"
   ]
  },
  {
   "cell_type": "markdown",
   "id": "9fbbfcf7-8074-4160-ad97-ea9630636b48",
   "metadata": {},
   "source": [
    "### Q4. What is DQL? Explain SELECT with an example."
   ]
  },
  {
   "cell_type": "markdown",
   "id": "3bb5b416-a45e-47ba-b69f-36097809b8b8",
   "metadata": {},
   "source": [
    "DQL stands for Data Query Language, which is a subset of SQL used to retrieve data from a database. <br>\n",
    "DQL statements are used to select data from tables."
   ]
  },
  {
   "cell_type": "markdown",
   "id": "67a65598-fcbb-4e4d-bd2c-9a5cc7617d4f",
   "metadata": {},
   "source": [
    "SELECT: The SELECT statement are used to retrieve data from tables in a database. These statements are essential for retrieving and analyzing data, and are used extensively in data processing, reporting, and analysis."
   ]
  },
  {
   "cell_type": "markdown",
   "id": "172e285d-c857-4954-93d0-021897e34e2c",
   "metadata": {},
   "source": [
    "Example:\n",
    "\n",
    "SELECT name, age, department <br>\n",
    "FROM employees <br>\n",
    "WHERE age > 30;"
   ]
  },
  {
   "cell_type": "markdown",
   "id": "8c18303d-d097-43c8-973e-7eef51bfb1fd",
   "metadata": {},
   "source": [
    "### Q5. Explain Primary Key and Foreign Key."
   ]
  },
  {
   "cell_type": "markdown",
   "id": "d4ac6748-c500-4f4c-b88b-70ffbc5f0f46",
   "metadata": {},
   "source": [
    "Answer 5:-\n",
    "\n",
    "PRIMARY KEY: A primary key is a column or set of columns in a table that uniquely identifies each row in the table. <br>\n",
    "A primary key is used to enforce the integrity of the data in the table and ensure that each row can be uniquely identified. <br>\n",
    "A table can have only one primary key, and the values in the primary key column(s) cannot be null."
   ]
  },
  {
   "cell_type": "markdown",
   "id": "99e61a43-9bce-4358-b753-baf67c8879a1",
   "metadata": {},
   "source": [
    "Example:\n",
    "\n",
    "CREATE TABLE employees ( <br>\n",
    "    id INT PRIMARY KEY, <br>\n",
    "    name VARCHAR(50), <br>\n",
    "    age INT, <br>\n",
    "    department VARCHAR(50) <br>\n",
    ");"
   ]
  },
  {
   "cell_type": "markdown",
   "id": "83a1afe6-4282-490c-9e63-339bd7b58037",
   "metadata": {},
   "source": [
    "FOREIGN KEY: A foreign key is a column or set of columns in a table that refers to the primary key of another table. <br>\n",
    "A foreign key is used to establish a relationship between two tables and enforce referential integrity. <br>\n",
    "In other words, a foreign key ensures that the values in the column(s) of one table exist in the primary key column(s) of another table."
   ]
  },
  {
   "cell_type": "markdown",
   "id": "c16fea89-9d7b-4bd1-abac-c33db430e058",
   "metadata": {},
   "source": [
    "Example:\n",
    "\n",
    "CREATE TABLE orders ( <br>\n",
    "    order_id INT PRIMARY KEY, <br>\n",
    "    customer_id INT, <br>\n",
    "    order_date DATE, <br>\n",
    "    FOREIGN KEY (customer_id) REFERENCES customers(id) <br>\n",
    ");"
   ]
  },
  {
   "cell_type": "markdown",
   "id": "029483d2-4a26-45f1-ab99-007f7aae3a10",
   "metadata": {},
   "source": [
    "### Q6. Write a python code to connect MySQL to python. Explain the cursor() and execute() method."
   ]
  },
  {
   "cell_type": "markdown",
   "id": "8b872e61-1805-496e-92b6-4c51fedee30d",
   "metadata": {},
   "source": [
    "Answer 6:-\n",
    "\n",
    "To connect MySQL to Python, we use a Python MySQL Connector library."
   ]
  },
  {
   "cell_type": "markdown",
   "id": "80f8739e-30c9-4f2f-bb12-550452b19bf0",
   "metadata": {},
   "source": [
    "Example:\n",
    "\n",
    "import mysql.connector\n",
    "\n",
    "mydb = mysql.connector.connect( <br>\n",
    "  host=\"localhost\", <br>\n",
    "  user=\"yourusername\", <br>\n",
    "  password=\"yourpassword\", <br>\n",
    "  database=\"yourdatabase\" <br>\n",
    ") <br>\n",
    "\n",
    "mycursor = mydb.cursor() <br>\n",
    "mycursor.execute(\"SELECT * FROM customers\") <br>\n",
    "\n",
    "result = mycursor.fetchall() <br>\n",
    "\n",
    "for row in result: <br>\n",
    "  print(row)"
   ]
  },
  {
   "cell_type": "markdown",
   "id": "48ae0cd4-d394-4181-b6df-79ba963fe51b",
   "metadata": {},
   "source": [
    "CURSOR: The cursor() method returns a cursor object, which is used to execute SQL queries and fetch results. <br>\n",
    "The execute() method is used to execute a SQL query. <br>\n",
    "It takes a string parameter that contains the SQL statement to be executed."
   ]
  },
  {
   "cell_type": "markdown",
   "id": "d22e9e1d-65f7-47a2-9163-cd434522ec87",
   "metadata": {},
   "source": [
    "EXECUTE: When you execute a query with the execute() method, the cursor object is moved to the first row of the result set. <br>\n",
    "You can then fetch the result set using methods such as fetchall(), fetchone(), or fetchmany(). <br>\n",
    "These methods return a list of tuples, where each tuple represents a row of the result set."
   ]
  },
  {
   "cell_type": "markdown",
   "id": "3e502612-1f52-4a70-9544-163dd107eef3",
   "metadata": {},
   "source": [
    "### Q7. Give the order of execution of SQL clauses in an SQL query."
   ]
  },
  {
   "cell_type": "markdown",
   "id": "21e03efa-a794-45d6-8acc-f98234c5ce44",
   "metadata": {},
   "source": [
    "Answer 7:-\n",
    "\n",
    "The order of execution of SQL clauses in an SQL query is as follows:\n",
    "\n",
    "1. FROM clause: This clause specifies the table or tables from which data will be retrieved.\n",
    "2. JOIN clause: This clause is used to combine data from two or more tables based on a common column.\n",
    "3. WHERE clause: This clause is used to filter data based on a condition.\n",
    "4. GROUP BY clause: This clause is used to group data based on one or more columns.\n",
    "5. HAVING clause: This clause is used to filter data based on a condition after the data has been grouped.\n",
    "6. SELECT clause: This clause is used to select the columns that will be included in the result set.\n",
    "7. ORDER BY clause: This clause is used to sort the result set based on one or more columns.\n",
    "8. LIMIT clause: This clause is used to limit the number of rows that are returned in the result set."
   ]
  },
  {
   "cell_type": "code",
   "execution_count": null,
   "id": "8b4cf797-1487-43ac-8e42-c4284d70475c",
   "metadata": {},
   "outputs": [],
   "source": []
  }
 ],
 "metadata": {
  "kernelspec": {
   "display_name": "Python 3 (ipykernel)",
   "language": "python",
   "name": "python3"
  },
  "language_info": {
   "codemirror_mode": {
    "name": "ipython",
    "version": 3
   },
   "file_extension": ".py",
   "mimetype": "text/x-python",
   "name": "python",
   "nbconvert_exporter": "python",
   "pygments_lexer": "ipython3",
   "version": "3.10.8"
  }
 },
 "nbformat": 4,
 "nbformat_minor": 5
}
