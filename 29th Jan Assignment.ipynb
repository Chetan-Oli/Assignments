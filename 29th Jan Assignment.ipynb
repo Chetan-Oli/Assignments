{
 "cells": [
  {
   "cell_type": "markdown",
   "id": "585e95cf-4899-44b8-8f7a-007c37a41657",
   "metadata": {},
   "source": [
    "# 29th Jan | Assignment"
   ]
  },
  {
   "cell_type": "markdown",
   "id": "cfcc63fc-1c77-49e2-988f-72a1800e0ebf",
   "metadata": {},
   "source": [
    "### Q1. Who developed Python Programming Language? "
   ]
  },
  {
   "cell_type": "markdown",
   "id": "9a506e7c-14bf-43f1-8d9b-ff36fa8749ad",
   "metadata": {},
   "source": [
    "Answer 1:-\n",
    "\n",
    "Python was created by Guido van Rossum, and first released on February 20, 1991."
   ]
  },
  {
   "cell_type": "markdown",
   "id": "a48059a2-a9f0-47e3-b69d-d62ce6135009",
   "metadata": {},
   "source": [
    "### Q2. Which type of Programming does Python support? "
   ]
  },
  {
   "cell_type": "markdown",
   "id": "3cf196b7-35e8-4ab0-99d3-010d0a7da9f6",
   "metadata": {},
   "source": [
    "Answer 2:-\n",
    "\n",
    "Python is an interpreted programming language, supporting object-oriented, structured, and functional programming."
   ]
  },
  {
   "cell_type": "markdown",
   "id": "b02eab79-06db-4ea9-9400-64aa988d0454",
   "metadata": {},
   "source": [
    "### Q3. Is Python case sensitive when dealing with identifiers? "
   ]
  },
  {
   "cell_type": "markdown",
   "id": "551764bf-5c8a-42c6-a69f-999eadcbc9e3",
   "metadata": {},
   "source": [
    "Answer 3:-\n",
    "\n",
    "Yes, Python is a case-sensitive when dealing with identifiers, i.e., it treats uppercase and lowercase characters differently."
   ]
  },
  {
   "cell_type": "markdown",
   "id": "389afc9a-935d-4cd1-b03f-c2fad377d197",
   "metadata": {},
   "source": [
    "### Q4. What is the correct extension of the Python file? "
   ]
  },
  {
   "cell_type": "markdown",
   "id": "9643beec-ffc5-4fde-ba1e-959adda7415a",
   "metadata": {},
   "source": [
    "Answer 4:-\n",
    "\n",
    "The extension for Python file is \".py\", i.e., \".py\" file is the program file that contains script that has been written in the Python language."
   ]
  },
  {
   "cell_type": "markdown",
   "id": "a6f7441e-c8a3-4eb3-9dea-aa21fa66aa71",
   "metadata": {},
   "source": [
    "### Q5. Is Python code compiled or interpreted?"
   ]
  },
  {
   "cell_type": "markdown",
   "id": "5a79ff4f-5b34-4174-b396-65c8d2f57fdb",
   "metadata": {},
   "source": [
    "Answer 5:- \n",
    "\n",
    "Python is an interpreted language, which means the source code of a Python program is converted into bytecode that is then executed by the Python virtual machine."
   ]
  },
  {
   "cell_type": "markdown",
   "id": "d4f87476-6cb8-4b45-a21c-efa7806ef627",
   "metadata": {},
   "source": [
    "### Q6. Name a few blocks of code used to define in Python language?"
   ]
  },
  {
   "cell_type": "markdown",
   "id": "63d76d7e-7827-457c-b945-58388b560546",
   "metadata": {},
   "source": [
    "Answer 6:-\n",
    "\n",
    "Indentation is used to define a block of code in python. In Python, indentation is done with whitespace. All statements with the same right-hand distance belong to the same code block. If a block needs to be more nested, it is indented to the right."
   ]
  },
  {
   "cell_type": "markdown",
   "id": "6d33ca69-6faf-4613-9a68-396a380994da",
   "metadata": {},
   "source": [
    "### Q7. State a character used to give single-line comments in Python? "
   ]
  },
  {
   "cell_type": "markdown",
   "id": "36b70f6c-f827-436c-84f6-4f392d86a68b",
   "metadata": {},
   "source": [
    "Answer 7:-\n",
    "\n",
    "\"#\" is used to give single-line comments in Python. We can write a single-line comment by adding a single # character before any statement or line of code."
   ]
  },
  {
   "cell_type": "markdown",
   "id": "c155ed06-3689-4a46-9b56-48693450704e",
   "metadata": {},
   "source": [
    "### Q8. Mention functions which can help us to find the version of python that we are currently working on? "
   ]
  },
  {
   "cell_type": "markdown",
   "id": "dd72df57-9803-4edf-bb7f-d15b874351eb",
   "metadata": {},
   "source": [
    "Answer 8:-\n",
    "\n",
    "The function \"sys.version\" can help us to find the version of python that we are currently working on. It also contains information on the build number and compiler used. This function also returns the current date, time, bits etc along with the version."
   ]
  },
  {
   "cell_type": "markdown",
   "id": "e5f37268-b877-4798-a384-f2458d20b3c5",
   "metadata": {},
   "source": [
    "### Q9. Python supports the creation of anonymous functions at runtime, using a construct called _______"
   ]
  },
  {
   "cell_type": "markdown",
   "id": "fddc56be-a024-4b5e-a3af-f0468cadd4a2",
   "metadata": {},
   "source": [
    "Answer 9:-\n",
    "\n",
    "Python supports the creation of anonymous functions at runtime, using a construct called \"Lambda\"."
   ]
  },
  {
   "cell_type": "markdown",
   "id": "465d2587-357c-4707-adde-fec257b85cbc",
   "metadata": {},
   "source": [
    "### Q10. What does pip stand for python? "
   ]
  },
  {
   "cell_type": "markdown",
   "id": "692235a8-b3b4-4c3f-945b-c79f765366ad",
   "metadata": {},
   "source": [
    "Answer 10:-\n",
    "\n",
    "PIP stands for Preferred Installer Program, helps you to install libraries and dependencies, that doesn’t come with the standard package of Python. So, PIP is essentially a package manager for Python."
   ]
  },
  {
   "cell_type": "markdown",
   "id": "06de2120-d193-430c-a454-a908124c1417",
   "metadata": {},
   "source": [
    "### Q11. Mention a few built-in functions in python?"
   ]
  },
  {
   "cell_type": "markdown",
   "id": "048037e1-a50d-44e3-bbdb-2f9dbe5107ba",
   "metadata": {},
   "source": [
    "Answer 11:-\n",
    "\n",
    "The built-in Python functions are pre-defined by the python interpreter. There are 68 built-in python functions. Ex:-\n",
    "\n",
    "- input() - Allowing user input\n",
    "- int() - Returns an integer number\n",
    "- float() - Returns a floating point number\n",
    "- bool() - Returns the boolean value of the specified object\n",
    "- complex() - Returns a complex number\n",
    "- list() - Returns a list\n",
    "- tuple() - Returns a tuple\n",
    "- set() - Returns a new set object\n",
    "- dict() - Returns a dictionary (Array)"
   ]
  },
  {
   "cell_type": "markdown",
   "id": "c53e880f-53ea-4b6f-bdb6-ea1b369ff6a2",
   "metadata": {},
   "source": [
    "### Q12. What is the maximum possible length of an identifier in Python?"
   ]
  },
  {
   "cell_type": "markdown",
   "id": "38399e04-79de-4d9f-8cba-14712c0aab57",
   "metadata": {},
   "source": [
    "Answer 12:-\n",
    "\n",
    "Python identifiers are unlimited in length, but as per PEP-8 you should limit identifier to a maximum of 79 characters for better readability."
   ]
  },
  {
   "cell_type": "markdown",
   "id": "5922eec9-789c-4d8a-8d31-869748eb6004",
   "metadata": {},
   "source": [
    "### Q13. What are the benefits of using Python?"
   ]
  },
  {
   "cell_type": "markdown",
   "id": "8ea51211-2e50-4880-92f7-1f39762d21fe",
   "metadata": {},
   "source": [
    "Answer 13:-\n",
    "\n",
    "Benefits of using Python:-\n",
    "\n",
    "1). Simple to Use and Understand:-\n",
    "\n",
    "For newcomers, Python is simple to understand and use. It's a highly developed programming language with an English-like syntax, thus making the language simple to adapt. Because of its simplicity, Python's fundamentals can be implemented faster than those in other programming languages.\n",
    "\n",
    "2). Free and Open-Source:-\n",
    "\n",
    "Python is distributed under an open-source license approved by the Open-Source Initiative (OSI). As a result, users can work on it and distribute it. Users can download the source code, modify it, and even distribute their Python version.\n",
    "\n",
    "3). Productivity has Increased:-\n",
    "\n",
    "Users can create new kinds of applications using the Python programming language. Because of its versatility, this language permits the operator to try new things. Because of the language, the user is not prevented from trying something new.\n",
    "\n",
    "4). Interpreted Language:-\n",
    "\n",
    "It is an interpreted language, implying that the code is implemented line by line. This is one of the features that makes it simple to use. In the event of an error, it halts the process and reports the problem. Python only shows one error, even if the program has multiple errors. This makes debugging easier.\n",
    "\n",
    "5). Extensive library:-\n",
    "\n",
    "Python includes a huge number of libraries that the user can use. The standard library in Python is immense, and it includes almost every function imaginable. Large and supportive communities, as well as corporate sponsorship, have contributed to this. When working with Python, users do not need to use external libraries.\n",
    "\n",
    "6). Dynamically Typed:-\n",
    "\n",
    "Until we run the program, Python has no idea what kinds of parameter we're talking about. It allocates the data type automatically during execution. Variables and their data types do not need to be declared by the programmer.\n",
    "\n",
    "7). Portability:-\n",
    "\n",
    "Many other languages, including C/C++, demand that user must change their code to run on different platforms. Python, on the contrary, is not equivalent to other programming languages. It only needs to be written once, and then it can be run anywhere.\n",
    "\n",
    "8). Supportive community:-\n",
    "\n",
    "Python is a programming language generated many years ago and has a large community that can assist programmers of all experience levels, from rookies to specialists. Python's community has helped it grow quickly in comparison to other languages. The Python programming language comes with many guides, instructional videos, and highly understandable documentation to help developers learn the language faster and more effectively."
   ]
  },
  {
   "cell_type": "markdown",
   "id": "ce1d4d38-e8af-49fa-bdfc-7b80738e1e1f",
   "metadata": {},
   "source": [
    "### Q14. How is memory managed in Python?"
   ]
  },
  {
   "cell_type": "markdown",
   "id": "1f63cfb2-16a1-4cde-abfc-24f2978ce88e",
   "metadata": {},
   "source": [
    "Answer 14:-\n",
    "\n",
    "Memory in Python is managed by Python private heap space. All Python objects and data structures are located in a private heap. This private heap is taken care of by Python Interpreter itself, and a programmer doesn’t have access to this private heap.\n",
    "\n",
    "Python memory manager takes care of the allocation of Python private heap space.\n",
    "\n",
    "Memory for Python private heap space is made available by Python’s in-built garbage collector, which recycles and frees up all the unused memory."
   ]
  },
  {
   "cell_type": "markdown",
   "id": "83a33f82-1ac9-410a-9cca-c48657771046",
   "metadata": {},
   "source": [
    "### Q15. How to install Python on Windows and set path variables?"
   ]
  },
  {
   "cell_type": "markdown",
   "id": "3bf8035b-20bb-4099-82ae-affa5a9b24b2",
   "metadata": {},
   "source": [
    "Answer 15:-\n",
    "\n",
    "Here is how to install Python on Windows and set path variables:-\n",
    "\n",
    "1. Install python from this link https://www.python.org/downloads/\n",
    "\n",
    "2. After this, install it on your PC. Look for the location where PYTHON has been installed on your PC using the following command on your command prompt: cmd python.\n",
    "\n",
    "3. Then go to advanced system settings and add new variable and name it as PYTHON_NAME and paste the copied path.\n",
    "\n",
    "4. Then look for the path variable, select it's value and select edit\n",
    "\n",
    "5. Add a semicolon towards the end of the value if it's not present and then type %PYTHON_HOME%"
   ]
  },
  {
   "cell_type": "markdown",
   "id": "d375548c-97d4-42a7-9899-94104e384786",
   "metadata": {},
   "source": [
    "### Q16. Is indentation required in python?"
   ]
  },
  {
   "cell_type": "markdown",
   "id": "d37d622c-e153-4356-b3bc-909e3a106966",
   "metadata": {},
   "source": [
    "Answer 16:-\n",
    "\n",
    "Indentation refers to the spaces at the beginning of a code line. Where in other programming languages the indentation in code is for readability only, the indentation in Python is very important. Python uses indentation to indicate a block of code.\n",
    "\n",
    "In Python, all the code that you type is arranged via correct whitespaces and therefore if at any instance you have a bad indentation, the overall code will not run and the interpreter will simply return an error function."
   ]
  },
  {
   "cell_type": "code",
   "execution_count": null,
   "id": "437f4d6a-c764-4de2-8f3c-e499fac49ae1",
   "metadata": {},
   "outputs": [],
   "source": []
  }
 ],
 "metadata": {
  "kernelspec": {
   "display_name": "Python 3 (ipykernel)",
   "language": "python",
   "name": "python3"
  },
  "language_info": {
   "codemirror_mode": {
    "name": "ipython",
    "version": 3
   },
   "file_extension": ".py",
   "mimetype": "text/x-python",
   "name": "python",
   "nbconvert_exporter": "python",
   "pygments_lexer": "ipython3",
   "version": "3.10.8"
  }
 },
 "nbformat": 4,
 "nbformat_minor": 5
}
