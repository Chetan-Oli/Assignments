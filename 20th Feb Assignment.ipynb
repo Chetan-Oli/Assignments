{
 "cells": [
  {
   "cell_type": "markdown",
   "id": "2e20d76d-2e0a-4c1d-ae62-057f404a42c5",
   "metadata": {},
   "source": [
    "# 20th Feb | Assignment"
   ]
  },
  {
   "cell_type": "markdown",
   "id": "e0f794f7-d7d4-45ff-bc1e-bd4f415907ee",
   "metadata": {},
   "source": [
    "### Q1. Explain GET and POST methods."
   ]
  },
  {
   "cell_type": "markdown",
   "id": "96079e1d-0530-42e5-8364-b0c87962b5c1",
   "metadata": {},
   "source": [
    "Answer 1:-\n",
    "\n",
    "GET:\n",
    "\n",
    "GET is a method used to request data from a server. <br>\n",
    "When a client (such as a web browser) sends a GET request, it includes information about the desired resource (such as a web page or an image) in the URL of the request. The server responds by sending the requested data back to the client. <br>\n",
    "GET requests are generally used to retrieve data, and should not have any side effects on the server or the data being requested.\n",
    "\n",
    "POST:\n",
    "\n",
    "POST is a method used to send data to a server to create or update a resource. <br>\n",
    "When a client sends a POST request, it includes the data to be sent in the body of the request. The server processes the data and may update or create a resource based on the data provided. <br> \n",
    "POST requests may have side effects on the server or the data being updated, such as creating new records in a database."
   ]
  },
  {
   "cell_type": "markdown",
   "id": "44629dd7-185e-4042-87e7-f6dbe257fefd",
   "metadata": {},
   "source": [
    "### Q2. Why is request used in Flask?"
   ]
  },
  {
   "cell_type": "markdown",
   "id": "fd08ef3b-8be9-4563-8d8a-b1584e8ce075",
   "metadata": {},
   "source": [
    "Answer 2:-\n",
    "\n",
    "In Flask, the request object is used to access the incoming client request data, such as form data, query parameters, headers, and more. <br>\n",
    "When a client sends a request to a Flask application, Flask automatically creates a request object that contains all the information about the incoming request. This object is then passed to the view function that corresponds to the requested URL, allowing the function to access and manipulate the incoming request data.\n",
    "\n",
    "The request object in Flask provides a number of useful attributes and methods, including:\n",
    "- args: A dictionary containing the query parameters of the request\n",
    "- form: A dictionary containing the form data of the request\n",
    "- json: If the incoming request has a JSON payload, this attribute will contain the parsed JSON data\n",
    "- headers: A dictionary containing the headers of the request\n",
    "- cookies: A dictionary containing the cookies of the request"
   ]
  },
  {
   "cell_type": "markdown",
   "id": "3e45eda7-f456-42de-8548-aa0d22c2219f",
   "metadata": {},
   "source": [
    "### Q3. Why is redirect() used in Flask?"
   ]
  },
  {
   "cell_type": "markdown",
   "id": "1810dada-bee6-498c-8208-21c77b555165",
   "metadata": {},
   "source": [
    "Answer 3:-\n",
    "\n",
    "In Flask, the redirect() function is used to redirect the user to a different URL.\n",
    "\n",
    "There are many scenarios where redirecting a user to a different URL is necessary or desirable, such as:\n",
    "- After the user has successfully completed a form submission\n",
    "- When the user tries to access a page they don't have permission to view\n",
    "- When a URL has been changed and the old URL needs to be redirected to the new one\n",
    "\n",
    "The redirect() function takes a single argument: the URL to redirect to. Once the redirect() function is called, Flask will send a response to the client with an HTTP status code of 302 (Found) and a Location header set to the URL passed to the redirect() function. This causes the client's browser to immediately navigate to the new URL.\n",
    "\n"
   ]
  },
  {
   "cell_type": "markdown",
   "id": "bb53ed8f-d1cf-4ff9-98e1-abdcac93e06c",
   "metadata": {},
   "source": [
    "### Q4. What are templates in Flask? Why is the render_template() function used?"
   ]
  },
  {
   "cell_type": "markdown",
   "id": "b10f689f-9ece-4af6-8c10-fbc7fb09db46",
   "metadata": {},
   "source": [
    "Answer 4:-\n",
    "\n",
    "In Flask, templates are used to separate the presentation logic from the application logic. A template is a file that contains HTML, as well as placeholders for dynamic content, such as variables or expressions. <br>\n",
    "Templates allow Flask to generate dynamic HTML pages that can change based on different data or user inputs. By using templates, Flask applications can be more maintainable and easier to develop, as the HTML code is separated from the application logic, and changes to the presentation can be made without affecting the application logic.\n",
    "\n",
    "The render_template() function is used in Flask to render a template and generate an HTML response. This function takes the name of the template file (including the file extension) and any additional data to be passed to the template as keyword arguments."
   ]
  },
  {
   "cell_type": "markdown",
   "id": "ca0bc31a-a03d-4db4-acb4-f74411a955aa",
   "metadata": {},
   "source": [
    "### Q5. Create a simple API. Use Postman to test it. Attach the screenshot of the output in the Jupyter Notebook."
   ]
  },
  {
   "cell_type": "markdown",
   "id": "469fa48a-09d7-4d5c-87ea-0f38384bd70f",
   "metadata": {},
   "source": [
    "Answer 5:-"
   ]
  },
  {
   "cell_type": "code",
   "execution_count": 1,
   "id": "d9af88ea-4edd-4284-b8fb-b526c52e334a",
   "metadata": {},
   "outputs": [
    {
     "name": "stdout",
     "output_type": "stream",
     "text": [
      "Collecting flask\n",
      "  Downloading Flask-2.2.3-py3-none-any.whl (101 kB)\n",
      "\u001b[2K     \u001b[90m━━━━━━━━━━━━━━━━━━━━━━━━━━━━━━━━━━━━━━━\u001b[0m \u001b[32m101.8/101.8 kB\u001b[0m \u001b[31m5.1 MB/s\u001b[0m eta \u001b[36m0:00:00\u001b[0m\n",
      "\u001b[?25hRequirement already satisfied: Jinja2>=3.0 in /opt/conda/lib/python3.10/site-packages (from flask) (3.1.2)\n",
      "Collecting itsdangerous>=2.0\n",
      "  Downloading itsdangerous-2.1.2-py3-none-any.whl (15 kB)\n",
      "Requirement already satisfied: click>=8.0 in /opt/conda/lib/python3.10/site-packages (from flask) (8.1.3)\n",
      "Collecting Werkzeug>=2.2.2\n",
      "  Downloading Werkzeug-2.2.3-py3-none-any.whl (233 kB)\n",
      "\u001b[2K     \u001b[90m━━━━━━━━━━━━━━━━━━━━━━━━━━━━━━━━━━━━━━\u001b[0m \u001b[32m233.6/233.6 kB\u001b[0m \u001b[31m32.7 MB/s\u001b[0m eta \u001b[36m0:00:00\u001b[0m\n",
      "\u001b[?25hRequirement already satisfied: MarkupSafe>=2.0 in /opt/conda/lib/python3.10/site-packages (from Jinja2>=3.0->flask) (2.1.1)\n",
      "Installing collected packages: Werkzeug, itsdangerous, flask\n",
      "Successfully installed Werkzeug-2.2.3 flask-2.2.3 itsdangerous-2.1.2\n",
      "Note: you may need to restart the kernel to use updated packages.\n"
     ]
    }
   ],
   "source": [
    "pip install flask"
   ]
  },
  {
   "cell_type": "code",
   "execution_count": 1,
   "id": "a9c9ca60-01e3-47af-960f-2b210bbe78ba",
   "metadata": {},
   "outputs": [
    {
     "name": "stdout",
     "output_type": "stream",
     "text": [
      " * Serving Flask app '__main__'\n",
      " * Debug mode: off\n"
     ]
    },
    {
     "name": "stderr",
     "output_type": "stream",
     "text": [
      "WARNING: This is a development server. Do not use it in a production deployment. Use a production WSGI server instead.\n",
      " * Running on all addresses (0.0.0.0)\n",
      " * Running on http://127.0.0.1:5000\n",
      " * Running on http://172.18.0.20:5000\n",
      "Press CTRL+C to quit\n",
      "172.18.0.2 - - [15/Apr/2023 06:36:54] \"GET /assignment HTTP/1.1\" 200 -\n"
     ]
    }
   ],
   "source": [
    "from flask import Flask\n",
    "\n",
    "app = Flask(__name__)\n",
    "\n",
    "@app.route(\"/assignment\")\n",
    "def assignment():\n",
    "    return \"This is my assignment\"\n",
    "\n",
    "if __name__==\"__main__\":\n",
    "    app.run(host=\"0.0.0.0\")"
   ]
  },
  {
   "cell_type": "markdown",
   "id": "30a5d4f8-3a3c-48b2-81b0-b0c6606318d0",
   "metadata": {},
   "source": [
    "Postman screenshot - https://raw.githubusercontent.com/Chetan-Oli/Screenshots/main/Assignment%20project%20(20th%20Feb).png"
   ]
  },
  {
   "cell_type": "code",
   "execution_count": null,
   "id": "d8520b29-1b16-442f-85a0-c81b81db1bf4",
   "metadata": {},
   "outputs": [],
   "source": []
  }
 ],
 "metadata": {
  "kernelspec": {
   "display_name": "Python 3 (ipykernel)",
   "language": "python",
   "name": "python3"
  },
  "language_info": {
   "codemirror_mode": {
    "name": "ipython",
    "version": 3
   },
   "file_extension": ".py",
   "mimetype": "text/x-python",
   "name": "python",
   "nbconvert_exporter": "python",
   "pygments_lexer": "ipython3",
   "version": "3.10.8"
  }
 },
 "nbformat": 4,
 "nbformat_minor": 5
}
