{
 "cells": [
  {
   "cell_type": "markdown",
   "id": "6b8ea118-295a-4759-b273-afe4051cd9ed",
   "metadata": {},
   "source": [
    "# 14th Feb | Assignment"
   ]
  },
  {
   "cell_type": "markdown",
   "id": "235f0377-36a6-42c4-b376-7a3d8b35051e",
   "metadata": {},
   "source": [
    "### Q1. What is multithreading in python? Why is it used? Name the module used to handle threads in python."
   ]
  },
  {
   "cell_type": "markdown",
   "id": "7c9d678c-bd10-4194-b24c-aeaa4c1e1419",
   "metadata": {},
   "source": [
    "Answer 1:-\n",
    "\n",
    "Multithreading in Python refers to the ability to execute multiple threads or tasks simultaneously within a single process. A thread is a lightweight sub-process that shares the same memory space as the main process and can run concurrently with other threads.\n",
    "\n",
    "Multithreading is used in Python to improve the performance of programs that perform multiple tasks simultaneously. For example, in a web server application, multiple threads can be used to handle multiple requests concurrently, improving the overall throughput of the application. \n",
    "\n",
    "The threading module in Python is used to handle threads. It provides a simple and intuitive API for creating and managing threads."
   ]
  },
  {
   "cell_type": "markdown",
   "id": "8b30bae5-429a-47a5-a75b-b568b3b4a77f",
   "metadata": {},
   "source": [
    "### Q2. Why threading module used? Write the use of the following functions:\n",
    "### 1. activeCount() \n",
    "### 2. currentThread()\n",
    "### 3. enumerate()"
   ]
  },
  {
   "cell_type": "markdown",
   "id": "b24223c0-1141-4286-9365-94942adc6904",
   "metadata": {},
   "source": [
    "Answer 2:-\n",
    "\n",
    "The threading module in Python is used to support multithreading in Python programs. It provides a simple and intuitive API for creating and managing threads, allowing you to write programs that can execute multiple threads or tasks simultaneously.\n",
    "\n",
    "1.) activeCount(): <br>\n",
    "This function returns the number of active threads in the current Python interpreter. An active thread is a thread that has been started but has not yet finished executing. <br>\n",
    "This function can be useful for debugging or monitoring purposes, as it allows you to keep track of how many threads are running in your program at any given time.\n",
    "\n",
    "2.) currentThread(): <br>\n",
    "This function returns a reference to the current thread object, which represents the thread that is currently executing the code. <br>\n",
    "This function can be used to get information about the current thread, such as its name, ID, and state.\n",
    "\n",
    "3.) enumerate(): <br> \n",
    "This function returns a list of all Thread objects that are currently active. Each thread object represents a thread that has been started but has not yet finished executing. <br>\n",
    "This function can be useful for debugging or monitoring purposes, as it allows you to get a snapshot of all the threads that are currently running in your program. The list returned by enumerate() includes the current thread object, so you can use it to get information about all the threads in your program."
   ]
  },
  {
   "cell_type": "markdown",
   "id": "eeb0130c-0523-44c1-b542-473e782f4866",
   "metadata": {},
   "source": [
    "### Q3. Explain the following functions:\n",
    "### 1. run()\n",
    "### 2. start()\n",
    "### 3. join()\n",
    "### 4. isAlive()"
   ]
  },
  {
   "cell_type": "markdown",
   "id": "42f249d5-9685-4ccb-8d6c-08b3b6fb25ba",
   "metadata": {},
   "source": [
    "Answer 3:-\n",
    "\n",
    "1.) run(): <br>\n",
    "The run() function is the entry point for the thread when it starts executing. <br>\n",
    "This function contains the code that will be executed in the thread. You can override this function in a subclass to define the behavior of the thread.\n",
    "\n",
    "2.) start(): <br> \n",
    "The start() function is used to start a thread by calling its run() function in a separate thread of execution. <br>\n",
    "Once you call the start() function, the thread will execute its run() function in parallel with the other threads in your program. If you call run() directly, it will execute the thread's code in the current thread, not in a separate thread.\n",
    "\n",
    "3.) join(): <br>\n",
    "The join() function is used to wait for a thread to finish executing. When you call join() on a thread, the calling thread will block until the target thread completes its execution. <br>\n",
    "This function is useful when you need to synchronize the execution of multiple threads in your program.\n",
    "\n",
    "4.) isAlive(): <br>\n",
    "The isAlive() function is used to check whether a thread is currently executing or not. If the thread is currently executing, this function will return True, otherwise it will return False. <br>\n",
    "You can use this function to check whether a thread has completed its execution or not. If a thread has completed its execution, it is no longer alive and cannot be restarted or joined."
   ]
  },
  {
   "cell_type": "markdown",
   "id": "d1e4df36-3db5-486d-949f-e1f9fc837eac",
   "metadata": {},
   "source": [
    "### Q4. Write a python program to create two threads. Thread one must print the list of squares and thread two must print the list of cubes."
   ]
  },
  {
   "cell_type": "code",
   "execution_count": 2,
   "id": "a3e56ebc-69c7-4ee6-a088-1db50362fef0",
   "metadata": {},
   "outputs": [
    {
     "name": "stdin",
     "output_type": "stream",
     "text": [
      "Enter the number: 5\n"
     ]
    },
    {
     "name": "stdout",
     "output_type": "stream",
     "text": [
      "Squares of 1 : 1\n",
      "Squares of 2 : 4\n",
      "Squares of 3 : 9\n",
      "Squares of 4 : 16\n",
      "Squares of 5 : 25\n",
      "Cubes of 1 : 1\n",
      "Cubes of 2 : 8\n",
      "Cubes of 3 : 27\n",
      "Cubes of 4 : 64\n",
      "Cubes of 5 : 125\n"
     ]
    }
   ],
   "source": [
    "# Answer 4:-\n",
    "\n",
    "import threading\n",
    "\n",
    "def squares(n):\n",
    "    for i in range(1,n+1):\n",
    "        print(\"Squares of\",i,\":\",i*i)\n",
    "        \n",
    "def cubes(n):\n",
    "    for i in range(1,n+1):\n",
    "        print(\"Cubes of\",i,\":\",i*i*i)\n",
    "\n",
    "n = int(input(\"Enter the number:\"))\n",
    "\n",
    "t1 = threading.Thread(target = squares, args = (n,))\n",
    "t2 = threading.Thread(target = cubes, args = (n,))\n",
    "\n",
    "t1.start()\n",
    "t2.start()\n",
    "\n",
    "t1.join()\n",
    "t2.join()"
   ]
  },
  {
   "cell_type": "markdown",
   "id": "d2f33981-330b-42db-9e1b-e396b717885f",
   "metadata": {},
   "source": [
    "### Q5. State advantages and disadvantages of multithreading."
   ]
  },
  {
   "cell_type": "markdown",
   "id": "ee612f89-ff37-43e3-bb82-b7cac750e949",
   "metadata": {},
   "source": [
    "Answer 5:-\n",
    "\n",
    "Advantages of multithreading:\n",
    "\n",
    "1.) Increased performance: <br>\n",
    "By allowing multiple threads to execute concurrently, multithreading can improve the performance of programs that perform complex tasks. This can lead to faster execution times and increased throughput. \n",
    "\n",
    "2.) Improved responsiveness: <br>\n",
    "Multithreading can improve the responsiveness of programs by allowing them to perform background tasks while still responding to user input in real-time.\n",
    "\n",
    "3.) Resource sharing: <br>\n",
    "Multithreading allows multiple threads to share resources, such as memory, I/O devices, and CPU time. This can lead to more efficient use of system resources and reduced overhead.\n",
    "\n",
    "4.) Simplified programming: <br>\n",
    "Multithreading can simplify the programming of complex tasks by breaking them down into smaller, more manageable threads that can be executed concurrently.\n",
    "\n",
    "5.) Scalability: <br>\n",
    "Multithreading can provide better scalability to programs by allowing them to take advantage of multiple CPU cores and processors.\n",
    "\n",
    "Disadvantages of multithreading:\n",
    "\n",
    "1.) Increased complexity: <br>\n",
    "Multithreading can increase the complexity of programs, as developers need to manage issues such as thread synchronization, deadlocks, and race conditions.\n",
    "\n",
    "2.) Debugging difficulties: <br>\n",
    "Multithreaded programs can be difficult to debug, as problems may occur only intermittently and be difficult to reproduce.\n",
    "\n",
    "3.) Resource contention: <br>\n",
    "Multithreading can lead to resource contention, where multiple threads compete for the same resources, such as memory or I/O devices. This can lead to performance issues and increased overhead.\n",
    "\n",
    "4.) Security issues: <br>\n",
    "Multithreading can introduce security issues, such as race conditions, where multiple threads access the same resources at the same time, leading to unexpected results.\n",
    "\n",
    "5.) Platform dependencies: <br>\n",
    "Multithreading can be platform-dependent, as different operating systems may have different support for multithreading, leading to portability issues."
   ]
  },
  {
   "cell_type": "markdown",
   "id": "bae0a65d-72d7-4f24-95cd-b9ab98729199",
   "metadata": {},
   "source": [
    "### Q6. Explain deadlocks and race conditions."
   ]
  },
  {
   "cell_type": "markdown",
   "id": "743da550-f4fa-4e8b-837c-ad8e03dd6a36",
   "metadata": {},
   "source": [
    "Answer 6:-\n",
    "\n",
    "Deadlocks: <br>\n",
    "A deadlock occurs when two or more threads are blocked waiting for each other to release a resource. <br>\n",
    "This can happen when a thread acquires a resource and then waits for another resource that is being held by a second thread, while that second thread is waiting for the first thread to release the resource it is holding. This creates a circular waiting scenario, where none of the threads can proceed, resulting in a deadlock. <br>\n",
    "Deadlocks can be difficult to detect and resolve, as they may occur only intermittently and may require careful synchronization of resources to prevent.\n",
    "\n",
    "Race conditions: <br>\n",
    "A race condition occurs when two or more threads access a shared resource at the same time and the final outcome depends on the order in which the threads execute. This can lead to unexpected and unpredictable behavior, as the outcome may vary depending on the timing of the threads. <br>\n",
    "For example, if two threads increment the same variable simultaneously, the final value of the variable may be incorrect, as one thread's update may overwrite the other's. <br>\n",
    "Race conditions can be prevented by using synchronization mechanisms such as locks or semaphores to ensure that only one thread accesses the shared resource at a time."
   ]
  },
  {
   "cell_type": "code",
   "execution_count": null,
   "id": "cda0b970-83d8-409c-b90a-1a90915bf796",
   "metadata": {},
   "outputs": [],
   "source": []
  }
 ],
 "metadata": {
  "kernelspec": {
   "display_name": "Python 3 (ipykernel)",
   "language": "python",
   "name": "python3"
  },
  "language_info": {
   "codemirror_mode": {
    "name": "ipython",
    "version": 3
   },
   "file_extension": ".py",
   "mimetype": "text/x-python",
   "name": "python",
   "nbconvert_exporter": "python",
   "pygments_lexer": "ipython3",
   "version": "3.10.8"
  }
 },
 "nbformat": 4,
 "nbformat_minor": 5
}
