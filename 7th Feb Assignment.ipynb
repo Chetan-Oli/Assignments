{
 "cells": [
  {
   "cell_type": "markdown",
   "id": "e1f8e0c3-aa4c-47a3-b2be-a02eac83b174",
   "metadata": {},
   "source": [
    "# 7th Feb | Assignment"
   ]
  },
  {
   "cell_type": "markdown",
   "id": "8f4d2609-c944-43bb-83fa-8043f67bba82",
   "metadata": {},
   "source": [
    "### Q1. You are writing code for a company. The requirement of the company is that you create a python function that will check whether the password entered by the user is correct or not. The function should take the password as input and return the string “Valid Password” if the entered password follows the below-given password guidelines else it should return “Invalid Password”.\n",
    "\n",
    "### Note:\n",
    "### 1. The Password should contain at least two uppercase letters and at least two lowercase letters.\n",
    "### 2. The Password should contain at least a number and three special characters.\n",
    "### 3. The length of the password should be 10 characters long."
   ]
  },
  {
   "cell_type": "code",
   "execution_count": 11,
   "id": "d80156a6-cefa-4d0f-a5d3-77887df9d483",
   "metadata": {},
   "outputs": [],
   "source": [
    "# Answer 1:-\n",
    "\n",
    "def password():\n",
    "    \n",
    "    import re\n",
    "\n",
    "    while True:\n",
    "\n",
    "        password = input(\"\"\"  \n",
    "        Please enter your password:-\n",
    "        Note-\n",
    "        1. The Password should contain at least two uppercase letters and at least two lowercase letters.\n",
    "        2. The Password should contain at least a number and three special characters.\n",
    "        3. The length of the password should be 10 characters long.\n",
    "        \"\"\")\n",
    "\n",
    "        upper = []\n",
    "        lower = []\n",
    "        number = []\n",
    "        special_char = []\n",
    "\n",
    "        for i in password:\n",
    "\n",
    "            if re.search(\"[A-Z]\",i):\n",
    "                upper.append(i)\n",
    "\n",
    "            elif re.search(\"[a-z]\",i):\n",
    "                lower.append(i)\n",
    "\n",
    "            elif re.search(\"[0-9]\",i):\n",
    "                number.append(i)\n",
    "\n",
    "            elif re.search(\"\"\"[\"!#$%&\\'()*+,-./:;<=>?@[\\\\]^_`{|}~']\"\"\",i):\n",
    "                special_char.append(i)\n",
    "\n",
    "        if len(password) <= 9 or len(upper) <= 1 or len(lower) <= 1 or len(number) == 0 or len(special_char) <= 2:\n",
    "            print(\"Invalid password\")\n",
    "\n",
    "            new_password = input(\"\"\"  \n",
    "            Please enter your password again:\n",
    "            Note-\n",
    "            1. The Password should contain at least two uppercase letters and at least two lowercase letters.\n",
    "            2. The Password should contain at least a number and three special characters.\n",
    "            3. The length of the password should be 10 characters long.\n",
    "            \"\"\")\n",
    "\n",
    "        else:\n",
    "            print(\"Valid Password\")\n",
    "            break"
   ]
  },
  {
   "cell_type": "code",
   "execution_count": 12,
   "id": "9b107686-3a42-4b65-9c77-44335399f0be",
   "metadata": {},
   "outputs": [
    {
     "name": "stdin",
     "output_type": "stream",
     "text": [
      "  \n",
      "        Please enter your password:-\n",
      "        Note-\n",
      "        1. The Password should contain at least two uppercase letters and at least two lowercase letters.\n",
      "        2. The Password should contain at least a number and three special characters.\n",
      "        3. The length of the password should be 10 characters long.\n",
      "         TTjj123!@#\n"
     ]
    },
    {
     "name": "stdout",
     "output_type": "stream",
     "text": [
      "Valid Password\n"
     ]
    }
   ],
   "source": [
    "password()"
   ]
  },
  {
   "cell_type": "markdown",
   "id": "85a207a7-3d86-429b-b433-f59f05551470",
   "metadata": {},
   "source": [
    "### Q2. Solve the below-given questions using at least one of the following:\n",
    "### 1. Lambda function\n",
    "### 2. Filter function\n",
    "### 3. Map function\n",
    "### 4. List Comprehension\n",
    "\n",
    "\n",
    "- ### Check if the string starts with a particular letter.\n",
    "- ### Check if the string is numeric.\n",
    "- ### Sort a list of tuples having fruit names and their quantity. [(\"mango\",99),(\"orange\",80), (\"grapes\", 1000)]\n",
    "- ### Find the squares of numbers from 1 to 10.\n",
    "- ### Find the cube root of numbers from 1 to 10.\n",
    "- ### Check if a given number is even.\n",
    "- ### Filter odd numbers from the given list. [1,2,3,4,5,6,7,8,9,10]\n",
    "- ### Sort a list of integers into positive and negative integers lists. [1,2,3,4,5,6,-1,-2,-3,-4,-5,0]"
   ]
  },
  {
   "cell_type": "markdown",
   "id": "b4924472-1fc7-4b9b-9e93-62bd9ce2f713",
   "metadata": {},
   "source": [
    "Answer 2:-\n",
    "\n",
    "- Check if the string starts with a particular letter\n"
   ]
  },
  {
   "cell_type": "code",
   "execution_count": 83,
   "id": "1f4ef70d-bbdd-4164-b48b-798de13bc4bc",
   "metadata": {},
   "outputs": [],
   "source": [
    "starts_with = lambda x1,y1: \"Yes\" if x1[0] == y1 else \"No\""
   ]
  },
  {
   "cell_type": "code",
   "execution_count": 84,
   "id": "33a75441-ec3c-4b8e-936a-dcec32455852",
   "metadata": {},
   "outputs": [
    {
     "data": {
      "text/plain": [
       "'Yes'"
      ]
     },
     "execution_count": 84,
     "metadata": {},
     "output_type": "execute_result"
    }
   ],
   "source": [
    "starts_with(\"I am good\",\"I\")"
   ]
  },
  {
   "cell_type": "code",
   "execution_count": 85,
   "id": "a489f2bd-3756-461e-8bf2-c39185bdd44c",
   "metadata": {},
   "outputs": [
    {
     "data": {
      "text/plain": [
       "'No'"
      ]
     },
     "execution_count": 85,
     "metadata": {},
     "output_type": "execute_result"
    }
   ],
   "source": [
    "starts_with(\"I am good\",\"k\")"
   ]
  },
  {
   "cell_type": "markdown",
   "id": "6b778234-ec6b-4c1c-be90-cddab0991b5f",
   "metadata": {},
   "source": [
    "- Check if the string is numeric\n"
   ]
  },
  {
   "cell_type": "code",
   "execution_count": 86,
   "id": "afbf1558-6492-433a-b8cb-7029eda35407",
   "metadata": {},
   "outputs": [],
   "source": [
    "numeric = lambda x2: \"Yes\" if type(x2) == int else \"No\""
   ]
  },
  {
   "cell_type": "code",
   "execution_count": 87,
   "id": "13823d18-3747-48f2-a360-a1764c5691b7",
   "metadata": {},
   "outputs": [
    {
     "data": {
      "text/plain": [
       "'Yes'"
      ]
     },
     "execution_count": 87,
     "metadata": {},
     "output_type": "execute_result"
    }
   ],
   "source": [
    "numeric(9)"
   ]
  },
  {
   "cell_type": "code",
   "execution_count": 88,
   "id": "82955669-6104-41f1-bf81-4f34cb9e238e",
   "metadata": {},
   "outputs": [
    {
     "data": {
      "text/plain": [
       "'No'"
      ]
     },
     "execution_count": 88,
     "metadata": {},
     "output_type": "execute_result"
    }
   ],
   "source": [
    "numeric(\"m\")"
   ]
  },
  {
   "cell_type": "markdown",
   "id": "01df12fd-e203-472c-95a6-6db324b671e2",
   "metadata": {},
   "source": [
    "- Sort a list of tuples having fruit names and their quantity. [(\"mango\",99),(\"orange\",80), (\"grapes\", 1000)]"
   ]
  },
  {
   "cell_type": "code",
   "execution_count": 89,
   "id": "15127edd-cf2c-4337-9a1e-506c12074c4e",
   "metadata": {},
   "outputs": [
    {
     "name": "stdout",
     "output_type": "stream",
     "text": [
      "[('orange', 80), ('mango', 99), ('grapes', 1000)]\n"
     ]
    }
   ],
   "source": [
    "l3 = [(\"mango\",99),(\"orange\",80), (\"grapes\", 1000)]\n",
    "\n",
    "# ascending order\n",
    "\n",
    "l3.sort(key = lambda x3 : x3[1])\n",
    "print(l3)"
   ]
  },
  {
   "cell_type": "code",
   "execution_count": 91,
   "id": "aefcce5c-2421-44fe-9647-5941915247c5",
   "metadata": {},
   "outputs": [
    {
     "name": "stdout",
     "output_type": "stream",
     "text": [
      "[('grapes', 1000), ('mango', 99), ('orange', 80)]\n"
     ]
    }
   ],
   "source": [
    "# descending order\n",
    "\n",
    "l3.sort(key = lambda x3 : x3[1],reverse = True)\n",
    "print(l3)"
   ]
  },
  {
   "cell_type": "markdown",
   "id": "bf7df1dc-0c32-43ea-84e5-70170ba760ec",
   "metadata": {},
   "source": [
    "- Find the squares of numbers from 1 to 10."
   ]
  },
  {
   "cell_type": "code",
   "execution_count": 92,
   "id": "6bce38d2-a4df-4351-9bd6-07a6866580ec",
   "metadata": {},
   "outputs": [
    {
     "data": {
      "text/plain": [
       "[1, 4, 9, 16, 25, 36, 49, 64, 81, 100]"
      ]
     },
     "execution_count": 92,
     "metadata": {},
     "output_type": "execute_result"
    }
   ],
   "source": [
    "l4 = [1,2,3,4,5,6,7,8,9,10]\n",
    "\n",
    "[i4**2 for i4 in l4]"
   ]
  },
  {
   "cell_type": "markdown",
   "id": "0beab7cd-e695-46f8-b657-c049b8df04aa",
   "metadata": {},
   "source": [
    "- Find the cube root of numbers from 1 to 10."
   ]
  },
  {
   "cell_type": "code",
   "execution_count": 93,
   "id": "e571c304-7dff-487a-8e03-7dce84644713",
   "metadata": {},
   "outputs": [
    {
     "data": {
      "text/plain": [
       "[1.0,\n",
       " 1.2599210498948732,\n",
       " 1.4422495703074083,\n",
       " 1.5874010519681994,\n",
       " 1.7099759466766968,\n",
       " 1.8171205928321397,\n",
       " 1.912931182772389,\n",
       " 2.0,\n",
       " 2.080083823051904,\n",
       " 2.154434690031884]"
      ]
     },
     "execution_count": 93,
     "metadata": {},
     "output_type": "execute_result"
    }
   ],
   "source": [
    "l5 = [1,2,3,4,5,6,7,8,9,10]\n",
    "\n",
    "list(map(lambda x5 : x5**(1/3),l5))"
   ]
  },
  {
   "cell_type": "markdown",
   "id": "c253cadb-b31d-431b-a691-290c762f0e48",
   "metadata": {},
   "source": [
    "- Check if a given number is even."
   ]
  },
  {
   "cell_type": "code",
   "execution_count": 94,
   "id": "b8b09f9b-1469-428b-abaa-edd13146435f",
   "metadata": {},
   "outputs": [],
   "source": [
    "even = lambda x6: \"Yes\" if x6 % 2 == 0 else \"No\" "
   ]
  },
  {
   "cell_type": "code",
   "execution_count": 95,
   "id": "98fe4e21-e60e-4f65-9eea-64ff5b3a7b03",
   "metadata": {},
   "outputs": [
    {
     "data": {
      "text/plain": [
       "'Yes'"
      ]
     },
     "execution_count": 95,
     "metadata": {},
     "output_type": "execute_result"
    }
   ],
   "source": [
    "even(2)"
   ]
  },
  {
   "cell_type": "code",
   "execution_count": 96,
   "id": "bf8699ea-440e-46e5-9f1b-b6dcbecc9bbe",
   "metadata": {},
   "outputs": [
    {
     "data": {
      "text/plain": [
       "'No'"
      ]
     },
     "execution_count": 96,
     "metadata": {},
     "output_type": "execute_result"
    }
   ],
   "source": [
    "even(3)"
   ]
  },
  {
   "cell_type": "markdown",
   "id": "353dd4d4-d048-4e9e-9ad3-ae03b3847dce",
   "metadata": {},
   "source": [
    "- Filter odd numbers from the given list. [1,2,3,4,5,6,7,8,9,10]"
   ]
  },
  {
   "cell_type": "code",
   "execution_count": 97,
   "id": "98892d41-f3e6-4f40-8c17-161cb4fb3de3",
   "metadata": {},
   "outputs": [
    {
     "data": {
      "text/plain": [
       "[1, 3, 5, 7, 9]"
      ]
     },
     "execution_count": 97,
     "metadata": {},
     "output_type": "execute_result"
    }
   ],
   "source": [
    "l7 = [1,2,3,4,5,6,7,8,9,10]\n",
    "\n",
    "list(filter(lambda x7 : x7 % 2 != 0,l7))"
   ]
  },
  {
   "cell_type": "markdown",
   "id": "5810163b-9a10-4a0e-a4a6-39079a917200",
   "metadata": {},
   "source": [
    "- Sort a list of integers into positive and negative integers lists. [1,2,3,4,5,6,-1,-2,-3,-4,-5,0]"
   ]
  },
  {
   "cell_type": "code",
   "execution_count": 120,
   "id": "1885dc29-b37d-48ba-8115-6c798f2ba0c9",
   "metadata": {},
   "outputs": [
    {
     "data": {
      "text/plain": [
       "[1, 2, 3, 4, 5, 6, 0]"
      ]
     },
     "execution_count": 120,
     "metadata": {},
     "output_type": "execute_result"
    }
   ],
   "source": [
    "l8 = [1,2,3,4,5,6,-1,-2,-3,-4,-5,0]"
   ]
  },
  {
   "cell_type": "code",
   "execution_count": 131,
   "id": "e19efe5a-71b2-4782-99a3-94dd485963a4",
   "metadata": {},
   "outputs": [
    {
     "data": {
      "text/plain": [
       "[-5, -4, -3, -2, -1]"
      ]
     },
     "execution_count": 131,
     "metadata": {},
     "output_type": "execute_result"
    }
   ],
   "source": [
    "# For negative integers\n",
    "\n",
    "sorted([x8 for x8 in l8 if x8 < 0])"
   ]
  },
  {
   "cell_type": "code",
   "execution_count": 133,
   "id": "797d1b74-4129-4f7d-8d98-c329e8bb0506",
   "metadata": {},
   "outputs": [
    {
     "data": {
      "text/plain": [
       "[0, 1, 2, 3, 4, 5, 6]"
      ]
     },
     "execution_count": 133,
     "metadata": {},
     "output_type": "execute_result"
    }
   ],
   "source": [
    "# For positive integers\n",
    "\n",
    "sorted([y8 for y8 in l8 if y8 >= 0])"
   ]
  },
  {
   "cell_type": "code",
   "execution_count": null,
   "id": "7a31a042-368e-4fd6-8fac-6b31caa598c3",
   "metadata": {},
   "outputs": [],
   "source": []
  }
 ],
 "metadata": {
  "kernelspec": {
   "display_name": "Python 3 (ipykernel)",
   "language": "python",
   "name": "python3"
  },
  "language_info": {
   "codemirror_mode": {
    "name": "ipython",
    "version": 3
   },
   "file_extension": ".py",
   "mimetype": "text/x-python",
   "name": "python",
   "nbconvert_exporter": "python",
   "pygments_lexer": "ipython3",
   "version": "3.10.8"
  }
 },
 "nbformat": 4,
 "nbformat_minor": 5
}
