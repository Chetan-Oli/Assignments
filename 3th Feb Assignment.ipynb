{
 "cells": [
  {
   "cell_type": "markdown",
   "id": "ffd1ed13-182f-41e1-82ee-5c1bd6e8247f",
   "metadata": {},
   "source": [
    "# 3 Feb | Assignment"
   ]
  },
  {
   "cell_type": "markdown",
   "id": "6886e268-1260-494f-ba02-e6dd8c2e144f",
   "metadata": {},
   "source": [
    "### Q1. Which keyword is used to create a function? Create a function to return a list of odd numbers in the range of 1 to 25."
   ]
  },
  {
   "cell_type": "markdown",
   "id": "e32a6c5e-39ed-4a2a-b868-df5d0b55d1df",
   "metadata": {},
   "source": [
    "Answer 1 :-\n",
    "\n",
    "The 'def' keyword is used to create, (or define) a function in python."
   ]
  },
  {
   "cell_type": "code",
   "execution_count": 11,
   "id": "e24fda03-ad17-4b9f-9991-d79efbefe6fd",
   "metadata": {},
   "outputs": [],
   "source": [
    "def test1(a,b):\n",
    "    l1 = []\n",
    "    for i in range(a,b+1):\n",
    "        if i % 2 != 0:\n",
    "            l1.append(i)\n",
    "    \n",
    "    return l1"
   ]
  },
  {
   "cell_type": "code",
   "execution_count": 12,
   "id": "c1c74af5-40df-408b-ad7c-b24b70d8b8f0",
   "metadata": {},
   "outputs": [
    {
     "data": {
      "text/plain": [
       "[1, 3, 5, 7, 9, 11, 13, 15, 17, 19, 21, 23, 25]"
      ]
     },
     "execution_count": 12,
     "metadata": {},
     "output_type": "execute_result"
    }
   ],
   "source": [
    "test1(1,25)"
   ]
  },
  {
   "cell_type": "markdown",
   "id": "cbedc316-f385-4902-8259-9223f372dcac",
   "metadata": {},
   "source": [
    "### Q2. Why *args and **kwargs is used in some functions? Create a function each for *args and **kwargs to demonstrate their use."
   ]
  },
  {
   "cell_type": "markdown",
   "id": "011636f4-c1e3-4c55-af4d-f80c5579fb2a",
   "metadata": {},
   "source": [
    "Answer 2 :-\n",
    "\n",
    "*args passes variable number of non-keyworded arguments and on which operation of the tuple can be performed."
   ]
  },
  {
   "cell_type": "code",
   "execution_count": 14,
   "id": "65df21ef-f84a-4a5a-b59e-636291ae89a7",
   "metadata": {},
   "outputs": [],
   "source": [
    "def test2(*args):\n",
    "    \n",
    "    return args"
   ]
  },
  {
   "cell_type": "code",
   "execution_count": 21,
   "id": "168a317a-d88e-4d44-8ed9-57240c18b366",
   "metadata": {},
   "outputs": [
    {
     "data": {
      "text/plain": [
       "(1, 2, 3, 4, 4.5, [1, 2, 3, 4, 5], 'sudh')"
      ]
     },
     "execution_count": 21,
     "metadata": {},
     "output_type": "execute_result"
    }
   ],
   "source": [
    "test2(1, 2, 3, 4, 4.5, [1,2,3,4,5], \"sudh\")"
   ]
  },
  {
   "cell_type": "markdown",
   "id": "d0322fa5-e98a-450f-a492-72d833822f43",
   "metadata": {},
   "source": [
    "**kwargs passes variable number of keyword arguments dictionary to function on which operation of a dictionary can be performed."
   ]
  },
  {
   "cell_type": "code",
   "execution_count": 22,
   "id": "5816735e-7fba-4c71-a650-62e6d2337f20",
   "metadata": {},
   "outputs": [],
   "source": [
    "def test3(**kwargs):\n",
    "    \n",
    "    return kwargs"
   ]
  },
  {
   "cell_type": "code",
   "execution_count": 23,
   "id": "f4264fcf-96bb-40d3-93ac-20a1c83b15a0",
   "metadata": {},
   "outputs": [
    {
     "data": {
      "text/plain": [
       "{'a': 1, 'b': 2, 'c': 3, 'd': 4, 'e': 4.5, 'f': [1, 2, 3, 4, 5], 'g': 'sudh'}"
      ]
     },
     "execution_count": 23,
     "metadata": {},
     "output_type": "execute_result"
    }
   ],
   "source": [
    "test3(a=1, b=2, c=3, d=4, e = 4.5, f=[1,2,3,4,5], g= \"sudh\")"
   ]
  },
  {
   "cell_type": "markdown",
   "id": "988c4da7-3bba-40c4-9c63-6996cb96572d",
   "metadata": {},
   "source": [
    "### Q3. What is an iterator in python? Name the method used to initialise the iterator object and the method used for iteration. Use these methods to print the first five elements of the given list [2, 4, 6, 8, 10, 12, 14, 16, 18, 20]."
   ]
  },
  {
   "cell_type": "markdown",
   "id": "558c9fa2-4457-4d37-b37b-9fd466f59e3a",
   "metadata": {},
   "source": [
    "Answer 3 :-\n",
    "\n",
    "Iterable is an object which can be looped over or iterated over with the help of a for loop.\n",
    "\n",
    "Ex- lists, tuples, sets, dictionaries, etc.\n",
    "\n",
    "Technically, a Python iterator object must implement two special methods, __iter__()is used to initialise the iterator object, and __next__() is used for iteration. They are collectively called the iterator protocol."
   ]
  },
  {
   "cell_type": "code",
   "execution_count": 1,
   "id": "c3e8b734-f8d4-43ed-90f4-26ba5efe20ea",
   "metadata": {},
   "outputs": [
    {
     "name": "stdout",
     "output_type": "stream",
     "text": [
      "2\n",
      "4\n",
      "6\n",
      "8\n",
      "10\n"
     ]
    }
   ],
   "source": [
    "number = [2,4,6,8,10,12,14,16,18,20]\n",
    "value = iter(number)\n",
    "\n",
    "item1 = next(value)\n",
    "print(item1)\n",
    "\n",
    "item2 = next(value)\n",
    "print(item2)\n",
    "\n",
    "item3 = next(value)\n",
    "print(item3)\n",
    "\n",
    "item4 = next(value)\n",
    "print(item4)\n",
    "\n",
    "item5 = next(value)\n",
    "print(item5)"
   ]
  },
  {
   "cell_type": "markdown",
   "id": "24e2e806-455d-49b7-8dff-fca5c7838c89",
   "metadata": {},
   "source": [
    "### Q4. What is a generator function in python? Why yield keyword is used? Give an example of a generator function."
   ]
  },
  {
   "cell_type": "markdown",
   "id": "a355e2a2-b2a7-40a1-a338-efa8cc2b09fb",
   "metadata": {},
   "source": [
    "Answer 4 :-\n",
    "\n",
    "A generator is a function that returns an iterator that produces a sequence of values when iterated over. Generators are useful when we want to produce a large sequence of values, but we don't want to store all of them in memory at once.\n",
    "\n"
   ]
  },
  {
   "cell_type": "markdown",
   "id": "df829ff0-d6e5-4a7f-8f48-09e90e5fe555",
   "metadata": {},
   "source": [
    "We should use yield when we want to iterate over a sequence, but don't want to store the entire sequence in memory. The advantages of using yield keywords instead of return are that the values returned by yield statement are stored as local variables states, which allows control over memory overhead allocation. Also, each time, the execution does not start from the beginning, since the previous state is retained."
   ]
  },
  {
   "cell_type": "code",
   "execution_count": 1,
   "id": "f0fbdedc-8a84-4063-bd51-1204f1a6574d",
   "metadata": {},
   "outputs": [],
   "source": [
    "# Ex: Genereator function to generate the squares for first 10 natural numbers\n",
    "\n",
    "def square(num):\n",
    "    for i in range(1,num+1):\n",
    "        yield i**2"
   ]
  },
  {
   "cell_type": "code",
   "execution_count": 5,
   "id": "01ed825e-1906-42b6-b766-66ef5f4b7b3f",
   "metadata": {},
   "outputs": [
    {
     "name": "stdout",
     "output_type": "stream",
     "text": [
      "1\n",
      "4\n",
      "9\n",
      "16\n",
      "25\n",
      "36\n",
      "49\n",
      "64\n",
      "81\n",
      "100\n"
     ]
    }
   ],
   "source": [
    "gen = square(10)\n",
    "\n",
    "print(next(gen))\n",
    "print(next(gen))\n",
    "print(next(gen))\n",
    "\n",
    "for i in gen:\n",
    "    print(i)"
   ]
  },
  {
   "cell_type": "markdown",
   "id": "287ad156-6bcd-41dc-85b0-e1510a037cbd",
   "metadata": {},
   "source": [
    "### Q5. Create a generator function for prime numbers less than 1000. Use the next() method to print the first 20 prime numbers."
   ]
  },
  {
   "cell_type": "code",
   "execution_count": 1,
   "id": "5dc14a6d-016f-4a76-8007-4ec5f7ff3339",
   "metadata": {},
   "outputs": [],
   "source": [
    "# Answer 5:-\n",
    "\n",
    "def prime(num):\n",
    "    for x in range(1,num+1):\n",
    "        if x > 1:\n",
    "            for y in range(2,x):\n",
    "                if (x % y) == 0:\n",
    "                    break\n",
    "            else:\n",
    "                yield x "
   ]
  },
  {
   "cell_type": "code",
   "execution_count": 2,
   "id": "7c15eef7-22a2-47cd-8563-e6c01bafcd50",
   "metadata": {},
   "outputs": [
    {
     "name": "stdout",
     "output_type": "stream",
     "text": [
      "2\n",
      "3\n",
      "5\n",
      "7\n",
      "11\n",
      "13\n",
      "17\n",
      "19\n",
      "23\n",
      "29\n",
      "31\n",
      "37\n",
      "41\n",
      "43\n",
      "47\n",
      "53\n",
      "59\n",
      "61\n",
      "67\n",
      "71\n"
     ]
    }
   ],
   "source": [
    "gen = prime(1000)\n",
    "\n",
    "print(next(gen))\n",
    "print(next(gen))\n",
    "print(next(gen))\n",
    "print(next(gen))\n",
    "print(next(gen))\n",
    "print(next(gen))\n",
    "print(next(gen))\n",
    "print(next(gen))\n",
    "print(next(gen))\n",
    "print(next(gen))\n",
    "print(next(gen))\n",
    "print(next(gen))\n",
    "print(next(gen))\n",
    "print(next(gen))\n",
    "print(next(gen))\n",
    "print(next(gen))\n",
    "print(next(gen))\n",
    "print(next(gen))\n",
    "print(next(gen))\n",
    "print(next(gen))"
   ]
  },
  {
   "cell_type": "markdown",
   "id": "89a1c274-70ee-49c2-9f10-ea1f3ebbac41",
   "metadata": {},
   "source": [
    "### Q6. Write a python program to print the first 10 Fibonacci numbers using a while loop."
   ]
  },
  {
   "cell_type": "code",
   "execution_count": 3,
   "id": "189387d5-d839-414c-845b-f82530892b83",
   "metadata": {},
   "outputs": [
    {
     "name": "stdout",
     "output_type": "stream",
     "text": [
      "0\n",
      "1\n",
      "1\n",
      "2\n",
      "3\n",
      "5\n",
      "8\n",
      "13\n",
      "21\n",
      "34\n"
     ]
    }
   ],
   "source": [
    "# Answer 6:-\n",
    "\n",
    "number = 10\n",
    "\n",
    "a,b = 0,1\n",
    "counter = 0\n",
    "\n",
    "while counter < number:\n",
    "    print(a)\n",
    "    c = a + b\n",
    "    a = b\n",
    "    b = c\n",
    "    counter = counter + 1"
   ]
  },
  {
   "cell_type": "markdown",
   "id": "0dd4692c-deb5-4a16-b829-f589c7598fb4",
   "metadata": {},
   "source": [
    "### Q7. Write a List Comprehension to iterate through the given string: ‘pwskills’.\n",
    "### Expected output: ['p', 'w', 's', 'k', 'i', 'l', 'l', 's']"
   ]
  },
  {
   "cell_type": "code",
   "execution_count": 4,
   "id": "23497496-e208-4089-aa65-4c86a89120b8",
   "metadata": {},
   "outputs": [
    {
     "data": {
      "text/plain": [
       "['p', 'w', 's', 'k', 'i', 'l', 'l', 's']"
      ]
     },
     "execution_count": 4,
     "metadata": {},
     "output_type": "execute_result"
    }
   ],
   "source": [
    "# Answer 7:-\n",
    "\n",
    "l = 'pwskills'\n",
    "\n",
    "[i for i in l]"
   ]
  },
  {
   "cell_type": "markdown",
   "id": "8cb9b8d3-9d4b-4911-99e3-a8efb402330b",
   "metadata": {},
   "source": [
    "### Q8. Write a python program to check whether a given number is Palindrome or not using a while loop."
   ]
  },
  {
   "cell_type": "code",
   "execution_count": 5,
   "id": "2721cbef-7c57-482d-83c0-5b0a9d20b00a",
   "metadata": {},
   "outputs": [
    {
     "name": "stdin",
     "output_type": "stream",
     "text": [
      "Enter the number: 12321\n"
     ]
    },
    {
     "name": "stdout",
     "output_type": "stream",
     "text": [
      "12321 is a Palindrome number\n"
     ]
    }
   ],
   "source": [
    "# Answer 8:-\n",
    "\n",
    "number = int(input(\"Enter the number:\"))\n",
    "\n",
    "reverse = 0\n",
    "temporary = number \n",
    "\n",
    "while temporary>0:\n",
    "    reverse = reverse*10 + temporary%10\n",
    "    temporary = temporary//10\n",
    "    \n",
    "if reverse == number:\n",
    "    print(number,\"is a Palindrome number\")\n",
    "    \n",
    "else:\n",
    "     print(number,\"is not a Palindrome number\")"
   ]
  },
  {
   "cell_type": "markdown",
   "id": "e1832dc7-a2fb-4ffb-b65f-acadb90b6091",
   "metadata": {},
   "source": [
    "### Q9. Write a code to print odd numbers from 1 to 100 using list comprehension.\n",
    "### Note: Use a list comprehension to create a list from 1 to 100 and use another List comprehension to filter out odd numbers."
   ]
  },
  {
   "cell_type": "code",
   "execution_count": 6,
   "id": "eeb986fe-d42d-4404-ac50-66a52f03507a",
   "metadata": {},
   "outputs": [
    {
     "name": "stdout",
     "output_type": "stream",
     "text": [
      "[1, 3, 5, 7, 9, 11, 13, 15, 17, 19, 21, 23, 25, 27, 29, 31, 33, 35, 37, 39, 41, 43, 45, 47, 49, 51, 53, 55, 57, 59, 61, 63, 65, 67, 69, 71, 73, 75, 77, 79, 81, 83, 85, 87, 89, 91, 93, 95, 97, 99]\n"
     ]
    }
   ],
   "source": [
    "# Answer 9:-\n",
    "\n",
    "list1 = [i for i in range(1,101)]\n",
    "\n",
    "odd_num = [j for j in list1 if j%2 != 0]\n",
    "\n",
    "print(odd_num)"
   ]
  },
  {
   "cell_type": "code",
   "execution_count": null,
   "id": "bd29c191-de22-43a4-83b2-cc770dfba968",
   "metadata": {},
   "outputs": [],
   "source": []
  }
 ],
 "metadata": {
  "kernelspec": {
   "display_name": "Python 3 (ipykernel)",
   "language": "python",
   "name": "python3"
  },
  "language_info": {
   "codemirror_mode": {
    "name": "ipython",
    "version": 3
   },
   "file_extension": ".py",
   "mimetype": "text/x-python",
   "name": "python",
   "nbconvert_exporter": "python",
   "pygments_lexer": "ipython3",
   "version": "3.10.8"
  }
 },
 "nbformat": 4,
 "nbformat_minor": 5
}
