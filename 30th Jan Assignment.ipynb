{
 "cells": [
  {
   "cell_type": "markdown",
   "id": "1b6a4d4b-c98b-4488-9357-7287691f79fc",
   "metadata": {},
   "source": [
    "# 30th Jan | Assignment"
   ]
  },
  {
   "cell_type": "markdown",
   "id": "1e6c8dce-732e-4c15-b808-2d596230a8f7",
   "metadata": {},
   "source": [
    "### 1. Write a program to accept percentage from the user and display the grade according to the following criteria:\n",
    "\n",
    "MARKS --------------> GRADE\n",
    "\n",
    "(>90) ----------------> A\n",
    "\n",
    "(>80 and <=90) ----> B\n",
    "\n",
    "(>=60 and <=80) --> C\n",
    "\n",
    "(below 60) ----------> D"
   ]
  },
  {
   "cell_type": "code",
   "execution_count": 19,
   "id": "03d8a1df-e122-4039-84cf-747cff73bece",
   "metadata": {},
   "outputs": [
    {
     "name": "stdin",
     "output_type": "stream",
     "text": [
      "Enter the marks (in %): 86\n"
     ]
    },
    {
     "name": "stdout",
     "output_type": "stream",
     "text": [
      "You obtained 'B' grade\n"
     ]
    }
   ],
   "source": [
    "# Answer 1:-\n",
    "\n",
    "marks = int(input(\"Enter the marks (in %):\"))\n",
    "\n",
    "if marks > 100:\n",
    "    print(\"Enter the correct marks\")\n",
    "    \n",
    "elif marks <= 100 and marks > 90:\n",
    "    print(\"You obtained 'A' grade\")\n",
    "    \n",
    "elif marks <= 90 and marks > 80:\n",
    "    print(\"You obtained 'B' grade\")\n",
    "    \n",
    "elif marks <= 80 and marks >= 60:\n",
    "    print(\"You obtained 'C' grade\")\n",
    "    \n",
    "else:\n",
    "    print(\"You obtained 'D' grade\")"
   ]
  },
  {
   "cell_type": "markdown",
   "id": "41729fab-6e9f-47ac-9ec1-0c935cdcf731",
   "metadata": {
    "tags": []
   },
   "source": [
    "### 2. Write a program to accept the cost price of a bike and display the road tax to be paid according to the following criteria: \n",
    "\n",
    "TAX ---> COST PRICE (IN RS.)\n",
    "\n",
    "15% --> >100000\n",
    "\n",
    "10% --> >50000 and <= 100000\n",
    "\n",
    "5% ---> <= 50000"
   ]
  },
  {
   "cell_type": "code",
   "execution_count": 18,
   "id": "ff302ec3-56cc-4e39-aae4-158dfa11e9a1",
   "metadata": {},
   "outputs": [
    {
     "name": "stdin",
     "output_type": "stream",
     "text": [
      "Enter the cost price of the bike: Rs. 60000\n"
     ]
    },
    {
     "name": "stdout",
     "output_type": "stream",
     "text": [
      "The road tax of 10% on 60000 will be Rs. 6000.0\n"
     ]
    }
   ],
   "source": [
    "# Answer 2:-\n",
    "\n",
    "cost_price = int(input(\"Enter the cost price of the bike: Rs.\"))\n",
    "\n",
    "if cost_price <= 50000:\n",
    "    print(\"The road tax of 5% on\",cost_price,\"will be Rs.\",0.05*cost_price)\n",
    "\n",
    "elif cost_price >50000 and cost_price <= 100000:\n",
    "    print(\"The road tax of 10% on\",cost_price,\"will be Rs.\",0.10*cost_price)\n",
    "\n",
    "else:\n",
    "    print(\"The road tax of 15% on\",cost_price,\"will be Rs.\",0.15*cost_price)"
   ]
  },
  {
   "cell_type": "markdown",
   "id": "bcfa9fb3-c992-4feb-9025-3f68d863dde0",
   "metadata": {},
   "source": [
    "### 3. Accept any city from the user and display monuments of that city.\n",
    "\n",
    "CITY ----> MONUMENT\n",
    "\n",
    "Delhi ---> Red Fort\n",
    "\n",
    "Agra ---> Taj Mahal\n",
    "\n",
    "Jaipur --> Jai Mahal"
   ]
  },
  {
   "cell_type": "code",
   "execution_count": 1,
   "id": "2cd9a798-b932-4817-beab-2c0051194aaf",
   "metadata": {},
   "outputs": [
    {
     "name": "stdin",
     "output_type": "stream",
     "text": [
      "Enter your city: agra\n"
     ]
    },
    {
     "name": "stdout",
     "output_type": "stream",
     "text": [
      "Taj Mahal is the monument in Agra\n"
     ]
    }
   ],
   "source": [
    "# Answer 3:-\n",
    "\n",
    "city = input(\"Enter your city:\")\n",
    "\n",
    "if city == \"Delhi\" or city == \"delhi\":\n",
    "    print(\"Red Fort is the monument of Delhi\")\n",
    "    \n",
    "elif city == \"Agra\" or city == \"agra\":\n",
    "    print(\"Taj Mahal is the monument in Agra\")\n",
    "    \n",
    "elif city == \"Jaipur\" or city == \"jaipur\":\n",
    "    print(\"Jai Mahal is the monument of Jaipur\")\n",
    "    \n",
    "else:\n",
    "    print(\"We have no data about\",city)"
   ]
  },
  {
   "cell_type": "markdown",
   "id": "6ab3fca7-a507-4b15-9a56-d83d0dda4775",
   "metadata": {},
   "source": [
    "### 4. Check how many times a given number can be divided by 3 before it is less than or equal to 10. "
   ]
  },
  {
   "cell_type": "code",
   "execution_count": 2,
   "id": "84fc0c7b-ec16-4406-8510-95c718471b1b",
   "metadata": {},
   "outputs": [
    {
     "name": "stdin",
     "output_type": "stream",
     "text": [
      "Enter the number: 666\n"
     ]
    },
    {
     "name": "stdout",
     "output_type": "stream",
     "text": [
      "666 is 4 times divided by 3 before reaching the value of 8.222222222222223 which is <= 10\n"
     ]
    }
   ],
   "source": [
    "# Answer 4:-\n",
    "\n",
    "num = int(input(\"Enter the number:\"))\n",
    "\n",
    "counter = 0\n",
    "real_num = num \n",
    "\n",
    "if num % 3 != 0:\n",
    "    print(num,\"is not a multiple of 3\")\n",
    "\n",
    "else:\n",
    "    while num > 10:\n",
    "        num = num/3\n",
    "        counter = counter + 1\n",
    "        \n",
    "    print(real_num,\"is\",counter,\"times divided by 3 before reaching the value of\",num,\"which is <= 10\")"
   ]
  },
  {
   "cell_type": "markdown",
   "id": "91378487-57d0-4420-a4cb-5847556d70c0",
   "metadata": {},
   "source": [
    "### 5. Why and When to Use while Loop in Python? Give a detailed description with example."
   ]
  },
  {
   "cell_type": "markdown",
   "id": "a5881507-acb4-47ef-bbf8-e1105dd2bb36",
   "metadata": {},
   "source": [
    "Answer 5:-\n",
    "\n",
    "A \"While\" Loop is used to repeat a specific block of code an unknown number of times, until a condition is met. Here, A while loop evaluates the condition. If the condition evaluates to True , the code inside the while loop is executed.\n",
    "\n",
    "While loop is used where there are situations with indefinite iteration. Indefinite iteration means that the number of times the loop is executed isn’t specified explicitly in advance. "
   ]
  },
  {
   "cell_type": "code",
   "execution_count": 6,
   "id": "b2c63f0e-e9bd-4cd8-9291-3140a0c91ffe",
   "metadata": {},
   "outputs": [
    {
     "name": "stdin",
     "output_type": "stream",
     "text": [
      "Enter a number:  45\n",
      "Enter a number:  65\n",
      "Enter a number:  34\n",
      "Enter a number:  0\n"
     ]
    },
    {
     "name": "stdout",
     "output_type": "stream",
     "text": [
      "total = 144\n"
     ]
    }
   ],
   "source": [
    "# Example - Program to calculate the sum of numbers until the user enters zero\n",
    "\n",
    "number = int(input('Enter a number: '))\n",
    "total = 0\n",
    "\n",
    "while number != 0:\n",
    "    total = total + number\n",
    "    number = int(input('Enter a number: '))\n",
    "    \n",
    "print('total =', total)"
   ]
  },
  {
   "cell_type": "markdown",
   "id": "8dd8699e-6125-4cb5-860a-d483b0b3617d",
   "metadata": {},
   "source": [
    "### 6. Use nested while loop to print 3 different pattern. "
   ]
  },
  {
   "cell_type": "code",
   "execution_count": 4,
   "id": "ba8200b0-d3af-44f6-a7ea-7734f646f38c",
   "metadata": {},
   "outputs": [
    {
     "name": "stdout",
     "output_type": "stream",
     "text": [
      "* \n",
      "* * \n",
      "* * * \n",
      "* * * * \n",
      "* * * * * \n"
     ]
    }
   ],
   "source": [
    "# Answer 6:-\n",
    "\n",
    "i = 1\n",
    "\n",
    "while i <= 5:\n",
    "    j = 1\n",
    "    \n",
    "    while j <= i:\n",
    "        print(\"*\",end = \" \")\n",
    "        j = j + 1\n",
    "        \n",
    "    print(\"\")\n",
    "    i = i + 1"
   ]
  },
  {
   "cell_type": "code",
   "execution_count": 1,
   "id": "e960aae3-60d1-4b05-bec9-0b4c4dfb1476",
   "metadata": {},
   "outputs": [
    {
     "name": "stdout",
     "output_type": "stream",
     "text": [
      "* * * * * \n",
      "* * * * \n",
      "* * * \n",
      "* * \n",
      "* \n"
     ]
    }
   ],
   "source": [
    "i=5\n",
    "\n",
    "while i<=5 and i>0:\n",
    "    j=1\n",
    "    \n",
    "    while j <= i:\n",
    "        print(\"*\",end = \" \")\n",
    "        j = j + 1\n",
    "        \n",
    "    print(\"\")\n",
    "    i = i - 1"
   ]
  },
  {
   "cell_type": "code",
   "execution_count": 3,
   "id": "ebbafee0-0276-417d-a245-1cc0145ce2b6",
   "metadata": {},
   "outputs": [
    {
     "name": "stdout",
     "output_type": "stream",
     "text": [
      "* \n",
      "* * \n",
      "* * * \n",
      "* * * * \n",
      "* * * * * \n",
      "* * * * \n",
      "* * * \n",
      "* * \n",
      "* \n"
     ]
    }
   ],
   "source": [
    "i = 1\n",
    "\n",
    "while i <= 5:\n",
    "    j = 1\n",
    "    \n",
    "    while j <= i:\n",
    "        print(\"*\",end = \" \")\n",
    "        j = j + 1\n",
    "        \n",
    "    print(\"\")\n",
    "    i = i + 1\n",
    "    \n",
    "i=4\n",
    "\n",
    "while i<=4 and i>0:\n",
    "    j=1\n",
    "    \n",
    "    while j <= i:\n",
    "        print(\"*\",end = \" \")\n",
    "        j = j + 1\n",
    "        \n",
    "    print(\"\")\n",
    "    i = i - 1"
   ]
  },
  {
   "cell_type": "markdown",
   "id": "bde77f35-7231-419d-b826-3412eb8de4a0",
   "metadata": {},
   "source": [
    "### 7. Reverse a while loop to display numbers from 10 to 1. "
   ]
  },
  {
   "cell_type": "code",
   "execution_count": 7,
   "id": "c80b1bb4-3271-4127-9b66-88f54d4e026d",
   "metadata": {},
   "outputs": [
    {
     "name": "stdout",
     "output_type": "stream",
     "text": [
      "10\n",
      "9\n",
      "8\n",
      "7\n",
      "6\n",
      "5\n",
      "4\n",
      "3\n",
      "2\n",
      "1\n"
     ]
    }
   ],
   "source": [
    "# Answer 7:-\n",
    "\n",
    "# While Loop\n",
    "\n",
    "num = 10\n",
    "\n",
    "while num != 0:\n",
    "    print(num)\n",
    "    \n",
    "    num = num - 1"
   ]
  },
  {
   "cell_type": "code",
   "execution_count": 2,
   "id": "bc5d257b-31df-4b96-8274-dc2925add7f0",
   "metadata": {},
   "outputs": [
    {
     "name": "stdout",
     "output_type": "stream",
     "text": [
      "10\n",
      "9\n",
      "8\n",
      "7\n",
      "6\n",
      "5\n",
      "4\n",
      "3\n",
      "2\n",
      "1\n"
     ]
    }
   ],
   "source": [
    "# For Loop\n",
    "\n",
    "for i in range(10,0,-1):\n",
    "    print(i)"
   ]
  },
  {
   "cell_type": "markdown",
   "id": "5e9dd6ad-a82a-46b4-901c-bd58d8c1fd87",
   "metadata": {},
   "source": [
    "### 8. Reverse a while loop to display numbers from 10 to 1 "
   ]
  },
  {
   "cell_type": "code",
   "execution_count": 8,
   "id": "eb695a16-bf94-4330-ae2d-5d43602194b7",
   "metadata": {},
   "outputs": [
    {
     "name": "stdout",
     "output_type": "stream",
     "text": [
      "10\n",
      "9\n",
      "8\n",
      "7\n",
      "6\n",
      "5\n",
      "4\n",
      "3\n",
      "2\n",
      "1\n"
     ]
    }
   ],
   "source": [
    "# Answer 8:-\n",
    "\n",
    "# While Loop\n",
    "\n",
    "num = 10\n",
    "\n",
    "while num != 0:\n",
    "    print(num)\n",
    "    \n",
    "    num = num - 1"
   ]
  },
  {
   "cell_type": "code",
   "execution_count": 6,
   "id": "26bf3686-c034-4a6c-afcb-fbf7375a5b05",
   "metadata": {},
   "outputs": [
    {
     "name": "stdout",
     "output_type": "stream",
     "text": [
      "10\n",
      "9\n",
      "8\n",
      "7\n",
      "6\n",
      "5\n",
      "4\n",
      "3\n",
      "2\n",
      "1\n"
     ]
    }
   ],
   "source": [
    "# For Loop\n",
    "\n",
    "for i in range(10,0,-1):\n",
    "    print(i)"
   ]
  },
  {
   "cell_type": "code",
   "execution_count": null,
   "id": "ea154b45-96f6-44e8-ae1d-3dd0a6de0407",
   "metadata": {},
   "outputs": [],
   "source": []
  }
 ],
 "metadata": {
  "kernelspec": {
   "display_name": "Python 3 (ipykernel)",
   "language": "python",
   "name": "python3"
  },
  "language_info": {
   "codemirror_mode": {
    "name": "ipython",
    "version": 3
   },
   "file_extension": ".py",
   "mimetype": "text/x-python",
   "name": "python",
   "nbconvert_exporter": "python",
   "pygments_lexer": "ipython3",
   "version": "3.10.8"
  }
 },
 "nbformat": 4,
 "nbformat_minor": 5
}
