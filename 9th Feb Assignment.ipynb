{
 "cells": [
  {
   "cell_type": "markdown",
   "id": "4e3fa9cd-a13b-4cdc-828e-21ece59205ab",
   "metadata": {},
   "source": [
    "# 9th Feb | Assignment"
   ]
  },
  {
   "cell_type": "markdown",
   "id": "dc6b6189-84ec-4dbb-9a7c-465b93024418",
   "metadata": {},
   "source": [
    "### Q1. Create a vehicle class with an init method having instance variables as name_of_vehicle, max_speed and average_of_vehicle. "
   ]
  },
  {
   "cell_type": "code",
   "execution_count": 4,
   "id": "88580af1-f108-46fc-9a3a-cf8e89c4df39",
   "metadata": {},
   "outputs": [],
   "source": [
    "# Answer 1:\n",
    "\n",
    "class vehicle:\n",
    "    \n",
    "    def __init__(self,name_of_vehicle,max_speed,average_of_vehicle):\n",
    "        self.name_of_vehicle = name_of_vehicle\n",
    "        self.max_speed = max_speed\n",
    "        self.average_of_vehicle = average_of_vehicle\n",
    "        \n",
    "    def return_vehicle_details(self):\n",
    "        return self.name_of_vehicle,self.max_speed,self.average_of_vehicle"
   ]
  },
  {
   "cell_type": "code",
   "execution_count": 5,
   "id": "c0d16d33-a136-4cb3-bdd4-1dc89cf48122",
   "metadata": {},
   "outputs": [],
   "source": [
    "brezza = vehicle(\"Brezza\",\"180kmph\",\"18kmpl\")"
   ]
  },
  {
   "cell_type": "code",
   "execution_count": 6,
   "id": "f06a4e2c-cbd2-457c-bdfb-5f08caacd6af",
   "metadata": {},
   "outputs": [
    {
     "data": {
      "text/plain": [
       "('Brezza', '180kmph', '18kmpl')"
      ]
     },
     "execution_count": 6,
     "metadata": {},
     "output_type": "execute_result"
    }
   ],
   "source": [
    "brezza.return_vehicle_details()"
   ]
  },
  {
   "cell_type": "markdown",
   "id": "8ddec6b9-c399-423d-a239-b59e92cce00e",
   "metadata": {},
   "source": [
    "### Q2.  Create a child class car from the vehicle class created in Que 1, which will inherit the vehicle class. Create a method named seating_capacity which takes capacity as an argument and returns the name of the vehicle and its seating capacity."
   ]
  },
  {
   "cell_type": "code",
   "execution_count": 17,
   "id": "09a80d3b-b5ea-4a0d-adb6-350a972ef61b",
   "metadata": {},
   "outputs": [],
   "source": [
    "# Answer 2:\n",
    "\n",
    "class child_vehicle_class(vehicle):\n",
    "    \n",
    "    def seating_capacity(self,capacity):\n",
    "        self.capacity = capacity\n",
    "        return self.name_of_vehicle,self.capacity"
   ]
  },
  {
   "cell_type": "code",
   "execution_count": 19,
   "id": "c1fd2487-cf4a-43ed-8bbf-27bfc6af583e",
   "metadata": {},
   "outputs": [
    {
     "data": {
      "text/plain": [
       "('Maruti', 4)"
      ]
     },
     "execution_count": 19,
     "metadata": {},
     "output_type": "execute_result"
    }
   ],
   "source": [
    "maruti = child_vehicle_class(\"Maruti\",\"160kmph\",\"25kmpl\")\n",
    "maruti.seating_capacity(4)"
   ]
  },
  {
   "cell_type": "markdown",
   "id": "e8ac437b-7ba0-4250-8fd6-824cfd8fe377",
   "metadata": {},
   "source": [
    "### Q3. What is multiple inheritance? Write a python code to demonstrate multiple inheritance."
   ]
  },
  {
   "cell_type": "markdown",
   "id": "4d7552da-072f-4b81-8d73-7d8817ec8902",
   "metadata": {},
   "source": [
    "Answer 3:\n",
    "\n",
    "A class can be derived from more than one superclass in Python. This is called multiple inheritance.\n",
    "\n",
    "For example, A class \"bat\" is derived from superclasses \"mammal\" and \"winged_animal\". It makes sense because bat is a mammal as well as a winged animal."
   ]
  },
  {
   "cell_type": "code",
   "execution_count": 5,
   "id": "47b04663-9c84-4ac8-b38c-2538e07703f6",
   "metadata": {},
   "outputs": [],
   "source": [
    "class mammal:\n",
    "    def mammal_info(self):\n",
    "        print(\"Mammals can give direct birth.\")\n",
    "\n",
    "class winged_animal:\n",
    "    def winged_animal_info(self):\n",
    "        print(\"Winged animals can flap.\")\n",
    "\n",
    "class bat(mammal, winged_animal):\n",
    "    pass"
   ]
  },
  {
   "cell_type": "code",
   "execution_count": 6,
   "id": "43df6ea7-47f6-459e-b63f-5b12cc8b3602",
   "metadata": {},
   "outputs": [
    {
     "name": "stdout",
     "output_type": "stream",
     "text": [
      "Mammals can give direct birth.\n",
      "Winged animals can flap.\n"
     ]
    }
   ],
   "source": [
    "b = bat()\n",
    "b.mammal_info()\n",
    "b.winged_animal_info()"
   ]
  },
  {
   "cell_type": "markdown",
   "id": "07419098-0b38-43bf-8eeb-6fa162741569",
   "metadata": {},
   "source": [
    "### Q4. What are getter and setter in python? Create a class and create a getter and a setter method in this class."
   ]
  },
  {
   "cell_type": "markdown",
   "id": "2608ea9f-3502-43b0-a09b-15e7f97bbf75",
   "metadata": {},
   "source": [
    "Answer 4:\n",
    "\n",
    "Getter: A method that allows you to access an attribute in a given class\n",
    "Setter: A method that allows you to set or mutate the value of an attribute in a class\n",
    "\n",
    "In OOP, the getter and setter pattern suggests that public attributes should be used only when you’re sure that no one will ever need to attach behavior to them. If an attribute is likely to change its internal implementation, then you should use getter and setter methods."
   ]
  },
  {
   "cell_type": "code",
   "execution_count": 20,
   "id": "9779995d-f3de-4568-89db-23b47314d6a8",
   "metadata": {},
   "outputs": [],
   "source": [
    "class details:\n",
    "    def __init__(self,name,age,gender):\n",
    "        self.name = name\n",
    "        self.age = age\n",
    "        self.gender = gender\n",
    "        \n",
    "    def set_age(self,age):\n",
    "        self.age = 0 if age < 0 else age\n",
    "        \n",
    "    def get_age(self):\n",
    "        return self.age"
   ]
  },
  {
   "cell_type": "code",
   "execution_count": 21,
   "id": "9b91a374-9eae-4535-949f-de70c1c3eb23",
   "metadata": {},
   "outputs": [],
   "source": [
    "tarun = details(\"Tarun\",19,\"Male\")"
   ]
  },
  {
   "cell_type": "code",
   "execution_count": 22,
   "id": "93459ce3-4bb0-4c19-8d9b-0470332e4f3a",
   "metadata": {},
   "outputs": [
    {
     "data": {
      "text/plain": [
       "19"
      ]
     },
     "execution_count": 22,
     "metadata": {},
     "output_type": "execute_result"
    }
   ],
   "source": [
    "tarun.get_age()"
   ]
  },
  {
   "cell_type": "code",
   "execution_count": 23,
   "id": "04e1ad90-5d7d-4d7a-819f-8ee2eb6a98bc",
   "metadata": {},
   "outputs": [],
   "source": [
    "tarun.set_age(-2)"
   ]
  },
  {
   "cell_type": "code",
   "execution_count": 24,
   "id": "283afd3e-315d-4f8f-84e8-e43bab7d44dd",
   "metadata": {},
   "outputs": [
    {
     "data": {
      "text/plain": [
       "0"
      ]
     },
     "execution_count": 24,
     "metadata": {},
     "output_type": "execute_result"
    }
   ],
   "source": [
    "tarun.get_age()"
   ]
  },
  {
   "cell_type": "code",
   "execution_count": 25,
   "id": "0ce2a94f-1e69-4a80-9c41-0a56e4d25a0b",
   "metadata": {},
   "outputs": [],
   "source": [
    "tarun.set_age(34)"
   ]
  },
  {
   "cell_type": "code",
   "execution_count": 26,
   "id": "5ce450a1-0199-4f84-aee8-0baa588f07d8",
   "metadata": {},
   "outputs": [
    {
     "data": {
      "text/plain": [
       "34"
      ]
     },
     "execution_count": 26,
     "metadata": {},
     "output_type": "execute_result"
    }
   ],
   "source": [
    "tarun.get_age()"
   ]
  },
  {
   "cell_type": "markdown",
   "id": "2611f3d7-9417-4554-b786-f6204ac03c5b",
   "metadata": {},
   "source": [
    "### Q5.What is method overriding in python? Write a python code to demonstrate method overriding."
   ]
  },
  {
   "cell_type": "code",
   "execution_count": 1,
   "id": "bcc8e869-ce3a-4cd9-add4-0e6327ec2bec",
   "metadata": {},
   "outputs": [],
   "source": [
    "# Answer 5:\n",
    "\n",
    "class planet():\n",
    "    \n",
    "    def __init__(self):\n",
    "        self.habitable = \"They are not habitable\"\n",
    "          \n",
    "    def return_value(self):\n",
    "        print(self.habitable)"
   ]
  },
  {
   "cell_type": "code",
   "execution_count": 2,
   "id": "8ff9bc1a-e68b-48ca-98e6-20c6949718f4",
   "metadata": {},
   "outputs": [],
   "source": [
    "class earth(planet):\n",
    "\n",
    "    def __init__(self):\n",
    "        self.habitable = \"It is habitable\"\n",
    "\n",
    "    def return_value(self):\n",
    "        print(self.habitable)"
   ]
  },
  {
   "cell_type": "code",
   "execution_count": 3,
   "id": "32abe6e6-988a-4683-bc1a-346a2320b978",
   "metadata": {},
   "outputs": [],
   "source": [
    "planet1 = planet()"
   ]
  },
  {
   "cell_type": "code",
   "execution_count": 4,
   "id": "f9d79bbc-c7af-4a38-9711-c06345586e07",
   "metadata": {},
   "outputs": [
    {
     "name": "stdout",
     "output_type": "stream",
     "text": [
      "They are not habitable\n"
     ]
    }
   ],
   "source": [
    "planet1.return_value()"
   ]
  },
  {
   "cell_type": "code",
   "execution_count": 5,
   "id": "3852c20e-1714-4091-b584-8984235f1e3f",
   "metadata": {},
   "outputs": [],
   "source": [
    "earth1 = earth()"
   ]
  },
  {
   "cell_type": "code",
   "execution_count": 6,
   "id": "226a3e70-bf17-46c7-83e6-a73c80ba1199",
   "metadata": {},
   "outputs": [
    {
     "name": "stdout",
     "output_type": "stream",
     "text": [
      "It is habitable\n"
     ]
    }
   ],
   "source": [
    "earth1.return_value()"
   ]
  },
  {
   "cell_type": "code",
   "execution_count": null,
   "id": "702c9fbc-b571-459d-83c8-a2d1792f1398",
   "metadata": {},
   "outputs": [],
   "source": []
  }
 ],
 "metadata": {
  "kernelspec": {
   "display_name": "Python 3 (ipykernel)",
   "language": "python",
   "name": "python3"
  },
  "language_info": {
   "codemirror_mode": {
    "name": "ipython",
    "version": 3
   },
   "file_extension": ".py",
   "mimetype": "text/x-python",
   "name": "python",
   "nbconvert_exporter": "python",
   "pygments_lexer": "ipython3",
   "version": "3.10.8"
  }
 },
 "nbformat": 4,
 "nbformat_minor": 5
}
