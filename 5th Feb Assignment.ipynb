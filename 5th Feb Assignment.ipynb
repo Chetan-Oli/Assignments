{
 "cells": [
  {
   "cell_type": "markdown",
   "id": "956802bf-e48e-4c6d-8c2d-7cdc9b559211",
   "metadata": {},
   "source": [
    "# 5th Feb | Assignment"
   ]
  },
  {
   "cell_type": "markdown",
   "id": "5b46d55c-66b8-4295-9655-380b5f5e4b57",
   "metadata": {},
   "source": [
    "### Q1. Explain Class and Object with respect to Object-Oriented Programming. Give a suitable example."
   ]
  },
  {
   "cell_type": "markdown",
   "id": "243dd700-0613-44a4-b8db-a24e7ffa68af",
   "metadata": {},
   "source": [
    "Answer 1:-\n",
    "\n",
    "Classes are user-defined data types that act as the blueprint for individual objects, attributes and methods."
   ]
  },
  {
   "cell_type": "code",
   "execution_count": 3,
   "id": "b8f04365-d499-4b7f-8b1d-1532c80dae23",
   "metadata": {},
   "outputs": [],
   "source": [
    "# Example:- Create a class named MyClass, with a property named x:-\n",
    "\n",
    "class Myclass:\n",
    "    x = 5"
   ]
  },
  {
   "cell_type": "markdown",
   "id": "55de6806-56cb-45b2-87c1-bb660f28ba40",
   "metadata": {},
   "source": [
    "Objects are instances of a class created with specifically defined data."
   ]
  },
  {
   "cell_type": "code",
   "execution_count": 6,
   "id": "a1e17ce6-353e-4d0e-a103-709f84894ec8",
   "metadata": {},
   "outputs": [
    {
     "name": "stdout",
     "output_type": "stream",
     "text": [
      "5\n"
     ]
    }
   ],
   "source": [
    "# Example:- Create an object named p1, and print the value of x:-\n",
    "\n",
    "p1 = Myclass()\n",
    "print(p1.x)"
   ]
  },
  {
   "cell_type": "markdown",
   "id": "64c2659a-d554-4fa9-8628-a0735b721fe8",
   "metadata": {},
   "source": [
    "### Q2. Name the four pillars of OOPs."
   ]
  },
  {
   "cell_type": "markdown",
   "id": "e83a8aad-038f-491a-8a1a-1e138f5a4ba6",
   "metadata": {},
   "source": [
    "Answer 2:-\n",
    "\n",
    "The four pillars of OOPS are:-\n",
    "1. Inheritance\n",
    "2. Polymorphism\n",
    "3. Encapsulation\n",
    "4. Abstraction."
   ]
  },
  {
   "cell_type": "markdown",
   "id": "ce19e5d2-eeb0-46aa-b8c5-85a4eb0e8ff2",
   "metadata": {},
   "source": [
    "### Q3. Explain why the __init__() function is used. Give a suitable example."
   ]
  },
  {
   "cell_type": "markdown",
   "id": "f0827c6c-0a25-4669-a094-d00cae621a91",
   "metadata": {},
   "source": [
    "Answer 3:-\n",
    "The init() function or Constructor is used to initializing the object’s state. The task of init() constructor is to initialize(assign values) to the data members of the class when an object of the class is created. \n",
    "\n",
    "Like methods, init() constructor also contains a collection of statements(i.e. instructions) that are executed at the time of Object creation. It is run as soon as an object of a class is instantiated. The method is useful to do any initialization you want to do with your object."
   ]
  },
  {
   "cell_type": "code",
   "execution_count": 8,
   "id": "24968fe4-3f7d-4a4f-96aa-1f971fae9683",
   "metadata": {},
   "outputs": [],
   "source": [
    "# Example:-\n",
    "\n",
    "class person():\n",
    "    \n",
    "    def __init__(self,name):\n",
    "        self.name = name\n",
    "        \n",
    "    def say_hi(self):\n",
    "        print(\"Hello my name is\",self.name)"
   ]
  },
  {
   "cell_type": "code",
   "execution_count": 9,
   "id": "f3b174a5-78d0-466b-9593-756fb9b98d5f",
   "metadata": {},
   "outputs": [
    {
     "name": "stdout",
     "output_type": "stream",
     "text": [
      "Hello my name is Nikhil\n"
     ]
    }
   ],
   "source": [
    "n = person(\"Nikhil\")\n",
    "n.say_hi()"
   ]
  },
  {
   "cell_type": "markdown",
   "id": "bfda8ce8-0138-4111-8080-4e3eba2a388f",
   "metadata": {},
   "source": [
    "### Q4. Why self is used in OOPs?"
   ]
  },
  {
   "cell_type": "markdown",
   "id": "0d8fa190-4660-4bff-8690-8ce137a970ee",
   "metadata": {},
   "source": [
    "Answer 4:- The \"self\" variable is used to represent the instance of the class which is often used in object-oriented programming. It works as a reference to the object. \n",
    "\n",
    "Python uses the self parameter to refer to instance attributes and methods of the class.  "
   ]
  },
  {
   "cell_type": "code",
   "execution_count": 15,
   "id": "d17cfc6a-f65e-4d6c-9fe4-f899020bf4ba",
   "metadata": {},
   "outputs": [],
   "source": [
    "# Example:-\n",
    "\n",
    "class Rectangle (): \n",
    "    \n",
    "    def __init__(self,x,y): \n",
    "        self.x = x \n",
    "        self.y = y \n",
    "        \n",
    "    def area(self): \n",
    "        print (\"The area is\",self.x * self.y,\"sq. unit\") "
   ]
  },
  {
   "cell_type": "code",
   "execution_count": 16,
   "id": "3294171d-64fd-47be-95de-79ebf4fb6843",
   "metadata": {},
   "outputs": [
    {
     "name": "stdout",
     "output_type": "stream",
     "text": [
      "The area is 40 sq. unit\n"
     ]
    }
   ],
   "source": [
    "a = Rectangle(10,4)\n",
    "a.area()"
   ]
  },
  {
   "cell_type": "markdown",
   "id": "890207b7-8c15-44af-bab3-ffe05b203599",
   "metadata": {},
   "source": [
    "### Q5. What is inheritance? Give an example for each type of inheritance."
   ]
  },
  {
   "cell_type": "markdown",
   "id": "e6270473-b70c-4e03-bb8e-14d818188d56",
   "metadata": {},
   "source": [
    "Answer 5:-\n",
    "\n",
    "Inheritance in python programming is the concept of deriving a new class from an existing class. Using the concept of inheritance we can inherit the properties of the existing class to our new class. \n",
    "\n",
    "The new derived class is called the child class and the existing class is called the parent class.\n",
    "\n",
    "There are five types of inheritance in python programming:-\n",
    "\n",
    "1. Single Inheritance\n",
    "2. Multiple Inheritances\n",
    "3. Multilevel Inheritance\n",
    "4. Hierarchical Inheritance\n",
    "5. Hybrid Inheritance"
   ]
  },
  {
   "cell_type": "markdown",
   "id": "43d28eca-12c7-4b4d-9ac7-ae3419ddc6e9",
   "metadata": {},
   "source": [
    "Single inheritance:- \n",
    "\n",
    "When child class is derived from only one parent class. This is called single inheritance."
   ]
  },
  {
   "cell_type": "code",
   "execution_count": 18,
   "id": "f59c5d44-949c-4a3b-92dc-5840b05bed44",
   "metadata": {},
   "outputs": [],
   "source": [
    "class class1:\n",
    "    pass\n",
    "\n",
    "class class2(class1):\n",
    "    pass\n",
    "\n",
    "obj_name = class2()"
   ]
  },
  {
   "cell_type": "markdown",
   "id": "5c99bb09-4c57-48cf-9113-10d48ee4fa33",
   "metadata": {},
   "source": [
    "Multiple Inheritance:-\n",
    "\n",
    "When child class is derived or inherited from more than one parent class. This is called multiple inheritance. \n",
    "\n",
    "In multiple inheritance, we have two parent classes/base classes and one child class that inherits both parent classes properties."
   ]
  },
  {
   "cell_type": "code",
   "execution_count": 19,
   "id": "2a1beb8f-70e7-455e-835f-6eee10f2a922",
   "metadata": {},
   "outputs": [],
   "source": [
    "class parent_1:\n",
    "    pass\n",
    "\n",
    "class parent_2:\n",
    "    pass\n",
    "\n",
    "class child(parent_1,parent_2):\n",
    "    pass\n",
    "\n",
    "obj = child()"
   ]
  },
  {
   "cell_type": "markdown",
   "id": "dff33f5c-b0fc-40ce-9219-4418557e8d48",
   "metadata": {},
   "source": [
    "Multilevel Inheritance:- \n",
    "\n",
    "In multilevel inheritance, we have one parent class and child class that is derived or inherited from that parent class. \n",
    "\n",
    "We have a grand-child class that is derived from the child class."
   ]
  },
  {
   "cell_type": "code",
   "execution_count": 20,
   "id": "670fe2ce-1a31-41f8-8ff5-d45ebbdc4590",
   "metadata": {},
   "outputs": [],
   "source": [
    "class A:\n",
    "    pass\n",
    "\n",
    "class B(A):\n",
    "    pass\n",
    "\n",
    "class C(B):\n",
    "    pass\n",
    "\n",
    "obj = C()"
   ]
  },
  {
   "cell_type": "markdown",
   "id": "b7f0b703-8392-4ee1-bf04-9d4bfcd02e43",
   "metadata": {},
   "source": [
    "Hierarchical inheritance:- \n",
    "\n",
    "When we derive or inherit more than one child class from one(same) parent class. Then this type of inheritance is called hierarchical inheritance."
   ]
  },
  {
   "cell_type": "code",
   "execution_count": 21,
   "id": "6a44e67d-a0b3-4a51-a48f-1c6a9dbbe0e8",
   "metadata": {},
   "outputs": [],
   "source": [
    "class A:\n",
    "    pass\n",
    "    \n",
    "class B(A):\n",
    "    pass\n",
    "\n",
    "class C(A):\n",
    "    pass\n",
    "\n",
    "class D(A):\n",
    "    pass\n",
    "\n",
    "obj_1 = B()\n",
    "obj_2 = C()\n",
    "obj_3 = D()"
   ]
  },
  {
   "cell_type": "markdown",
   "id": "552c256f-1cfc-485f-87e7-4a46e09fdbee",
   "metadata": {},
   "source": [
    "Hybrid Inheritance:- \n",
    "\n",
    "Hybrid inheritance satisfies more than one form of inheritance i.e., it may be consists of all types of inheritance that we have done above. We can say Hybrid Inheritance is the combinations of simple, multiple, multilevel and hierarchical inheritance. \n",
    "\n",
    "This type of inheritance is very helpful if we want to use concepts of inheritance without any limitations according to our requirements."
   ]
  },
  {
   "cell_type": "code",
   "execution_count": 24,
   "id": "ede6d487-140b-472a-8e06-92ea3adb8ddd",
   "metadata": {},
   "outputs": [],
   "source": [
    "class PC: \n",
    "    pass\n",
    "\n",
    "class Laptop(PC): \n",
    "    pass\n",
    "\n",
    "class Mouse(Laptop): \n",
    "    pass\n",
    "    \n",
    "class Student3(Mouse, Laptop): \n",
    "    pass\n",
    " \n",
    "obj = Student3()"
   ]
  },
  {
   "cell_type": "code",
   "execution_count": null,
   "id": "f88e5beb-249d-416d-a7aa-b8ec648956b5",
   "metadata": {},
   "outputs": [],
   "source": []
  }
 ],
 "metadata": {
  "kernelspec": {
   "display_name": "Python 3 (ipykernel)",
   "language": "python",
   "name": "python3"
  },
  "language_info": {
   "codemirror_mode": {
    "name": "ipython",
    "version": 3
   },
   "file_extension": ".py",
   "mimetype": "text/x-python",
   "name": "python",
   "nbconvert_exporter": "python",
   "pygments_lexer": "ipython3",
   "version": "3.10.8"
  }
 },
 "nbformat": 4,
 "nbformat_minor": 5
}
