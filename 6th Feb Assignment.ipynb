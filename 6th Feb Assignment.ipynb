{
 "cells": [
  {
   "cell_type": "markdown",
   "id": "41c8d536-0266-4cc5-b3f2-12f293a5a459",
   "metadata": {},
   "source": [
    "# 6th Feb | Assignment"
   ]
  },
  {
   "cell_type": "markdown",
   "id": "803277e8-b7f0-4d6d-b158-89bd9caa5a0f",
   "metadata": {},
   "source": [
    "### Q1. Create a function which will take a list as an argument and return the product of all the numbers after creating a flat list.\n",
    "### Use the below-given list as an argument for your function.\n",
    "\n",
    "### list1 = [1,2,3,4, [44,55,66, True], False, (34,56,78,89,34), {1,2,3,3,2,1}, {1:34, \"key2\": [55, 67, 78, 89], 4: (45, 22, 61, 34)}, [56, 'data science'], 'Machine Learning']\n",
    "\n",
    "### Note: you must extract numeric keys and values of the dictionary also."
   ]
  },
  {
   "cell_type": "code",
   "execution_count": 33,
   "id": "96d48b59-f5b9-4274-8036-b163264927f4",
   "metadata": {},
   "outputs": [],
   "source": [
    "# Answer 1:-\n",
    "\n",
    "def product(l):\n",
    "    l1 = []\n",
    "    dict_1 = []\n",
    "    \n",
    "    for i in l:\n",
    "        if type(i) == list or type(i) == tuple or type(i) == set:\n",
    "            for j in i:\n",
    "                if type(j) == int:\n",
    "                    l1.append(j)\n",
    "        \n",
    "        elif type(i) == dict:\n",
    "            dict_1.append(list(i.keys()))\n",
    "            dict_1.append(list(i.values()))\n",
    "            \n",
    "            for a in dict_1:\n",
    "                if type(a) == int:\n",
    "                    l1.append(a)\n",
    "                    \n",
    "                else:\n",
    "                    for b in a:\n",
    "                        if type(b) == int:\n",
    "                            l1.append(b)\n",
    "                            \n",
    "                        else:\n",
    "                            for c in b:\n",
    "                                if type(c) == int:\n",
    "                                    l1.append(c)\n",
    "        \n",
    "        \n",
    "        elif type(i) == int:\n",
    "            l1.append(i)\n",
    "            \n",
    "    print(l1)\n",
    "    \n",
    "    product = 1\n",
    "    for x in l1:\n",
    "        product = product * x\n",
    "    \n",
    "    return product"
   ]
  },
  {
   "cell_type": "code",
   "execution_count": 34,
   "id": "e301089e-d47e-4a0c-acf8-da720901cec3",
   "metadata": {},
   "outputs": [
    {
     "name": "stdout",
     "output_type": "stream",
     "text": [
      "[1, 2, 3, 4, 44, 55, 66, 34, 56, 78, 89, 34, 1, 2, 3, 1, 4, 34, 55, 67, 78, 89, 45, 22, 61, 34, 56]\n"
     ]
    },
    {
     "data": {
      "text/plain": [
       "4134711838987085478833841242112000"
      ]
     },
     "execution_count": 34,
     "metadata": {},
     "output_type": "execute_result"
    }
   ],
   "source": [
    "product([1,2,3,4, [44,55,66, True], False, (34,56,78,89,34), {1,2,3,3,2,1}, {1:34, \"key2\": [55, 67, 78, 89], 4: (45,\n",
    "22, 61, 34)}, [56, 'data science'], 'Machine Learning'])"
   ]
  },
  {
   "cell_type": "markdown",
   "id": "0eaf7634-722f-4d64-9d16-1d1bf35f0aa8",
   "metadata": {},
   "source": [
    "### Q2. Write a python program for encrypting a message sent to you by your friend. The logic of encryption should be such that, for a the output should be z. For b, the output should be y. For c, the output should be x respectively. Also, the whitespace should be replaced with a dollar sign. Keep the punctuation marks unchanged.\n",
    "### Input Sentence: I want to become a Data Scientist.\n",
    "### Encrypt the above input sentence using the program you just created.\n",
    "### Note: Convert the given input sentence into lowercase before encrypting. The final output should be lowercase."
   ]
  },
  {
   "cell_type": "code",
   "execution_count": 22,
   "id": "b261715e-727a-4cd8-b27f-5e178384e3ea",
   "metadata": {},
   "outputs": [],
   "source": [
    "# Answer 2:-\n",
    "\n",
    "def input_sentence(word):\n",
    "    \n",
    "    word = word.lower()\n",
    "    \n",
    "    for i in word:\n",
    "        if i == \" \":\n",
    "            print(\"$\",end = \"\")\n",
    "            \n",
    "        elif i == \".\":\n",
    "            print(\".\",end = \"\")\n",
    "    \n",
    "        else:\n",
    "            character = chr(ord(\"z\") - (ord(i) - ord(\"a\")))\n",
    "            print(character,end = \"\")"
   ]
  },
  {
   "cell_type": "code",
   "execution_count": 23,
   "id": "a06331dd-56f0-49e2-8867-a19f26162cda",
   "metadata": {},
   "outputs": [
    {
     "name": "stdout",
     "output_type": "stream",
     "text": [
      "r$dzmg$gl$yvxlnv$z$wzgz$hxrvmgrhg."
     ]
    }
   ],
   "source": [
    "input_sentence(\"i want to become a data scientist.\")"
   ]
  },
  {
   "cell_type": "code",
   "execution_count": null,
   "id": "c514ec50-33d4-4ffc-ae0f-d30b9af34d0d",
   "metadata": {},
   "outputs": [],
   "source": []
  }
 ],
 "metadata": {
  "kernelspec": {
   "display_name": "Python 3 (ipykernel)",
   "language": "python",
   "name": "python3"
  },
  "language_info": {
   "codemirror_mode": {
    "name": "ipython",
    "version": 3
   },
   "file_extension": ".py",
   "mimetype": "text/x-python",
   "name": "python",
   "nbconvert_exporter": "python",
   "pygments_lexer": "ipython3",
   "version": "3.10.8"
  }
 },
 "nbformat": 4,
 "nbformat_minor": 5
}
