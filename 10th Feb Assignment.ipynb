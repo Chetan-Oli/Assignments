{
 "cells": [
  {
   "cell_type": "markdown",
   "id": "4b087156-82f1-4df7-bd68-bfbe3fdb79ba",
   "metadata": {},
   "source": [
    "# 10th Feb | Assignment"
   ]
  },
  {
   "cell_type": "markdown",
   "id": "f62d64b4-5692-49db-a0ec-9c37cfd0857e",
   "metadata": {},
   "source": [
    "### Q1. Which function is used to open a file? What are the different modes of opening a file? Explain each mode of file opening."
   ]
  },
  {
   "cell_type": "markdown",
   "id": "92aec53d-2cb4-4154-b3be-e1ceba9ae02c",
   "metadata": {},
   "source": [
    "Answer 1:-\n",
    "\n",
    "In Python, we use the open() method to open files.\n",
    "\n",
    "Different Modes to Open a File in Python:-\n",
    "\n",
    "1. \"r\" = Open a file for reading. (default)\n",
    "2. \"w\" = Open a file for writing. Creates a new file if it does not exist or truncates the file if it exists.\n",
    "3. \"x\" = Open a file for exclusive creation. If the file already exists, the operation fails.\n",
    "4. \"a\" = Open a file for appending at the end of the file without truncating it. Creates a new file if it does not exist.\n",
    "5. \"t\" = Open in text mode. (default)\n",
    "6. \"b\" = Open in binary mode.\n",
    "7. \"+\" = Open a file for updating (reading and writing)"
   ]
  },
  {
   "cell_type": "markdown",
   "id": "92814900-946e-4dd6-82d6-dd1a5b58fc2f",
   "metadata": {},
   "source": [
    "### Q2. Why close() function is used? Why is it important to close a file?"
   ]
  },
  {
   "cell_type": "markdown",
   "id": "91e2a8ab-9fa2-4614-b500-5b23eef1daab",
   "metadata": {},
   "source": [
    "Answer 2:-\n",
    "\n",
    "The close() method is used to close an open file.\n",
    "\n",
    "Closing a file after use is important because it frees up system resources that are being used by the file. When a file is open, the operating system allocates memory and other resources to the file, which can potentially impact the performance of the system if too many files are open at the same time. By closing the file, you release these resources back to the system, which can be used by other processes or programs.\n"
   ]
  },
  {
   "cell_type": "markdown",
   "id": "c81e8a17-8e27-4b82-b5df-371ba5543969",
   "metadata": {},
   "source": [
    "### Q3. Write a python program to create a text file. Write ‘I want to become a Data Scientist’ in that file. Then close the file. Open this file and read the content of the file."
   ]
  },
  {
   "cell_type": "code",
   "execution_count": 5,
   "id": "aa0f9cb9-07aa-496e-b010-cc73b8c991b6",
   "metadata": {},
   "outputs": [],
   "source": [
    "# Answer 3:-\n",
    "\n",
    "file1 =  open(\"test1.txt\",\"w\")"
   ]
  },
  {
   "cell_type": "code",
   "execution_count": 6,
   "id": "e56b3de3-8f1e-48ea-870e-efa92f2a4e11",
   "metadata": {},
   "outputs": [
    {
     "data": {
      "text/plain": [
       "33"
      ]
     },
     "execution_count": 6,
     "metadata": {},
     "output_type": "execute_result"
    }
   ],
   "source": [
    "file1.write(\"I want to become a Data Scientist\")"
   ]
  },
  {
   "cell_type": "code",
   "execution_count": 7,
   "id": "10558ac2-be11-4500-a759-5c3d5afebb12",
   "metadata": {},
   "outputs": [],
   "source": [
    "file1.close()"
   ]
  },
  {
   "cell_type": "code",
   "execution_count": 8,
   "id": "efbf0f19-9596-4841-a5cc-89711a67b9f0",
   "metadata": {},
   "outputs": [],
   "source": [
    "file1 =  open(\"test1.txt\",\"r\")"
   ]
  },
  {
   "cell_type": "code",
   "execution_count": 9,
   "id": "f1ad132d-d33d-433d-80bd-626a5b490df1",
   "metadata": {},
   "outputs": [
    {
     "data": {
      "text/plain": [
       "'I want to become a Data Scientist'"
      ]
     },
     "execution_count": 9,
     "metadata": {},
     "output_type": "execute_result"
    }
   ],
   "source": [
    "file1.read()"
   ]
  },
  {
   "cell_type": "code",
   "execution_count": 10,
   "id": "8fc5ca9a-8b58-48f5-8585-7b129e149d03",
   "metadata": {},
   "outputs": [],
   "source": [
    "file1.close()"
   ]
  },
  {
   "cell_type": "markdown",
   "id": "12de2fea-007e-47ee-8bd6-15bae4ef384b",
   "metadata": {},
   "source": [
    "### Q4. Explain the following with python code: read(), readline() and readlines()."
   ]
  },
  {
   "cell_type": "markdown",
   "id": "f0f5fb4a-b108-41c2-bbdf-a29f18680b62",
   "metadata": {},
   "source": [
    "Answer 4:-\n",
    "\n",
    "Read(): \n",
    "\n",
    "Returns the read bytes in the form of a string. Reads n bytes; if n is not specified, then reads the entire file."
   ]
  },
  {
   "cell_type": "code",
   "execution_count": 62,
   "id": "cffca340-15ed-43e2-83e9-619d661496dc",
   "metadata": {},
   "outputs": [],
   "source": [
    "file2 = open(\"test2.txt\",\"w\")"
   ]
  },
  {
   "cell_type": "code",
   "execution_count": 63,
   "id": "b437ef8f-e439-480b-abc8-b26aedab5065",
   "metadata": {},
   "outputs": [
    {
     "data": {
      "text/plain": [
       "52"
      ]
     },
     "execution_count": 63,
     "metadata": {},
     "output_type": "execute_result"
    }
   ],
   "source": [
    "file2.write(\"\"\"My name is Rahul\n",
    "My name is Rohit\n",
    "My name is Rushil\n",
    "\"\"\")"
   ]
  },
  {
   "cell_type": "code",
   "execution_count": 64,
   "id": "919f7e62-deb4-4e5e-8b32-c00622c6a19a",
   "metadata": {},
   "outputs": [],
   "source": [
    "file2.close()"
   ]
  },
  {
   "cell_type": "code",
   "execution_count": 65,
   "id": "4b7c0fdb-8af2-4cf2-9f54-56002190d011",
   "metadata": {},
   "outputs": [],
   "source": [
    "file2 = open(\"test2.txt\",\"r\")"
   ]
  },
  {
   "cell_type": "code",
   "execution_count": 66,
   "id": "a6e2a99c-3493-4561-a8e8-6d15eb19d19b",
   "metadata": {},
   "outputs": [
    {
     "data": {
      "text/plain": [
       "'My name is Rahul\\nMy name is Rohit\\nMy name is Rushil\\n'"
      ]
     },
     "execution_count": 66,
     "metadata": {},
     "output_type": "execute_result"
    }
   ],
   "source": [
    "file2.read()"
   ]
  },
  {
   "cell_type": "code",
   "execution_count": 67,
   "id": "57d9f216-6d80-40f6-afca-4cfc0f1b3be3",
   "metadata": {},
   "outputs": [
    {
     "data": {
      "text/plain": [
       "0"
      ]
     },
     "execution_count": 67,
     "metadata": {},
     "output_type": "execute_result"
    }
   ],
   "source": [
    "file2.seek(0)"
   ]
  },
  {
   "cell_type": "markdown",
   "id": "784c4a5a-3002-475f-9d52-33bacaa817b8",
   "metadata": {},
   "source": [
    "Readline():- \n",
    "\n",
    "Reads a line of the file and returns in the form of a string. For specified n, reads at most n bytes. Readline() function does not read more than one line at a time; even if n exceeds, it reads only one line. Readline() function reads a line of the file and returns it in the string. It takes an integer value n as a parameter to read the number of characters read at a time. Readline() method is very efficient in reading the data from a very large file because it fetches the data line by line and returns and prints on the screen. Readline() returns the next line of the file, which contains a newline character in the end. Also, if the end of the file is reached, it will return an empty string."
   ]
  },
  {
   "cell_type": "code",
   "execution_count": 68,
   "id": "0f8eec47-3f22-4965-9668-bd3bfca69d5f",
   "metadata": {},
   "outputs": [
    {
     "data": {
      "text/plain": [
       "'My name is Rahul\\n'"
      ]
     },
     "execution_count": 68,
     "metadata": {},
     "output_type": "execute_result"
    }
   ],
   "source": [
    "file2.readline()"
   ]
  },
  {
   "cell_type": "code",
   "execution_count": 69,
   "id": "c37f9afa-1195-45d9-a0bd-e46ae45f102a",
   "metadata": {},
   "outputs": [
    {
     "data": {
      "text/plain": [
       "0"
      ]
     },
     "execution_count": 69,
     "metadata": {},
     "output_type": "execute_result"
    }
   ],
   "source": [
    "file2.seek(0)"
   ]
  },
  {
   "cell_type": "markdown",
   "id": "d00548e5-1f6a-42aa-95d8-a70470afd3f0",
   "metadata": {},
   "source": [
    "Readlines(): Reads all the lines and returns them as a string element in a list.Readlines() is used to read all the lines at a single go and then return them as a string element in a list. This function can be used for small files, as it reads the whole file content to the memory, then splits it into separate lines."
   ]
  },
  {
   "cell_type": "code",
   "execution_count": 70,
   "id": "a491da20-47e7-487b-a32a-c7f2bca1c006",
   "metadata": {},
   "outputs": [
    {
     "data": {
      "text/plain": [
       "['My name is Rahul\\n', 'My name is Rohit\\n', 'My name is Rushil\\n']"
      ]
     },
     "execution_count": 70,
     "metadata": {},
     "output_type": "execute_result"
    }
   ],
   "source": [
    "file2.readlines()"
   ]
  },
  {
   "cell_type": "code",
   "execution_count": 71,
   "id": "30b058b7-18c1-48f4-a955-201826529bf9",
   "metadata": {},
   "outputs": [
    {
     "data": {
      "text/plain": [
       "0"
      ]
     },
     "execution_count": 71,
     "metadata": {},
     "output_type": "execute_result"
    }
   ],
   "source": [
    "file2.seek(0)"
   ]
  },
  {
   "cell_type": "markdown",
   "id": "f39be048-aa56-4efa-a14d-4f47a46477e3",
   "metadata": {},
   "source": [
    "### Q5. Explain why with statement is used with open(). What is the advantage of using with statement and open() together?"
   ]
  },
  {
   "cell_type": "markdown",
   "id": "c7e9d51d-eeb9-4ecb-8e3e-cce26f45a628",
   "metadata": {},
   "source": [
    "Answer 5:-\n",
    "\n",
    "In Python, with statement is used with open() specially for exception handling to make the code cleaner and much more readable. It simplifies the management of common resources like file streams."
   ]
  },
  {
   "cell_type": "code",
   "execution_count": 2,
   "id": "38fa23c0-2999-4bbc-97b3-e3d90b77e04f",
   "metadata": {},
   "outputs": [],
   "source": [
    "# Example:-\n",
    "\n",
    "with open(\"test3.txt\",\"w\") as file3:\n",
    "    file3.write(\"Hello World!\")"
   ]
  },
  {
   "cell_type": "markdown",
   "id": "0edbe43c-0c10-4ae4-b9b6-35e3c344b570",
   "metadata": {},
   "source": [
    "Unlike other code implementations, there is no need to call file.close() when using with statement. The with statement itself ensures proper acquisition and release of resources. \n",
    "\n",
    "An exception during the file.write() call in the first implementation can prevent the file from closing properly which may introduce several bugs in the code, i.e. many changes in files do not go into effect until the file is properly closed. Thus, with statement helps avoiding bugs and leaks by ensuring that a resource is properly released when the code using the resource is completely executed and makes the code compact and much more readable."
   ]
  },
  {
   "cell_type": "markdown",
   "id": "6801d957-80f7-4bad-88a2-6cd2ae6c1efa",
   "metadata": {},
   "source": [
    "### Q6. Explain the write() and writelines() functions. Give a suitable example."
   ]
  },
  {
   "cell_type": "markdown",
   "id": "e10a3840-f4c0-467d-aa81-069012a6b0a0",
   "metadata": {},
   "source": [
    "Answer 6:-\n",
    "\n",
    "Write():- The write() method accepts a string as an argument and writes this string to the text file. If you provide a list of strings to the write() method, then it will raise an exception."
   ]
  },
  {
   "cell_type": "code",
   "execution_count": 1,
   "id": "8456d5d6-fd32-4636-86b8-ef33f50fcefc",
   "metadata": {},
   "outputs": [],
   "source": [
    "# Example:\n",
    "\n",
    "file4 =  open(\"test4.txt\",\"w\")\n",
    "file4.write(\"Rohit\")\n",
    "file4.close()"
   ]
  },
  {
   "cell_type": "code",
   "execution_count": 2,
   "id": "1849eb22-5a66-4d54-9bce-c01e39505e43",
   "metadata": {},
   "outputs": [
    {
     "ename": "TypeError",
     "evalue": "write() argument must be str, not list",
     "output_type": "error",
     "traceback": [
      "\u001b[0;31m---------------------------------------------------------------------------\u001b[0m",
      "\u001b[0;31mTypeError\u001b[0m                                 Traceback (most recent call last)",
      "Cell \u001b[0;32mIn[2], line 2\u001b[0m\n\u001b[1;32m      1\u001b[0m file4 \u001b[38;5;241m=\u001b[39m  \u001b[38;5;28mopen\u001b[39m(\u001b[38;5;124m\"\u001b[39m\u001b[38;5;124mtest4.txt\u001b[39m\u001b[38;5;124m\"\u001b[39m,\u001b[38;5;124m\"\u001b[39m\u001b[38;5;124mw\u001b[39m\u001b[38;5;124m\"\u001b[39m)\n\u001b[0;32m----> 2\u001b[0m \u001b[43mfile4\u001b[49m\u001b[38;5;241;43m.\u001b[39;49m\u001b[43mwrite\u001b[49m\u001b[43m(\u001b[49m\u001b[43m[\u001b[49m\u001b[38;5;124;43m\"\u001b[39;49m\u001b[38;5;124;43mRohit\u001b[39;49m\u001b[38;5;124;43m\"\u001b[39;49m\u001b[43m,\u001b[49m\u001b[38;5;124;43m\"\u001b[39;49m\u001b[38;5;124;43mRushil\u001b[39;49m\u001b[38;5;124;43m\"\u001b[39;49m\u001b[43m,\u001b[49m\u001b[38;5;124;43m\"\u001b[39;49m\u001b[38;5;124;43mRamesh\u001b[39;49m\u001b[38;5;124;43m\"\u001b[39;49m\u001b[43m]\u001b[49m\u001b[43m)\u001b[49m\n\u001b[1;32m      3\u001b[0m file4\u001b[38;5;241m.\u001b[39mclose()\n",
      "\u001b[0;31mTypeError\u001b[0m: write() argument must be str, not list"
     ]
    }
   ],
   "source": [
    "file4 =  open(\"test4.txt\",\"w\")\n",
    "file4.write([\"Rohit\",\"Rushil\",\"Ramesh\"])\n",
    "file4.close()"
   ]
  },
  {
   "cell_type": "markdown",
   "id": "7dca6606-51c0-47e8-be17-d14060a5054c",
   "metadata": {},
   "source": [
    "Writelines():- The writelines() method accepts an iterable i.e. a string or the list of strings as an argument and writes these strings to the text file. "
   ]
  },
  {
   "cell_type": "code",
   "execution_count": 3,
   "id": "0da7f491-7fb2-4e8d-ad1d-702c26d7fc5d",
   "metadata": {},
   "outputs": [],
   "source": [
    "file4 =  open(\"test4.txt\",\"w\")\n",
    "file4.writelines([\"Rohit\",\"Rushil\",\"Ramesh\"])\n",
    "file4.close()"
   ]
  },
  {
   "cell_type": "code",
   "execution_count": null,
   "id": "3af3807a-6329-49bd-a0f2-3c7151624184",
   "metadata": {},
   "outputs": [],
   "source": []
  }
 ],
 "metadata": {
  "kernelspec": {
   "display_name": "Python 3 (ipykernel)",
   "language": "python",
   "name": "python3"
  },
  "language_info": {
   "codemirror_mode": {
    "name": "ipython",
    "version": 3
   },
   "file_extension": ".py",
   "mimetype": "text/x-python",
   "name": "python",
   "nbconvert_exporter": "python",
   "pygments_lexer": "ipython3",
   "version": "3.10.8"
  }
 },
 "nbformat": 4,
 "nbformat_minor": 5
}
